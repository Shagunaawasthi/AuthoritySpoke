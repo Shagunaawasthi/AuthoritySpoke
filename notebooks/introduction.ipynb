{
 "cells": [
  {
   "cell_type": "markdown",
   "metadata": {},
   "source": [
    "# A Brief Introduction to AuthoritySpoke\n",
    "\n",
    "> \"Details, unnumbered, shifting, sharp, disordered, unchartable, jagged.\"\n",
    ">\n",
    "> Llewellyn, Karl N. _The Bramble Bush: On Our Law and Its Study_ 106 (Quid Pro 2012) (1930).\n",
    "    \n",
    "AuthoritySpoke is a Python package for making legal analysis readable by both computers and humans.\n",
    "\n",
    "This notebook will provide an overview of AuthoritySpoke's most important features. Please remember that AuthoritySpoke is in an early alpha state, so many features have yet to be implemented, and some others have disappointing limits to their functionality."
   ]
  },
  {
   "cell_type": "markdown",
   "metadata": {},
   "source": [
    "## 1. Importing the Package\n",
    "\n",
    "Let's start by importing the package and its Opinion class. \n",
    "\n",
    "(When I capitalize a seemingly random word, it's probably because it's the name of an AuthoritySpoke class.)"
   ]
  },
  {
   "cell_type": "code",
   "execution_count": 1,
   "metadata": {},
   "outputs": [],
   "source": [
    "import authorityspoke\n",
    "from authorityspoke import Opinion"
   ]
  },
  {
   "cell_type": "markdown",
   "metadata": {},
   "source": [
    "If you executed that cell with no error messages, then it worked! \n",
    "\n",
    "If you got a message like `No module named 'authorityspoke'`, then AuthoritySpoke is probably not installed in your current Python environment. In that case, check the documentation for help."
   ]
  },
  {
   "cell_type": "markdown",
   "metadata": {},
   "source": [
    "## 2. Downloading Opinions\n",
    "\n",
    "Now we need some court opinions to load into AuthoritySpoke. We can collect these from the Case Access Project API, a project of the Harvard Law School Library Innovation Lab. To download full cases from CAP, you'll need to [register for an API key](https://case.law/user/register/). However, if you'd rather skip forward to the end of this section without interacting with the API, you can. There's already a copy of the files we're going to download in the example_data/opinions folder of this repository."
   ]
  },
  {
   "cell_type": "markdown",
   "metadata": {},
   "source": [
    "The CAP API limits users to downloading 500 full cases per day. If you accidentally make a query that returns hundreds of full cases, you could hit your limit before you know it. You should first try out your API queries without the \"full_case\": \"true\" parameter, and then only request full cases once you're confident you'll receive what you expect. To minimize the risk of revealing your API key to others, you can store it in an environment variable called CAP_API_KEY and then retrieve it as shown in the cell below."
   ]
  },
  {
   "cell_type": "code",
   "execution_count": 2,
   "metadata": {},
   "outputs": [],
   "source": [
    "import os\n",
    "\n",
    "CAP_API_KEY = os.environ['CAP_API_KEY']"
   ]
  },
  {
   "cell_type": "markdown",
   "metadata": {},
   "source": [
    "Next we need to choose which cases to download for our analysis.\n",
    "\n",
    "Let's download Oracle America v. Google (2014), a landmark opinion in which the Federal Circuit Court of Appeals held that the API declarations for the Java language were copyrightable. And since we'll want to compare the Oracle case to a related case, let's also download Lotus Development Corporation v. Borland International (1995). In that case, the First Circuit Court of Appeals held that the menu structure of a spreadsheet program called Lotus 1-2-3 was uncopyrightable because it was a \"method of operation\" under the Copyright Act. As we'll see, the Oracle case discusses and disagrees with the Lotus case.\n",
    "\n",
    "Citations\n",
    "* Oracle America v. Google: 750 F.3d 1339\n",
    "* Lotus Development Corporation v. Borland International: 49 F.3d 807"
   ]
  },
  {
   "cell_type": "code",
   "execution_count": 3,
   "metadata": {},
   "outputs": [],
   "source": [
    "oracle = Opinion.cap_download(cite=\"750 F.3d 1339\", filename=\"oracle_h.json\")"
   ]
  },
  {
   "cell_type": "markdown",
   "metadata": {},
   "source": [
    "Now we have a record representing the Oracle case, which has been saved to the example_data/opinions folder under the filename \"oracle_h.json\". (I included the \"h\" in the filename to remind me that this file came from the Harvard CAP API.) The data from the API has also been used to generate an AuthoritySpoke Opinion object assigned to the variable name \"oracle\", so let's look at it."
   ]
  },
  {
   "cell_type": "code",
   "execution_count": 4,
   "metadata": {},
   "outputs": [
    {
     "data": {
      "text/plain": [
       "Opinion(name='ORACLE AMERICA, INC., Plaintiff-Appellant, v. GOOGLE INC., Defendant-Cross-Appellant', name_abbreviation='Oracle America, Inc. v. Google Inc.', citations=('750 F.3d 1339',), first_page=1339, last_page=1381, decision_date=datetime.date(2014, 5, 9), court='fed-cir', position='majority', author=None)"
      ]
     },
     "execution_count": 4,
     "metadata": {},
     "output_type": "execute_result"
    }
   ],
   "source": [
    "oracle"
   ]
  },
  {
   "cell_type": "markdown",
   "metadata": {},
   "source": [
    "Yes, this is the case I expected. But if I had provided my API key and used the full_case flag, I could have received more information, like whether there are any non-majority opinions in the case, and the names of the opinion authors. So let's request both the Oracle and Lotus opinions with \"full_case\": \"true\"."
   ]
  },
  {
   "cell_type": "code",
   "execution_count": 5,
   "metadata": {},
   "outputs": [],
   "source": [
    "oracle = Opinion.cap_download(\n",
    "    cite=\"750 F.3d 1339\", \n",
    "    filename=\"oracle_h.json\", \n",
    "    full_case=True, \n",
    "    api_key=CAP_API_KEY)"
   ]
  },
  {
   "cell_type": "code",
   "execution_count": 6,
   "metadata": {},
   "outputs": [
    {
     "data": {
      "text/plain": [
       "Opinion(name='ORACLE AMERICA, INC., Plaintiff-Appellant, v. GOOGLE INC., Defendant-Cross-Appellant', name_abbreviation='Oracle America, Inc. v. Google Inc.', citations=('750 F.3d 1339',), first_page=1339, last_page=1381, decision_date=datetime.date(2014, 5, 9), court='fed-cir', position='majority', author='O’MALLEY, Circuit Judge.')"
      ]
     },
     "execution_count": 6,
     "metadata": {},
     "output_type": "execute_result"
    }
   ],
   "source": [
    "oracle"
   ]
  },
  {
   "cell_type": "code",
   "execution_count": 7,
   "metadata": {},
   "outputs": [],
   "source": [
    "lotus = Opinion.cap_download(\n",
    "    cite=\"49 F.3d 807\", \n",
    "    filename=\"lotus_h.json\", \n",
    "    full_case=True, \n",
    "    api_key=CAP_API_KEY)"
   ]
  },
  {
   "cell_type": "code",
   "execution_count": 8,
   "metadata": {},
   "outputs": [
    {
     "data": {
      "text/plain": [
       "[Opinion(name='LOTUS DEVELOPMENT CORPORATION, Plaintiff, Appellee, v. BORLAND INTERNATIONAL, INC., Defendant, Appellant', name_abbreviation='Lotus Development Corp. v. Borland International, Inc.', citations=('49 F.3d 807',), first_page=807, last_page=822, decision_date=datetime.date(1995, 3, 9), court='1st-cir', position='majority', author='STAHL, Circuit Judge.'),\n",
       " Opinion(name='LOTUS DEVELOPMENT CORPORATION, Plaintiff, Appellee, v. BORLAND INTERNATIONAL, INC., Defendant, Appellant', name_abbreviation='Lotus Development Corp. v. Borland International, Inc.', citations=('49 F.3d 807',), first_page=807, last_page=822, decision_date=datetime.date(1995, 3, 9), court='1st-cir', position='concurrence', author='BOUDIN, Circuit Judge')]"
      ]
     },
     "execution_count": 8,
     "metadata": {},
     "output_type": "execute_result"
    }
   ],
   "source": [
    "lotus"
   ]
  },
  {
   "cell_type": "markdown",
   "metadata": {},
   "source": [
    "When we queried the API for the Lotus case, we discovered that it had two opinions, a majority and a concurrence. Let's just work with the majority opinion."
   ]
  },
  {
   "cell_type": "code",
   "execution_count": 9,
   "metadata": {},
   "outputs": [],
   "source": [
    "lotus_majority = lotus[0]"
   ]
  },
  {
   "cell_type": "markdown",
   "metadata": {},
   "source": [
    "Finally, what should you do if you chose not to get an API key or were unable to create the Opinion objects from downloaded data? Use the following commands to create the Opinion objects from the files in the example_data/opinions folder.\n",
    "\n",
    "If you already did the steps above, you can skip the next cell and go to section 3."
   ]
  },
  {
   "cell_type": "code",
   "execution_count": 10,
   "metadata": {},
   "outputs": [],
   "source": [
    "oracle = Opinion.lead_opinion_from_file(\"oracle_h.json\")\n",
    "lotus_majority = Opinion.lead_opinion_from_file(\"lotus_h.json\")"
   ]
  },
  {
   "cell_type": "markdown",
   "metadata": {},
   "source": [
    "## 3. Expositing the Opinion"
   ]
  },
  {
   "cell_type": "markdown",
   "metadata": {},
   "source": [
    "Now we can link some legal analysis to each opinion by using its `exposit` method. The parameter we pass to this function is the name of a JSON file containing structured information about the legal holdings posited by the opinion. Sadly, the `exposit` method requires you to exposit the Opinion for the computer's benefit, not the other way around.\n",
    "\n",
    "A terminology note: When an Opinion asserts that a Rule is valid law, the Opinion **posits** the Rule and makes the Rule one of the Opinion's **holdings**. When you, as a reader, assert that an Opinion posited a Rule, you **exposit** the Opinion.\n",
    "\n",
    "Anyway, the example JSON files have already been created and AuthoritySpoke should find them when we call the `exposit` method."
   ]
  },
  {
   "cell_type": "code",
   "execution_count": 11,
   "metadata": {},
   "outputs": [],
   "source": [
    "oracle = oracle.exposit(\"holding_oracle.json\")\n",
    "lotus_majority = lotus_majority.exposit(\"holding_lotus.json\")"
   ]
  },
  {
   "cell_type": "markdown",
   "metadata": {},
   "source": [
    "Before we see what that did, let's look at the format of the holding JSON files we just loaded in.\n",
    "\n",
    "The top level of each of these JSON files has two fields: `\"mentioned_factors\"` and `\"holdings\"`. `\"mentioned_factors\"` is where you list the people, places, and things that need to be mentioned more than once to explain a holding. The reason you're listing these entities is so AuthoritySpoke will recognize that the same entities have been mentioned more than once in different contexts. Each of these entities has a `\"type\"` attribute, which will be the Python class name for the object that's created. You can use the generic type \"entity\", or the more specific subtypes \"association\", \"human\", or \"event\".\n",
    "\n",
    "Here's the `\"mentioned_factors\"` field from holding_oracle.json.\n",
    "\n",
    "```\n",
    "\"mentioned_factors\": [\n",
    "\n",
    "        {\n",
    "            \"type\": \"association\",\n",
    "            \"name\": \"Oracle America\"\n",
    "        },\n",
    "        {\n",
    "            \"type\": \"association\",\n",
    "            \"name\": \"Google\"\n",
    "        },\n",
    "        {\n",
    "            \"type\": \"association\",\n",
    "            \"name\": \"Sun Microsystems\"\n",
    "        },\n",
    "        {\n",
    "            \"type\": \"entity\",\n",
    "            \"name\": \"the Java API\"\n",
    "        },\n",
    "        {\n",
    "            \"type\": \"entity\",\n",
    "            \"name\": \"the Java language\"\n",
    "        }\n",
    "    ]\n",
    "```"
   ]
  },
  {
   "cell_type": "markdown",
   "metadata": {},
   "source": [
    "holding_oracle.json also contains a list of holdings. These are legal rules supported by the text of the Oracle opinion. Let's look at the part of holding_oracle.json that represents a single holding.\n",
    "\n",
    "Currently, AuthoritySpoke has a limited proof-of-concept function for linking Rules to the enactment text that they cite (e.g. statutes, constitutional provisions, and regulations), but AuthoritySpoke doesn't yet have the ability to link holdings to specific passages within an Opinion. In fact, it doesn't yet display the text of opinions at all. But the first holding in holding_oracle.json is derived from the following text in Oracle America v. Google:\n",
    "\n",
    "> By statute, a work must be “original” to qualify for copyright protection. 17 U.S.C. § 102(a).\n",
    "\n",
    "And that rule is represented in the JSON like this:\n",
    "\n",
    "```\n",
    "\"holdings\": [{\n",
    "        \"inputs\": {\n",
    "            \"type\": \"fact\",\n",
    "            \"content\": \"the Java API was an original work\",\n",
    "            \"truth\": false\n",
    "        },\n",
    "        \"outputs\": {\n",
    "            \"type\": \"fact\",\n",
    "            \"content\": \"the Java API was copyrightable\",\n",
    "            \"truth\": false\n",
    "        },\n",
    "        \"mandatory\": true,\n",
    "        \"enactments\": {\n",
    "            \"code\": \"usc17.xml\",\n",
    "            \"section\": \"102\",\n",
    "            \"subsection\": \"a\",\n",
    "            \"end\": \"machine or device.\",\n",
    "            \"name\": \"copyright protection provision\"\n",
    "        }\n",
    "    },\n",
    "    ...\n",
    "    ]\n",
    "```\n",
    "This JSON means that according to the cited enactment, if it's false that \"the Java API was an original work\", then it's mandatory for the court to find it to be false that \"the Java API was copyrightable\".\n",
    "\n",
    "As you can see, Rules in AuthoritySpoke can have `\"inputs\"` and `\"outputs\"`. Inputs are the preconditions for applying the Rule, and outputs are the results. Not shown here, Rules can also have `\"despite\"` Factors, which are Factors that don't need to be present to trigger the rule, but that don't prevent the rule from applying if they're present. There can be more than one Factor in the `\"inputs\"`, `\"outputs\"` or `\"despite\"` categories, and if so they would be listed together in square brackets in the JSON.\n",
    "\n",
    "The JSON representation of a Rule can also have `\"mandatory\"` and `\"universal\"` fields. If omitted, the values of these fields are implied as False. `\"universal\"` means that the Rule applies whenever its inputs are present. `\"mandatory\"` means that when Rule applies, the court has no discretion and must accept the outputs.\n",
    "\n",
    "The JSON can also contain fields representing Enactments. It identifies a passage of legislative text by naming the code where the passage can be found (which currently has to be a file in the example_data/codes directory) and then specifying a section and subsection. If the relevant passage isn't an entire section or subsection, `\"start\"` and `\"end\"` phrases can identify where the passage begins or ends. The `\"name\"` field is simply a nickname that can be used to refer to the passage again later in the same file.\n",
    "\n",
    "There can also be an `\"enactments_despite\"` field, which identifies legislative text that doesn't need to be present for the Rule to apply, but that also doesn't negate the validity of the Rule."
   ]
  },
  {
   "cell_type": "markdown",
   "metadata": {},
   "source": [
    "## 4. Viewing an Opinion's Holdings"
   ]
  },
  {
   "cell_type": "markdown",
   "metadata": {},
   "source": [
    "If you take a look in holding_oracle.json, you'll see that there are 20 holdings. (You can verify this by checking how many times the string \"inputs\" appears in the file.)\n",
    "\n",
    "Lets make sure that the .exposit() method added all of those holdings to our oracle Opinion object."
   ]
  },
  {
   "cell_type": "code",
   "execution_count": 12,
   "metadata": {},
   "outputs": [
    {
     "data": {
      "text/plain": [
       "20"
      ]
     },
     "execution_count": 12,
     "metadata": {},
     "output_type": "execute_result"
    }
   ],
   "source": [
    "len(oracle.holdings)"
   ]
  },
  {
   "cell_type": "markdown",
   "metadata": {},
   "source": [
    "Now let's see the string representation of the AuthoritySpoke Rule object we created from the structured JSON we saw above."
   ]
  },
  {
   "cell_type": "code",
   "execution_count": 13,
   "metadata": {},
   "outputs": [
    {
     "name": "stdout",
     "output_type": "stream",
     "text": [
      "the rule that the court MUST SOMETIMES accept the result\n",
      "RESULT: fact it is false that <the Java API> was copyrightable\n",
      "based on the input\n",
      "GIVEN: fact it is false that <the Java API> was an original work\n",
      "according to the legislation\n",
      "GIVEN: \"Copyright protection subsists, in accordance with this title, in original works of authorship fixed in any tangible medium of expression, now known or later developed, from which they can be perceived, reproduced, or otherwise communicated, either directly or with the aid of a machine or device.\" (USC Title 17, 102)\n",
      "\n"
     ]
    }
   ],
   "source": [
    "print(oracle.holdings[0])"
   ]
  },
  {
   "cell_type": "markdown",
   "metadata": {},
   "source": [
    "I'd like to find ways to make this format easier to read, but for now let's try to pick it apart.\n",
    "\n",
    "Instead of the terms \"input\" and \"output\" we saw in the JSON file, we now have \"GIVEN\" and \"RESULT\". And the \"RESULT\" comes first, because it's hard to understand anything else about a legal rule until you understand what it does. Also, notice that the word \"GIVEN\" also precedes the statute citation. Was the reuse of the word \"GIVEN\" useful to remind you that the existence of the statutory text is one of the preconditions for applying the Rule? Or did you just find it confusing?\n",
    "\n",
    "It's also important to notice that a Rule can be purely hypothetical from the point of view of the Opinion that posits it. In this case, the court finds that there would be a certain legal significance if it was \"GIVEN\" that `it is false that <the Java API> was an original work`, but the court isn't going to find that precondition applies, so it's also not going to accept the result `it is false that <the Java API> was copyrightable`.\n"
   ]
  },
  {
   "cell_type": "markdown",
   "metadata": {},
   "source": [
    "We can also access just the inputs of a Rule, just the Enactments, etc."
   ]
  },
  {
   "cell_type": "code",
   "execution_count": 14,
   "metadata": {},
   "outputs": [
    {
     "data": {
      "text/plain": [
       "(Fact(predicate=Predicate(content='{} was an original work', truth=False, reciprocal=False, comparison=None, quantity=None), context_factors=(Entity(name='the Java API', generic=True, plural=False),), name=None, standard_of_proof=None, absent=False, generic=False, case_factors=()),)"
      ]
     },
     "execution_count": 14,
     "metadata": {},
     "output_type": "execute_result"
    }
   ],
   "source": [
    "oracle.holdings[0].inputs"
   ]
  },
  {
   "cell_type": "code",
   "execution_count": 15,
   "metadata": {},
   "outputs": [
    {
     "data": {
      "text/plain": [
       "(Enactment(code=<authorityspoke.enactments.Code object at 0x113424828>, section='102', subsection='a', start=None, end='machine or device.', name='copyright protection provision'),)"
      ]
     },
     "execution_count": 15,
     "metadata": {},
     "output_type": "execute_result"
    }
   ],
   "source": [
    "oracle.holdings[0].enactments"
   ]
  },
  {
   "cell_type": "markdown",
   "metadata": {},
   "source": [
    "## 5. Generic Factors\n",
    "\n",
    "The two instances of the phrase \"the Java API\" are in angle brackets because that phrase is one of the `\"mentioned_factors\"` we defined in the JSON. More specifically, the angle brackets are there because \"Entity\" objects are considered \"generic\" by default, and we didn't specify otherwise."
   ]
  },
  {
   "cell_type": "code",
   "execution_count": 16,
   "metadata": {},
   "outputs": [
    {
     "data": {
      "text/plain": [
       "[Entity(name='the Java API', generic=True, plural=False)]"
      ]
     },
     "execution_count": 16,
     "metadata": {},
     "output_type": "execute_result"
    }
   ],
   "source": [
    "oracle.holdings[0].generic_factors"
   ]
  },
  {
   "cell_type": "markdown",
   "metadata": {},
   "source": [
    "A generic Entity is \"generic\" in the sense that in the context of the Factor or Rule where the Entity appears, it could be replaced with some other Entity without changing the meaning.\n",
    "\n",
    "To imagine applying the same rule in a different copyright case, let's try creating a new Rule that's the same as the original, except instead of using 'the Java API' as its generic Entity, we'll use 'Nosferatu'."
   ]
  },
  {
   "cell_type": "code",
   "execution_count": 17,
   "metadata": {},
   "outputs": [],
   "source": [
    "from authorityspoke import Entity\n",
    "\n",
    "nosferatu_rule = oracle.holdings[0].new_context(\n",
    "    {Entity('the Java API'): Entity('Nosferatu')}\n",
    ")"
   ]
  },
  {
   "cell_type": "markdown",
   "metadata": {},
   "source": [
    "In AuthoritySpoke, Rule and Factor objects are \"frozen\" objects, which means Python will try to prevent you from modifying the object after it has been created. The `new_context` method returns a new Rule object, which we've assigned to the name `nosferatu_rule`, but the Rule that we used as a basis for the new object also still exists, and it's unchanged."
   ]
  },
  {
   "cell_type": "code",
   "execution_count": 18,
   "metadata": {},
   "outputs": [
    {
     "name": "stdout",
     "output_type": "stream",
     "text": [
      "the rule that the court MUST SOMETIMES accept the result\n",
      "RESULT: fact it is false that <the Java API> was copyrightable\n",
      "based on the input\n",
      "GIVEN: fact it is false that <the Java API> was an original work\n",
      "according to the legislation\n",
      "GIVEN: \"Copyright protection subsists, in accordance with this title, in original works of authorship fixed in any tangible medium of expression, now known or later developed, from which they can be perceived, reproduced, or otherwise communicated, either directly or with the aid of a machine or device.\" (USC Title 17, 102)\n",
      "\n",
      "the rule that the court MUST SOMETIMES accept the result\n",
      "RESULT: fact it is false that <Nosferatu> was copyrightable\n",
      "based on the input\n",
      "GIVEN: fact it is false that <Nosferatu> was an original work\n",
      "according to the legislation\n",
      "GIVEN: \"Copyright protection subsists, in accordance with this title, in original works of authorship fixed in any tangible medium of expression, now known or later developed, from which they can be perceived, reproduced, or otherwise communicated, either directly or with the aid of a machine or device.\" (USC Title 17, 102)\n",
      "\n"
     ]
    }
   ],
   "source": [
    "print(oracle.holdings[0])\n",
    "print(nosferatu_rule)"
   ]
  },
  {
   "cell_type": "markdown",
   "metadata": {},
   "source": [
    "Even though these Rules have different generic Factors, they evaluate equal to one another because they have the same meaning."
   ]
  },
  {
   "cell_type": "code",
   "execution_count": 19,
   "metadata": {},
   "outputs": [
    {
     "data": {
      "text/plain": [
       "True"
      ]
     },
     "execution_count": 19,
     "metadata": {},
     "output_type": "execute_result"
    }
   ],
   "source": [
    "oracle.holdings[0] == nosferatu_rule"
   ]
  },
  {
   "cell_type": "markdown",
   "metadata": {},
   "source": [
    "## 6. Enactment Objects and Implication"
   ]
  },
  {
   "cell_type": "markdown",
   "metadata": {},
   "source": [
    "Let's look at the attributes of the Enactment object for this Rule."
   ]
  },
  {
   "cell_type": "code",
   "execution_count": 20,
   "metadata": {},
   "outputs": [
    {
     "data": {
      "text/plain": [
       "Enactment(code=<authorityspoke.enactments.Code object at 0x113424828>, section='102', subsection='a', start=None, end='machine or device.', name='copyright protection provision')"
      ]
     },
     "execution_count": 20,
     "metadata": {},
     "output_type": "execute_result"
    }
   ],
   "source": [
    "copyright_provision = oracle.holdings[0].enactments[0]\n",
    "copyright_provision"
   ]
  },
  {
   "cell_type": "markdown",
   "metadata": {},
   "source": [
    "The Enactment object refers to a Code object, which is an instance of an AuthoritySpoke class representing a code of laws."
   ]
  },
  {
   "cell_type": "code",
   "execution_count": 21,
   "metadata": {},
   "outputs": [
    {
     "name": "stdout",
     "output_type": "stream",
     "text": [
      "USC Title 17\n"
     ]
    }
   ],
   "source": [
    "usc = copyright_provision.code\n",
    "print(usc)"
   ]
  },
  {
   "cell_type": "markdown",
   "metadata": {},
   "source": [
    "Let's try creating a new Enactment object representing a shorter passage of text from the same Code."
   ]
  },
  {
   "cell_type": "code",
   "execution_count": 22,
   "metadata": {},
   "outputs": [],
   "source": [
    "from authorityspoke import Enactment\n",
    "\n",
    "works_of_authorship_clause = Enactment(\n",
    "                code=usc,\n",
    "                section=102,\n",
    "                subsection=\"a\",\n",
    "                end=\"works of authorship\"\n",
    ")"
   ]
  },
  {
   "cell_type": "markdown",
   "metadata": {},
   "source": [
    "Now we can create a new Rule object that cites to our new Enactment object rather than the old one. This time, instead of using the `new_context` method to create a new Rule object, we'll use the `evolve` method. With the `evolve` method, instead of specifying Factors that should be replaced wherever they're found, we specify which attributes from the Rule object's `__init__` method we want to replace, and then specify what we want to replace those attributes' old values with."
   ]
  },
  {
   "cell_type": "code",
   "execution_count": 23,
   "metadata": {},
   "outputs": [],
   "source": [
    "rule_with_shorter_enactment = oracle.holdings[0].evolve(\n",
    "            {\"enactments\": works_of_authorship_clause}\n",
    "        )"
   ]
  },
  {
   "cell_type": "code",
   "execution_count": 24,
   "metadata": {},
   "outputs": [
    {
     "name": "stdout",
     "output_type": "stream",
     "text": [
      "the rule that the court MUST SOMETIMES accept the result\n",
      "RESULT: fact it is false that <the Java API> was copyrightable\n",
      "based on the input\n",
      "GIVEN: fact it is false that <the Java API> was an original work\n",
      "according to the legislation\n",
      "GIVEN: \"Copyright protection subsists, in accordance with this title, in original works of authorship\" (USC Title 17, 102)\n",
      "\n"
     ]
    }
   ],
   "source": [
    "print(rule_with_shorter_enactment)"
   ]
  },
  {
   "cell_type": "markdown",
   "metadata": {},
   "source": [
    "Now let's try comparing this new Rule with the real Rule from the Oracle case, to see whether one implies the other. When you're comparing AuthoritySpoke objects, the greater than sign `>` means \"implies, but is not equal to\"."
   ]
  },
  {
   "cell_type": "code",
   "execution_count": 25,
   "metadata": {},
   "outputs": [
    {
     "data": {
      "text/plain": [
       "True"
      ]
     },
     "execution_count": 25,
     "metadata": {},
     "output_type": "execute_result"
    }
   ],
   "source": [
    "rule_with_shorter_enactment > oracle.holdings[0]"
   ]
  },
  {
   "cell_type": "markdown",
   "metadata": {},
   "source": [
    "You can also use the greater than or equal sign `>=` to mean \"implies or is equal to\". In logic, it's common to say that identical statements also imply one another, so that would mean `>=` is the symbol that really means \"implies\"."
   ]
  },
  {
   "cell_type": "code",
   "execution_count": 26,
   "metadata": {},
   "outputs": [
    {
     "data": {
      "text/plain": [
       "False"
      ]
     },
     "execution_count": 26,
     "metadata": {},
     "output_type": "execute_result"
    }
   ],
   "source": [
    "oracle.holdings[0] >= rule_with_shorter_enactment"
   ]
  },
  {
   "cell_type": "markdown",
   "metadata": {},
   "source": [
    "By comparing the string representations of the original Rule from the Oracle case and `rule_with_shorter_enactment`, can you tell why the latter implies the former, and not the other way around?\n",
    "\n",
    "If you guessed that it was because `rule_with_shorter_enactment` has a shorter Enactment, you're right. Rules that require fewer, or less specific, inputs are _broader_ than Rules that have more inputs, because there's a larger set of situations where those Rules can be triggered.\n",
    "\n",
    "If this relationship isn't clear to you, imagine some \"Enactment A\" containing only a subset of the text of \"Enactment B\", and then imagine what would happen if a legislature amended some of the statutory text that was part of Enactment B but not of Enactment A. A requirement to cite Enactment B would no longer be possible to satisfy, because some of that text would no longer be available. Thus a requirement to cite Enactment A could be satisfied in every situation where a requirement to cite Enactment B could be satisfied, and then some."
   ]
  },
  {
   "cell_type": "markdown",
   "metadata": {},
   "source": [
    "## 7. Contradictions Between Rules"
   ]
  },
  {
   "cell_type": "markdown",
   "metadata": {},
   "source": [
    "So far we've only looked at one real holding, so let's look at a significant holding from the Lotus case.\n",
    "\n",
    "It says that under a statute providing that \"In no case does copyright protection for an original work of authorship extend to any...method of operation\", the fact that a Lotus menu command hierarchy was a \"method of operation\" meant that it was also uncopyrightable, despite a couple of Facts that might tempt some courts to rule the other way."
   ]
  },
  {
   "cell_type": "code",
   "execution_count": 27,
   "metadata": {
    "scrolled": false
   },
   "outputs": [
    {
     "name": "stdout",
     "output_type": "stream",
     "text": [
      "the rule that the court MUST ALWAYS accept the result\n",
      "RESULT: fact it is false that <the Lotus menu command hierarchy> was copyrightable\n",
      "based on the input\n",
      "GIVEN: fact <the Lotus menu command hierarchy> was a method of operation\n",
      "DESPITE: fact a text described <the Lotus menu command hierarchy>\n",
      "DESPITE: fact <the Lotus menu command hierarchy> was an original work\n",
      "according to the legislation\n",
      "GIVEN: \"In no case does copyright protection for an original work of authorship extend to any\" (USC Title 17, 102)\n",
      "GIVEN: \"method of operation\" (USC Title 17, 102)\n",
      "\n"
     ]
    }
   ],
   "source": [
    "print(lotus_majority.holdings[8])"
   ]
  },
  {
   "cell_type": "markdown",
   "metadata": {},
   "source": [
    "Lotus was a case relied upon by Google in the Oracle v. Google case, but Oracle was the winner in that decision. So we might wonder whether the Oracle Opinion contradicts the Lotus Opinion. Let's check."
   ]
  },
  {
   "cell_type": "code",
   "execution_count": 28,
   "metadata": {},
   "outputs": [
    {
     "data": {
      "text/plain": [
       "True"
      ]
     },
     "execution_count": 28,
     "metadata": {},
     "output_type": "execute_result"
    }
   ],
   "source": [
    "oracle.contradicts(lotus_majority)"
   ]
  },
  {
   "cell_type": "markdown",
   "metadata": {},
   "source": [
    "Good to know! But maybe we want more detail than that. Let's check each Rule posited by the Oracle case to see whether it contradicts lotus_majority.holdings[8]."
   ]
  },
  {
   "cell_type": "code",
   "execution_count": 29,
   "metadata": {},
   "outputs": [
    {
     "name": "stdout",
     "output_type": "stream",
     "text": [
      "00 False\n",
      "01 False\n",
      "02 False\n",
      "03 False\n",
      "04 False\n",
      "05 False\n",
      "06 False\n",
      "07 False\n",
      "08 False\n",
      "09 False\n",
      "10 True\n",
      "11 False\n",
      "12 False\n",
      "13 False\n",
      "14 False\n",
      "15 False\n",
      "16 False\n",
      "17 False\n",
      "18 False\n",
      "19 False\n"
     ]
    }
   ],
   "source": [
    "for index, oracle_rule in enumerate(oracle.holdings):\n",
    "    print(f'{index:02} {oracle_rule.contradicts(lotus_majority.holdings[8])}')"
   ]
  },
  {
   "cell_type": "markdown",
   "metadata": {},
   "source": [
    "It looks like the Rule at index 10 of oracle.holdings contradicts the Lotus court's Rule.\n",
    "Let's read it and see if we can spot the contradiction."
   ]
  },
  {
   "cell_type": "code",
   "execution_count": 30,
   "metadata": {},
   "outputs": [
    {
     "name": "stdout",
     "output_type": "stream",
     "text": [
      "the rule that the court MUST SOMETIMES accept the result\n",
      "RESULT: fact <the Java API> was copyrightable\n",
      "based on the input\n",
      "GIVEN: fact <the Java language> was a computer program\n",
      "GIVEN: fact <the Java API> was a set of application programming interface declarations\n",
      "GIVEN: fact <the Java API> was an original work\n",
      "GIVEN: fact <the Java API> was a non-literal element of <the Java language>\n",
      "GIVEN: fact <the Java API> was the expression of an idea\n",
      "GIVEN: fact it is false that <the Java API> was essentially the only way to express the idea that it embodied\n",
      "GIVEN: fact <the Java API> was creative\n",
      "GIVEN: fact it was possible to use <the Java language> without copying <the Java API>\n",
      "DESPITE: fact <the Java API> was a method of operation\n",
      "DESPITE: fact <the Java API> contained short phrases\n",
      "DESPITE: fact <the Java API> became so popular that it was the industry standard\n",
      "DESPITE: fact there was a preexisting community of programmers accustomed to using <the Java API>\n",
      "according to the legislation\n",
      "GIVEN: \"Copyright protection subsists, in accordance with this title, in original works of authorship fixed in any tangible medium of expression, now known or later developed, from which they can be perceived, reproduced, or otherwise communicated, either directly or with the aid of a machine or device.\" (USC Title 17, 102)\n",
      "and despite the legislation\n",
      "DESPITE: \"In no case does copyright protection for an original work of authorship extend to any\" (USC Title 17, 102)\n",
      "DESPITE: \"method of operation\" (USC Title 17, 102)\n",
      "DESPITE: \"The following are examples of works not subject to copyright and applications for registration of such works cannot be entertained:(a) Words and short phrases such as names, titles, and slogans\" (Code of Federal Regulations Title 37, 202.1)\n",
      "\n"
     ]
    }
   ],
   "source": [
    "print(oracle.holdings[10])"
   ]
  },
  {
   "cell_type": "markdown",
   "metadata": {},
   "source": [
    "That's quite a bit of detail. It's good that our computers are going to be able to read these things for us!\n",
    "\n",
    "The first obvious contrast between `lotus_majority.holdings[8]` and `oracle.holdings[10]` is that the Rule from the Lotus case is relatively succinct and categorical. The Lotus court interprets Section 102(b) of the Copyright Act to mean that if a work is a \"method of operation\", it's simply impossible for that work to be copyrighted, so it's not necessary to consider a lot of case-specific facts to reach a conclusion.\n",
    "\n",
    "The Federal Circuit's Oracle decision complicates that view significantly. The Federal Circuit believes that the fact that an API is, or hypothetically might be, a \"method of operation\" is only one of many factors that a court can consider in deciding copyrightability. The following quotation, repeated in the Oracle case, illustrates the Federal Circuit's view.\n",
    "\n",
    "> “Section 102(b) does not extinguish the protection accorded a particular expression of an idea merely because that expression is embodied in a method of operation.” Mitel, Inc. v. Iqtel, Inc., 124 F.3d 1366, 1372 (10th Cir.1997)\n",
    "\n",
    "And that's why AuthoritySpoke finds a contradiction between these two Rules. The Oracle opinion says that courts can sometimes accept the result `fact <the Java API> was copyrightable` despite the fact `<the Java API> was a method of operation`. The Lotus Opinion would consider that impossible.\n",
    "\n",
    "By the way, AuthoritySpoke isn't applying any fancy grammatical parsing to understand the meaning of each Factor. AuthoritySpoke won't recognize that Factors' meanings are related in any way unless their `content` values are exactly the same string, with the exception of references to generic entities. (And also an optional numeric value that can come at the end of the string, which isn't demonstrated in this notebook.)"
   ]
  },
  {
   "cell_type": "markdown",
   "metadata": {},
   "source": [
    "## 8. Nuances of Meaning in Rules"
   ]
  },
  {
   "cell_type": "markdown",
   "metadata": {},
   "source": [
    "Let's look at one more sentence from the Oracle Opinion, so I can point out a few more design decisions AuthoritySpoke makes in representing procedural Rules.\n",
    "\n",
    "> In the Ninth Circuit, while questions regarding originality are considered questions of copyrightability, concepts of merger and scenes a faire are affirmative defenses to claims of infringement.\n",
    "\n",
    "(The \"merger\" doctrine says that a work is deemed to be \"merged\" with an uncopyrightable idea if it's essentially the only way to express the idea. \"Scenes a faire\" is a concept applied mostly to works of fiction, and it means that conventional genre tropes are not copyrightable.)\n",
    "\n",
    "The quoted sentence is fairly ordinary, as court opinions go, but I found several interesting challenges in creating structered data about its procedural meaning.\n",
    "\n",
    "1. The sentence describes what the law is \"In the Ninth Circuit\". You might remember that the court that issued the Oracle opinion was the Federal Circuit, not the Ninth Circuit. So the Federal Circuit is deciding what it thinks that the Ninth Circuit thinks that Congress meant by enacting the statute. The middle layer of this interpretation, in which the Federal Circuit attributes a belief to the Ninth Circuit, is simply absent from the AuthoritySpoke model of the Rule. However, future updates to AuthoritySpoke might make it possible to capture this information.\n",
    "\n",
    "2. The sentence uses the concept of an \"affirmative defense\", which generally means a defense that the defendant has the burden of proof to establish. I chose to model this concept by writing that if one of the facts that would establish the affirmative defense is present, then it could be established that the copyright was not infringed, but if they are both absent, then the copyright could have been infringed. I'm sure some legal experts would find this too simplistic, and would argue that it's not possible to formalize the concept of an affirmative defense without explicitly mentioning procedural concepts like a burden of proof.\n",
    "\n",
    "3. The sentence seems to have something to say about what happens if either of two Factors are present, or if both of them are absent. That makes three different Rules. It's not ideal for one sentence to explode into multiple different Python objects when it's formalized, and it's worth wondering whether there would have been a way to pack all the information into a single object. \n",
    "\n",
    "4. I noticed that the concept of a copyrighted work being \"merged\" or being a \"scene a faire\" are both characteristics intrinsic in the copyrighted work, and don't depend on the characteristics of the allegedly infringing work. So if a work that's \"merged\" or is a \"scene a faire\" can't be infringed, that means there are some works that are \"copyrightable\" but that can never be infringed by any other work. I suspect that the court's interpretation of these legal categories could confuse future courts and parties, with the result that the \"merger\" or \"scene a faire\" concepts could fall through the cracks and be ignored. Would there be a useful way to have AuthoritySpoke flag the issue that a conclusion about two different Entities is being based on Factors that only relate to one of those two Entities?\n",
    "\n",
    "The three Rule objects used to represent the sentence from the Oracle opinion can be found in the Appendix below. They're `oracle.holdings[11]` through `oracle.holdings[13]`."
   ]
  },
  {
   "cell_type": "markdown",
   "metadata": {},
   "source": [
    "## Appendix: Rule Objects in *Oracle v. Google* and *Lotus v. Borland*"
   ]
  },
  {
   "cell_type": "markdown",
   "metadata": {},
   "source": [
    "This Appendix will list all of the Rule objects in `oracle.holdings` and `lotus_majority.holdings`. Each Rule will be preceded by a passage from the Opinion that indicates the Opinion has endorsed the Rule. Eventually, I'd like to add a command to link Rules to Opinion text within AuthoritySpoke itself, but that's currently not available.\n",
    "\n",
    "To find the full text of the opinions, look in the example_data/opinions/ folder. The text delivered by the CAP API was collected from print sources, so it will contain some Optical Character Recognition errors."
   ]
  },
  {
   "cell_type": "markdown",
   "metadata": {},
   "source": [
    "### *Lotus v. Borland* 49 F.3d 807 (1995)"
   ]
  },
  {
   "cell_type": "markdown",
   "metadata": {},
   "source": [
    "> To establish copyright infringement, a plaintiff must prove \"(1) ownership of a valid copyright, and (2) copying of constituent elements of the work that are original.\""
   ]
  },
  {
   "cell_type": "code",
   "execution_count": 31,
   "metadata": {},
   "outputs": [
    {
     "name": "stdout",
     "output_type": "stream",
     "text": [
      "the rule that the court MAY SOMETIMES accept the result\n",
      "RESULT: fact <Borland International> infringed the copyright in <the Lotus menu command hierarchy>\n",
      "based on the input\n",
      "GIVEN: fact <the Lotus menu command hierarchy> was copyrightable\n",
      "GIVEN: fact <Borland International> copied constituent elements of <the Lotus menu command hierarchy> that were original\n",
      "according to the legislation\n",
      "GIVEN: \"Copyright protection subsists, in accordance with this title, in original works of authorship fixed in any tangible medium of expression, now known or later developed, from which they can be perceived, reproduced, or otherwise communicated, either directly or with the aid of a machine or device.\" (USC Title 17, 102)\n",
      "\n",
      "the rule that the court MAY ALWAYS accept the result\n",
      "RESULT: absence of fact <Borland International> infringed the copyright in <the Lotus menu command hierarchy>\n",
      "based on the input\n",
      "GIVEN: absence of fact <the Lotus menu command hierarchy> was copyrightable\n",
      "according to the legislation\n",
      "GIVEN: \"Copyright protection subsists, in accordance with this title, in original works of authorship fixed in any tangible medium of expression, now known or later developed, from which they can be perceived, reproduced, or otherwise communicated, either directly or with the aid of a machine or device.\" (USC Title 17, 102)\n",
      "\n",
      "the rule that the court MAY ALWAYS accept the result\n",
      "RESULT: absence of fact <Borland International> infringed the copyright in <the Lotus menu command hierarchy>\n",
      "based on the input\n",
      "GIVEN: absence of fact <Borland International> copied constituent elements of <the Lotus menu command hierarchy> that were original\n",
      "according to the legislation\n",
      "GIVEN: \"Copyright protection subsists, in accordance with this title, in original works of authorship fixed in any tangible medium of expression, now known or later developed, from which they can be perceived, reproduced, or otherwise communicated, either directly or with the aid of a machine or device.\" (USC Title 17, 102)\n",
      "\n"
     ]
    }
   ],
   "source": [
    "print(lotus_majority.holdings[0])\n",
    "print(lotus_majority.holdings[1])\n",
    "print(lotus_majority.holdings[2])"
   ]
  },
  {
   "cell_type": "markdown",
   "metadata": {},
   "source": [
    "> In judicial proceedings, a certificate of copyright registration constitutes prima facie evidence of copyrightability and shifts the burden to the defendant to demonstrate why the copyright is not valid."
   ]
  },
  {
   "cell_type": "code",
   "execution_count": 32,
   "metadata": {},
   "outputs": [
    {
     "name": "stdout",
     "output_type": "stream",
     "text": [
      "the rule that the court MAY SOMETIMES accept the result\n",
      "RESULT: fact <the Lotus menu command hierarchy> was copyrightable\n",
      "based on the input\n",
      "GIVEN: evidence of certificate of copyright registration, which supports fact <Lotus Development Corporation> registered a copyright covering <the Lotus menu command hierarchy>\n",
      "GIVEN: absence of fact it is false that <the Lotus menu command hierarchy> was copyrightable\n",
      "according to the legislation\n",
      "GIVEN: \"In any judicial proceedings the certificate of a registration made before or within five years after first publication of the work shall constitute prima facie evidence of the validity of the copyright and of the facts stated in the certificate. The evidentiary weight to be accorded the certificate of a registration made thereafter shall be within the discretion of the court.\" (USC Title 17, 410)\n",
      "\n"
     ]
    }
   ],
   "source": [
    "print(lotus_majority.holdings[4])"
   ]
  },
  {
   "cell_type": "markdown",
   "metadata": {},
   "source": [
    "> To show actionable copying and therefore satisfy Feist’s second prong, a plaintiff must first prove that the alleged infringer copied plaintiffs copyrighted work as a factual matter; to do this, he or she may either present direct evidence of factual copying or..."
   ]
  },
  {
   "cell_type": "code",
   "execution_count": 33,
   "metadata": {},
   "outputs": [
    {
     "name": "stdout",
     "output_type": "stream",
     "text": [
      "the rule that the court MAY SOMETIMES accept the result\n",
      "RESULT: fact <Borland International> copied <the Lotus menu command hierarchy> in creating <Quattro's Lotus Emulation Interface>\n",
      "based on the input\n",
      "GIVEN: evidence which supports fact <Borland International> copied <the Lotus menu command hierarchy> in creating <Quattro's Lotus Emulation Interface>\n",
      "according to the legislation\n",
      "GIVEN: \"Copyright protection subsists, in accordance with this title, in original works of authorship fixed in any tangible medium of expression, now known or later developed, from which they can be perceived, reproduced, or otherwise communicated, either directly or with the aid of a machine or device.\" (USC Title 17, 102)\n",
      "\n"
     ]
    }
   ],
   "source": [
    "print(lotus_majority.holdings[5])"
   ]
  },
  {
   "cell_type": "markdown",
   "metadata": {},
   "source": [
    "> To show actionable copying and therefore satisfy Feist’s second prong, a plaintiff must first prove that the alleged infringer copied plaintiffs copyrighted work as a factual matter; to do this, he or she may either present direct evidence of factual copying or, if that is unavailable, evidence that the alleged infringer had access to the copyrighted work and that the offending and copyrighted works are so similar that the court may infer that there was factual copying (i.e., probative similarity)."
   ]
  },
  {
   "cell_type": "code",
   "execution_count": 34,
   "metadata": {},
   "outputs": [
    {
     "name": "stdout",
     "output_type": "stream",
     "text": [
      "the rule that the court MAY SOMETIMES accept the result\n",
      "RESULT: fact <Borland International> copied <the Lotus menu command hierarchy> in creating <Quattro's Lotus Emulation Interface>\n",
      "based on the input\n",
      "GIVEN: evidence which supports fact <Borland International> had access to <the Lotus menu command hierarchy>\n",
      "GIVEN: fact <Borland International> published <Quattro's Lotus Emulation Interface>\n",
      "GIVEN: evidence which supports fact <Quattro's Lotus Emulation Interface> was very similar to <the Lotus menu command hierarchy>\n",
      "according to the legislation\n",
      "GIVEN: \"Copyright protection subsists, in accordance with this title, in original works of authorship fixed in any tangible medium of expression, now known or later developed, from which they can be perceived, reproduced, or otherwise communicated, either directly or with the aid of a machine or device.\" (USC Title 17, 102)\n",
      "\n"
     ]
    }
   ],
   "source": [
    "print(lotus_majority.holdings[6])"
   ]
  },
  {
   "cell_type": "markdown",
   "metadata": {},
   "source": [
    "> To show actionable copying and therefore satisfy Feist’s second prong, a plaintiff must first prove that the alleged infringer copied plaintiffs copyrighted work as a factual matter...The plaintiff must then prove that the copying of copyrighted material was so extensive that it rendered the offending and copyrighted works substantially similar."
   ]
  },
  {
   "cell_type": "code",
   "execution_count": 35,
   "metadata": {},
   "outputs": [
    {
     "name": "stdout",
     "output_type": "stream",
     "text": [
      "the rule that the court MAY SOMETIMES accept the result\n",
      "RESULT: fact <Borland International> copied constituent elements of <the Lotus menu command hierarchy> that were original\n",
      "based on the input\n",
      "GIVEN: fact <Borland International> copied <the Lotus menu command hierarchy> in creating <Quattro's Lotus Emulation Interface>\n",
      "GIVEN: fact the copying of <Quattro's Lotus Emulation Interface> in <the Lotus menu command hierarchy> was so extensive that it rendered them substantially similar\n",
      "according to the legislation\n",
      "GIVEN: \"Copyright protection subsists, in accordance with this title, in original works of authorship fixed in any tangible medium of expression, now known or later developed, from which they can be perceived, reproduced, or otherwise communicated, either directly or with the aid of a machine or device.\" (USC Title 17, 102)\n",
      "\n"
     ]
    }
   ],
   "source": [
    "print(lotus_majority.holdings[7])"
   ]
  },
  {
   "cell_type": "markdown",
   "metadata": {},
   "source": [
    "> Section 102(b) states: “In no case does copyright protection for an original work of authorship extend to any idea, procedure, process, system, method of operation, concept, principle, or discovery, regardless of the form in which it is described, explained, illustrated, or embodied in such work.” Because we conclude that the Lotus menu command hierarchy is a method of operation, we do not consider whether it could also be a system, process, or procedure...while original expression is necessary for copyright protection, we do not think that it is alone sufficient. Courts must still inquire whether original expression falls within one of the categories foreclosed from copyright protection by § 102(b), such as being a “method of operation.”"
   ]
  },
  {
   "cell_type": "code",
   "execution_count": 36,
   "metadata": {},
   "outputs": [
    {
     "name": "stdout",
     "output_type": "stream",
     "text": [
      "the rule that the court MUST ALWAYS accept the result\n",
      "RESULT: fact it is false that <the Lotus menu command hierarchy> was copyrightable\n",
      "based on the input\n",
      "GIVEN: fact <the Lotus menu command hierarchy> was a method of operation\n",
      "DESPITE: fact a text described <the Lotus menu command hierarchy>\n",
      "DESPITE: fact <the Lotus menu command hierarchy> was an original work\n",
      "according to the legislation\n",
      "GIVEN: \"In no case does copyright protection for an original work of authorship extend to any\" (USC Title 17, 102)\n",
      "GIVEN: \"method of operation\" (USC Title 17, 102)\n",
      "\n"
     ]
    }
   ],
   "source": [
    "print(lotus_majority.holdings[8])"
   ]
  },
  {
   "cell_type": "markdown",
   "metadata": {},
   "source": [
    "> We hold that the Lotus menu command hierarchy is an uneopyrightable “method of operation.” The Lotus menu command hierarchy provides the means by which users control and operate Lotus 1-2-3. If users wish to copy material, for example, they use the “Copy” command. If users wish to print material, they use the “Print” command. Users must use the command terms to tell the computer what to do. Without the menu command hierarchy, users would not be able to access and control, or indeed make use of, Lotus 1-2-3’s functional capabilities."
   ]
  },
  {
   "cell_type": "code",
   "execution_count": 37,
   "metadata": {},
   "outputs": [
    {
     "name": "stdout",
     "output_type": "stream",
     "text": [
      "the rule that the court MAY SOMETIMES accept the result\n",
      "RESULT: fact <the Lotus menu command hierarchy> was a method of operation\n",
      "based on the input\n",
      "GIVEN: fact <Lotus 1-2-3> was a computer program\n",
      "GIVEN: fact <the Lotus menu command hierarchy> provided the means by which users controlled and operated <Lotus 1-2-3>\n",
      "GIVEN: fact without <the Lotus menu command hierarchy>, users would not have been able to access and control, or indeed make use of, <Lotus 1-2-3>’s functional capabilities\n",
      "GIVEN: fact for another computer program to by operated in substantially the same way as <Lotus 1-2-3>, the other program would have to copy <the Lotus menu command hierarchy>\n",
      "DESPITE: fact the developers of <Lotus 1-2-3> made some expressive choices in choosing and arranging the terms in <the Lotus menu command hierarchy>\n",
      "according to the legislation\n",
      "GIVEN: \"In no case does copyright protection for an original work of authorship extend to any\" (USC Title 17, 102)\n",
      "GIVEN: \"method of operation\" (USC Title 17, 102)\n",
      "\n"
     ]
    }
   ],
   "source": [
    "print(lotus_majority.holdings[9])"
   ]
  },
  {
   "cell_type": "markdown",
   "metadata": {},
   "source": [
    "> We do not think that “methods of operation” are limited to abstractions; rather, they are the means by which a user operates something."
   ]
  },
  {
   "cell_type": "code",
   "execution_count": 38,
   "metadata": {},
   "outputs": [
    {
     "name": "stdout",
     "output_type": "stream",
     "text": [
      "the rule that the court MAY SOMETIMES accept the result\n",
      "RESULT: fact <the Lotus menu command hierarchy> was a method of operation\n",
      "based on the input\n",
      "GIVEN: fact <the Lotus menu command hierarchy> was the means by which a person operated <Lotus 1-2-3>\n",
      "DESPITE: fact it is false that <the Lotus menu command hierarchy> was an abstraction\n",
      "according to the legislation\n",
      "GIVEN: \"In no case does copyright protection for an original work of authorship extend to any\" (USC Title 17, 102)\n",
      "GIVEN: \"method of operation\" (USC Title 17, 102)\n",
      "\n"
     ]
    }
   ],
   "source": [
    "print(lotus_majority.holdings[10])"
   ]
  },
  {
   "cell_type": "markdown",
   "metadata": {},
   "source": [
    "> In other words, to offer the same capabilities as Lotus 1-2-3, Borland did not have to copy Lotus’s underlying code (and indeed it did not); to 'allow users to operate its programs in substantially the same way, however, Bor-land had to copy the Lotus menu command hierarchy. Thus the Lotus 1-2-3 code is not a uncopyrightable “method of operation.”"
   ]
  },
  {
   "cell_type": "code",
   "execution_count": 39,
   "metadata": {},
   "outputs": [
    {
     "name": "stdout",
     "output_type": "stream",
     "text": [
      "the rule that the court MAY SOMETIMES accept the result\n",
      "RESULT: fact it is false that <Lotus 1-2-3> was a method of operation\n",
      "based on the input\n",
      "GIVEN: fact <Lotus 1-2-3> was a computer program\n",
      "GIVEN: fact it is false that the precise formulation of <Lotus 1-2-3>'s code was necessary for it to work\n",
      "DESPITE: fact computer code was necessary for <Lotus 1-2-3> to work\n",
      "according to the legislation\n",
      "GIVEN: \"In no case does copyright protection for an original work of authorship extend to any\" (USC Title 17, 102)\n",
      "GIVEN: \"method of operation\" (USC Title 17, 102)\n",
      "\n"
     ]
    }
   ],
   "source": [
    "print(lotus_majority.holdings[11])"
   ]
  },
  {
   "cell_type": "markdown",
   "metadata": {},
   "source": [
    "### *Oracle v. Google* 750 F.3d 1339 (2014)"
   ]
  },
  {
   "cell_type": "markdown",
   "metadata": {},
   "source": [
    "> By statute, a work must be “original” to qualify for copyright protection. 17 U.S.C. § 102(a)."
   ]
  },
  {
   "cell_type": "code",
   "execution_count": 40,
   "metadata": {},
   "outputs": [
    {
     "name": "stdout",
     "output_type": "stream",
     "text": [
      "the rule that the court MUST SOMETIMES accept the result\n",
      "RESULT: fact it is false that <the Java API> was copyrightable\n",
      "based on the input\n",
      "GIVEN: fact it is false that <the Java API> was an original work\n",
      "according to the legislation\n",
      "GIVEN: \"Copyright protection subsists, in accordance with this title, in original works of authorship fixed in any tangible medium of expression, now known or later developed, from which they can be perceived, reproduced, or otherwise communicated, either directly or with the aid of a machine or device.\" (USC Title 17, 102)\n",
      "\n"
     ]
    }
   ],
   "source": [
    "print(oracle.holdings[0])"
   ]
  },
  {
   "cell_type": "markdown",
   "metadata": {},
   "source": [
    "> Original, as the term is used in copyright, means only that the work was independently created by the author (as opposed to copied from other works), and that it possesses at least some minimal degree of creativity."
   ]
  },
  {
   "cell_type": "code",
   "execution_count": 41,
   "metadata": {},
   "outputs": [
    {
     "name": "stdout",
     "output_type": "stream",
     "text": [
      "the rule that the court MUST ALWAYS accept the result\n",
      "RESULT: fact <the Java API> was an original work\n",
      "based on the input\n",
      "GIVEN: fact <the Java API> was independently created by the author, as opposed to copied from other works\n",
      "GIVEN: fact <the Java API> possessed at least some minimal degree of creativity\n",
      "according to the legislation\n",
      "GIVEN: \"Copyright protection subsists, in accordance with this title, in original works of authorship fixed in any tangible medium of expression, now known or later developed, from which they can be perceived, reproduced, or otherwise communicated, either directly or with the aid of a machine or device.\" (USC Title 17, 102)\n",
      "\n"
     ]
    }
   ],
   "source": [
    "print(oracle.holdings[1])"
   ]
  },
  {
   "cell_type": "markdown",
   "metadata": {},
   "source": [
    "> Copyright protection extends only to the expression of an idea — not to the underlying idea itself...In the Ninth Circuit, while questions regarding originality are considered questions of copyrightability, concepts of merger and scenes a faire are affirmative defenses to claims of infringement."
   ]
  },
  {
   "cell_type": "code",
   "execution_count": 42,
   "metadata": {},
   "outputs": [
    {
     "name": "stdout",
     "output_type": "stream",
     "text": [
      "the rule that the court MUST SOMETIMES accept the result\n",
      "RESULT: fact <the Java API> was copyrightable\n",
      "based on the input\n",
      "GIVEN: fact <the Java API> was an original work\n",
      "GIVEN: fact <the Java API> was the expression of an idea\n",
      "GIVEN: fact it is false that <the Java API> was an idea\n",
      "DESPITE: fact <the Java API> was essentially the only way to express the idea that it embodied\n",
      "DESPITE: fact <the Java API> was a scene a faire\n",
      "according to the legislation\n",
      "GIVEN: \"Copyright protection subsists, in accordance with this title, in original works of authorship fixed in any tangible medium of expression, now known or later developed, from which they can be perceived, reproduced, or otherwise communicated, either directly or with the aid of a machine or device.\" (USC Title 17, 102)\n",
      "and despite the legislation\n",
      "DESPITE: \"In no case does copyright protection for an original work of authorship extend to any idea, procedure, process, system, method of operation, concept, principle, or discovery, regardless of the form in which it is described, explained, illustrated, or embodied in such work.\" (USC Title 17, 102)\n",
      "\n"
     ]
    }
   ],
   "source": [
    "print(oracle.holdings[2])"
   ]
  },
  {
   "cell_type": "markdown",
   "metadata": {},
   "source": [
    "> The literal elements of a computer program are the source code and object code."
   ]
  },
  {
   "cell_type": "code",
   "execution_count": 43,
   "metadata": {},
   "outputs": [
    {
     "name": "stdout",
     "output_type": "stream",
     "text": [
      "the rule that the court MUST ALWAYS accept the result\n",
      "RESULT: fact <the Java API> was a literal element of <the Java language>\n",
      "based on the input\n",
      "GIVEN: fact <the Java language> was a computer program\n",
      "GIVEN: fact <the Java API> was the source code of <the Java language>\n",
      "according to the legislation\n",
      "GIVEN: \"Copyright protection subsists, in accordance with this title, in original works of authorship fixed in any tangible medium of expression, now known or later developed, from which they can be perceived, reproduced, or otherwise communicated, either directly or with the aid of a machine or device.\" (USC Title 17, 102)\n",
      "GIVEN: \"In no case does copyright protection for an original work of authorship extend to any idea, procedure, process, system, method of operation, concept, principle, or discovery, regardless of the form in which it is described, explained, illustrated, or embodied in such work.\" (USC Title 17, 102)\n",
      "\n",
      "the rule that the court MUST ALWAYS accept the result\n",
      "RESULT: fact <the Java API> was a literal element of <the Java language>\n",
      "based on the input\n",
      "GIVEN: fact <the Java language> was a computer program\n",
      "GIVEN: fact <the Java API> was the object code of <the Java language>\n",
      "according to the legislation\n",
      "GIVEN: \"Copyright protection subsists, in accordance with this title, in original works of authorship fixed in any tangible medium of expression, now known or later developed, from which they can be perceived, reproduced, or otherwise communicated, either directly or with the aid of a machine or device.\" (USC Title 17, 102)\n",
      "GIVEN: \"In no case does copyright protection for an original work of authorship extend to any idea, procedure, process, system, method of operation, concept, principle, or discovery, regardless of the form in which it is described, explained, illustrated, or embodied in such work.\" (USC Title 17, 102)\n",
      "\n"
     ]
    }
   ],
   "source": [
    "print(oracle.holdings[3])\n",
    "print(oracle.holdings[4])"
   ]
  },
  {
   "cell_type": "markdown",
   "metadata": {},
   "source": [
    "> It is well established that copyright protection can extend to both literal and non-literal elements of a computer program. See Altai 982 F.2d at 702."
   ]
  },
  {
   "cell_type": "code",
   "execution_count": 44,
   "metadata": {},
   "outputs": [
    {
     "name": "stdout",
     "output_type": "stream",
     "text": [
      "the rule that the court MUST SOMETIMES accept the result\n",
      "RESULT: fact <the Java API> was copyrightable\n",
      "based on the input\n",
      "GIVEN: fact <the Java language> was a computer program\n",
      "GIVEN: fact <the Java API> was a literal element of <the Java language>\n",
      "according to the legislation\n",
      "GIVEN: \"Copyright protection subsists, in accordance with this title, in original works of authorship fixed in any tangible medium of expression, now known or later developed, from which they can be perceived, reproduced, or otherwise communicated, either directly or with the aid of a machine or device.\" (USC Title 17, 102)\n",
      "and despite the legislation\n",
      "DESPITE: \"In no case does copyright protection for an original work of authorship extend to any idea, procedure, process, system, method of operation, concept, principle, or discovery, regardless of the form in which it is described, explained, illustrated, or embodied in such work.\" (USC Title 17, 102)\n",
      "\n"
     ]
    }
   ],
   "source": [
    "print(oracle.holdings[5])"
   ]
  },
  {
   "cell_type": "markdown",
   "metadata": {},
   "source": [
    "> The non-literal components of a computer program include, among other things, the program’s sequence, structure, and organization, as well as the program’s user interface."
   ]
  },
  {
   "cell_type": "code",
   "execution_count": 45,
   "metadata": {},
   "outputs": [
    {
     "name": "stdout",
     "output_type": "stream",
     "text": [
      "the rule that the court MUST ALWAYS accept the result\n",
      "RESULT: fact <the Java API> was a non-literal element of <the Java language>\n",
      "based on the input\n",
      "GIVEN: fact <the Java language> was a computer program\n",
      "GIVEN: fact <the Java API> was the sequence, structure, and organization of <the Java language>\n",
      "according to the legislation\n",
      "GIVEN: \"Copyright protection subsists, in accordance with this title, in original works of authorship fixed in any tangible medium of expression, now known or later developed, from which they can be perceived, reproduced, or otherwise communicated, either directly or with the aid of a machine or device.\" (USC Title 17, 102)\n",
      "GIVEN: \"In no case does copyright protection for an original work of authorship extend to any idea, procedure, process, system, method of operation, concept, principle, or discovery, regardless of the form in which it is described, explained, illustrated, or embodied in such work.\" (USC Title 17, 102)\n",
      "\n",
      "the rule that the court MUST ALWAYS accept the result\n",
      "RESULT: fact <the Java API> was a non-literal element of <the Java language>\n",
      "based on the input\n",
      "GIVEN: fact <the Java language> was a computer program\n",
      "GIVEN: fact <the Java API> was the user interface of <the Java language>\n",
      "according to the legislation\n",
      "GIVEN: \"Copyright protection subsists, in accordance with this title, in original works of authorship fixed in any tangible medium of expression, now known or later developed, from which they can be perceived, reproduced, or otherwise communicated, either directly or with the aid of a machine or device.\" (USC Title 17, 102)\n",
      "GIVEN: \"In no case does copyright protection for an original work of authorship extend to any idea, procedure, process, system, method of operation, concept, principle, or discovery, regardless of the form in which it is described, explained, illustrated, or embodied in such work.\" (USC Title 17, 102)\n",
      "\n"
     ]
    }
   ],
   "source": [
    "print(oracle.holdings[6])\n",
    "print(oracle.holdings[7])"
   ]
  },
  {
   "cell_type": "markdown",
   "metadata": {},
   "source": [
    "> It is well established that copyright protection can extend to both literal and non-literal elements of a computer program...As discussed below, whether the non-literal elements of a program “are protected depends on whether, on the particular facts of each case, the component in question qualifies as an expression of an idea, or an idea itself.”"
   ]
  },
  {
   "cell_type": "code",
   "execution_count": 46,
   "metadata": {},
   "outputs": [
    {
     "name": "stdout",
     "output_type": "stream",
     "text": [
      "the rule that the court MUST SOMETIMES accept the result\n",
      "RESULT: fact <the Java API> was copyrightable\n",
      "based on the input\n",
      "GIVEN: fact <the Java language> was a computer program\n",
      "GIVEN: fact <the Java API> was a non-literal element of <the Java language>\n",
      "GIVEN: fact <the Java API> was the expression of an idea\n",
      "GIVEN: fact it is false that <the Java API> was an idea\n",
      "according to the legislation\n",
      "GIVEN: \"Copyright protection subsists, in accordance with this title, in original works of authorship fixed in any tangible medium of expression, now known or later developed, from which they can be perceived, reproduced, or otherwise communicated, either directly or with the aid of a machine or device.\" (USC Title 17, 102)\n",
      "and despite the legislation\n",
      "DESPITE: \"In no case does copyright protection for an original work of authorship extend to any idea, procedure, process, system, method of operation, concept, principle, or discovery, regardless of the form in which it is described, explained, illustrated, or embodied in such work.\" (USC Title 17, 102)\n",
      "\n",
      "the rule that the court MUST SOMETIMES accept the result\n",
      "RESULT: fact it is false that <the Java API> was copyrightable\n",
      "based on the input\n",
      "GIVEN: fact <the Java language> was a computer program\n",
      "GIVEN: fact <the Java API> was a non-literal element of <the Java language>\n",
      "GIVEN: fact it is false that <the Java API> was the expression of an idea\n",
      "GIVEN: fact <the Java API> was an idea\n",
      "according to the legislation\n",
      "GIVEN: \"In no case does copyright protection for an original work of authorship extend to any idea, procedure, process, system, method of operation, concept, principle, or discovery, regardless of the form in which it is described, explained, illustrated, or embodied in such work.\" (USC Title 17, 102)\n",
      "and despite the legislation\n",
      "DESPITE: \"Copyright protection subsists, in accordance with this title, in original works of authorship fixed in any tangible medium of expression, now known or later developed, from which they can be perceived, reproduced, or otherwise communicated, either directly or with the aid of a machine or device.\" (USC Title 17, 102)\n",
      "\n"
     ]
    }
   ],
   "source": [
    "print(oracle.holdings[8])\n",
    "print(oracle.holdings[9])"
   ]
  },
  {
   "cell_type": "markdown",
   "metadata": {},
   "source": [
    "> On appeal, Oracle argues that the district court’s reliance on Lotus is misplaced because it is distinguishable on its facts and is inconsistent with Ninth Circuit law. We agree. First, while the defendant in Lotus did not copy any of the underlying code, Google concedes that it copied portions of Oracle’s declaring source code verbatim. Second, the Lotus court found that the commands at issue there (copy, print, etc.) were not creative, but it is undisputed here that the declaring code and the structure and organization of the API packages are both creative and original. Finally, while the court in Lotus found the commands at issue were “essential to operating” the system, it is undisputed that— other than perhaps as to the three core packages — Google did not need to copy the structure, sequence, and organization of the Java API packages to write programs in the Java language.\\nMore importantly, however, the Ninth Circuit has not adopted the court’s “method of operation” reasoning in Lotus, and we conclude that it is inconsistent with binding precedent."
   ]
  },
  {
   "cell_type": "code",
   "execution_count": 47,
   "metadata": {},
   "outputs": [
    {
     "name": "stdout",
     "output_type": "stream",
     "text": [
      "the rule that the court MUST SOMETIMES accept the result\n",
      "RESULT: fact <the Java API> was copyrightable\n",
      "based on the input\n",
      "GIVEN: fact <the Java language> was a computer program\n",
      "GIVEN: fact <the Java API> was a set of application programming interface declarations\n",
      "GIVEN: fact <the Java API> was an original work\n",
      "GIVEN: fact <the Java API> was a non-literal element of <the Java language>\n",
      "GIVEN: fact <the Java API> was the expression of an idea\n",
      "GIVEN: fact it is false that <the Java API> was essentially the only way to express the idea that it embodied\n",
      "GIVEN: fact <the Java API> was creative\n",
      "GIVEN: fact it was possible to use <the Java language> without copying <the Java API>\n",
      "DESPITE: fact <the Java API> was a method of operation\n",
      "DESPITE: fact <the Java API> contained short phrases\n",
      "DESPITE: fact <the Java API> became so popular that it was the industry standard\n",
      "DESPITE: fact there was a preexisting community of programmers accustomed to using <the Java API>\n",
      "according to the legislation\n",
      "GIVEN: \"Copyright protection subsists, in accordance with this title, in original works of authorship fixed in any tangible medium of expression, now known or later developed, from which they can be perceived, reproduced, or otherwise communicated, either directly or with the aid of a machine or device.\" (USC Title 17, 102)\n",
      "and despite the legislation\n",
      "DESPITE: \"In no case does copyright protection for an original work of authorship extend to any\" (USC Title 17, 102)\n",
      "DESPITE: \"method of operation\" (USC Title 17, 102)\n",
      "DESPITE: \"The following are examples of works not subject to copyright and applications for registration of such works cannot be entertained:(a) Words and short phrases such as names, titles, and slogans\" (Code of Federal Regulations Title 37, 202.1)\n",
      "\n"
     ]
    }
   ],
   "source": [
    "print(oracle.holdings[10])"
   ]
  },
  {
   "cell_type": "markdown",
   "metadata": {},
   "source": [
    "> In the Ninth Circuit, while questions regarding originality are considered questions of copyrightability, concepts of merger and scenes a faire are affirmative defenses to claims of infringement."
   ]
  },
  {
   "cell_type": "code",
   "execution_count": 48,
   "metadata": {},
   "outputs": [
    {
     "name": "stdout",
     "output_type": "stream",
     "text": [
      "the rule that the court MUST SOMETIMES accept the result\n",
      "RESULT: fact it is false that <Google> infringed the copyright on <the Java API>\n",
      "based on the input\n",
      "GIVEN: fact <the Java API> was a scene a faire\n",
      "DESPITE: fact <the Java API> was copyrightable\n",
      "according to the legislation\n",
      "GIVEN: \"In no case does copyright protection for an original work of authorship extend to any idea, procedure, process, system, method of operation, concept, principle, or discovery, regardless of the form in which it is described, explained, illustrated, or embodied in such work.\" (USC Title 17, 102)\n",
      "and despite the legislation\n",
      "DESPITE: \"Copyright protection subsists, in accordance with this title, in original works of authorship fixed in any tangible medium of expression, now known or later developed, from which they can be perceived, reproduced, or otherwise communicated, either directly or with the aid of a machine or device.\" (USC Title 17, 102)\n",
      "\n"
     ]
    }
   ],
   "source": [
    "print(oracle.holdings[11])"
   ]
  },
  {
   "cell_type": "markdown",
   "metadata": {},
   "source": [
    "> In the Ninth Circuit, while questions regarding originality are considered questions of copyrightability, concepts of merger and scenes a faire are affirmative defenses to claims of infringement...Under the merger doctrine, a court will not protect a copyrighted work from infringement if the idea contained therein can be expressed in only one way."
   ]
  },
  {
   "cell_type": "code",
   "execution_count": 49,
   "metadata": {},
   "outputs": [
    {
     "name": "stdout",
     "output_type": "stream",
     "text": [
      "the rule that the court MUST SOMETIMES accept the result\n",
      "RESULT: fact it is false that <Google> infringed the copyright on <the Java API>\n",
      "based on the input\n",
      "GIVEN: fact <the Java API> was essentially the only way to express the idea that it embodied\n",
      "DESPITE: fact <the Java API> was copyrightable\n",
      "according to the legislation\n",
      "GIVEN: \"In no case does copyright protection for an original work of authorship extend to any idea, procedure, process, system, method of operation, concept, principle, or discovery, regardless of the form in which it is described, explained, illustrated, or embodied in such work.\" (USC Title 17, 102)\n",
      "and despite the legislation\n",
      "DESPITE: \"Copyright protection subsists, in accordance with this title, in original works of authorship fixed in any tangible medium of expression, now known or later developed, from which they can be perceived, reproduced, or otherwise communicated, either directly or with the aid of a machine or device.\" (USC Title 17, 102)\n",
      "\n",
      "the rule that the court MUST SOMETIMES accept the result\n",
      "RESULT: fact <Google> infringed the copyright on <the Java API>\n",
      "based on the input\n",
      "GIVEN: fact <the Java API> was copyrightable\n",
      "GIVEN: absence of fact <the Java API> was essentially the only way to express the idea that it embodied\n",
      "GIVEN: absence of fact <the Java API> was a scene a faire\n",
      "according to the legislation\n",
      "GIVEN: \"In no case does copyright protection for an original work of authorship extend to any idea, procedure, process, system, method of operation, concept, principle, or discovery, regardless of the form in which it is described, explained, illustrated, or embodied in such work.\" (USC Title 17, 102)\n",
      "and despite the legislation\n",
      "DESPITE: \"Copyright protection subsists, in accordance with this title, in original works of authorship fixed in any tangible medium of expression, now known or later developed, from which they can be perceived, reproduced, or otherwise communicated, either directly or with the aid of a machine or device.\" (USC Title 17, 102)\n",
      "\n"
     ]
    }
   ],
   "source": [
    "print(oracle.holdings[12])\n",
    "print(oracle.holdings[13])"
   ]
  },
  {
   "cell_type": "markdown",
   "metadata": {},
   "source": [
    "#### A missing holding\n",
    "\n",
    "The following text represents a rule posited by the Oracle court, but it's not currently possible to create a corresponding Rule object, because AuthoritySpoke doesn't yet include \"Argument\" objects.\n",
    "\n",
    "> Google responds that Oracle waived its right to assert copyrightability based on the 7,000 lines of declaring code by failing “to object to instructions and a verdict form that effectively eliminated that theory from the case.” Appellee Br. 67...We find that Oracle did not waive arguments based on Google’s literal copying of the declaring code."
   ]
  },
  {
   "cell_type": "markdown",
   "metadata": {},
   "source": [
    "> Regardless of when the analysis occurs, we conclude that merger does not apply on the record before us...We have recognized, however, applying Ninth Circuit law, that the “unique arrangement of computer program expression ... does not merge with the process so long as alternate expressions are available.”...The evidence showed that Oracle had “unlimited options as to the selection and arrangement of the 7000 lines Google copied.”...This was not a situation where Oracle was selecting among preordained names and phrases to create its packages."
   ]
  },
  {
   "cell_type": "code",
   "execution_count": 50,
   "metadata": {},
   "outputs": [
    {
     "name": "stdout",
     "output_type": "stream",
     "text": [
      "the rule that the court MUST SOMETIMES accept the result\n",
      "RESULT: fact it is false that <the Java API> was essentially the only way to express the idea that it embodied\n",
      "based on the input\n",
      "GIVEN: fact <Sun Microsystems> created <the Java API>\n",
      "GIVEN: fact when creating <the Java API>, <Sun Microsystems> could have selected and arranged its names and phrases in unlimited different ways\n",
      "according to the legislation\n",
      "GIVEN: \"Copyright protection subsists, in accordance with this title, in original works of authorship fixed in any tangible medium of expression, now known or later developed, from which they can be perceived, reproduced, or otherwise communicated, either directly or with the aid of a machine or device.\" (USC Title 17, 102)\n",
      "and despite the legislation\n",
      "DESPITE: \"In no case does copyright protection for an original work of authorship extend to any idea, procedure, process, system, method of operation, concept, principle, or discovery, regardless of the form in which it is described, explained, illustrated, or embodied in such work.\" (USC Title 17, 102)\n",
      "\n"
     ]
    }
   ],
   "source": [
    "print(oracle.holdings[14])"
   ]
  },
  {
   "cell_type": "markdown",
   "metadata": {},
   "source": [
    "> the relevant question for copyright-ability purposes is not whether the work at issue contains short phrases — as literary works often do — but, rather, whether those phrases are creative."
   ]
  },
  {
   "cell_type": "code",
   "execution_count": 51,
   "metadata": {},
   "outputs": [
    {
     "name": "stdout",
     "output_type": "stream",
     "text": [
      "the rule that the court MUST SOMETIMES accept the result\n",
      "RESULT: fact <the Java API> was copyrightable\n",
      "based on the input\n",
      "GIVEN: fact <the Java API> was a literary work\n",
      "GIVEN: fact the short phrases in <the Java API> were creative\n",
      "DESPITE: fact <the Java API> contained short phrases\n",
      "according to the legislation\n",
      "GIVEN: \"Copyright protection subsists, in accordance with this title, in original works of authorship fixed in any tangible medium of expression, now known or later developed, from which they can be perceived, reproduced, or otherwise communicated, either directly or with the aid of a machine or device.\" (USC Title 17, 102)\n",
      "and despite the legislation\n",
      "DESPITE: \"In no case does copyright protection for an original work of authorship extend to any idea, procedure, process, system, method of operation, concept, principle, or discovery, regardless of the form in which it is described, explained, illustrated, or embodied in such work.\" (USC Title 17, 102)\n",
      "DESPITE: \"The following are examples of works not subject to copyright and applications for registration of such works cannot be entertained:(a) Words and short phrases such as names, titles, and slogans\" (Code of Federal Regulations Title 37, 202.1)\n",
      "\n"
     ]
    }
   ],
   "source": [
    "print(oracle.holdings[15])"
   ]
  },
  {
   "cell_type": "markdown",
   "metadata": {},
   "source": [
    "> In the computer context, “the scene a faire doctrine denies protection to program elements that are dictated by external factors such as ‘the mechanical specifications of the computer on which a particular program is intended to run’ or ‘widely accepted programming practices within the computer industry. Like merger, the focus of the scenes a faire doctrine is on the circumstances presented to the creator, not the copier."
   ]
  },
  {
   "cell_type": "code",
   "execution_count": 52,
   "metadata": {},
   "outputs": [
    {
     "name": "stdout",
     "output_type": "stream",
     "text": [
      "the rule that the court MAY SOMETIMES accept the result\n",
      "RESULT: fact <the Java API> was a scene a faire\n",
      "based on the input\n",
      "GIVEN: fact <the Java language> was a computer program\n",
      "GIVEN: fact <the Java API> was an element of <the Java language>\n",
      "GIVEN: fact the creation of <the Java API> was dictated by external factors such as the mechanical specifications of the computer on which <the Java language> was intended to run or widely accepted programming practices within the computer industry\n",
      "according to the legislation\n",
      "GIVEN: \"In no case does copyright protection for an original work of authorship extend to any idea, procedure, process, system, method of operation, concept, principle, or discovery, regardless of the form in which it is described, explained, illustrated, or embodied in such work.\" (USC Title 17, 102)\n",
      "and despite the legislation\n",
      "DESPITE: \"Copyright protection subsists, in accordance with this title, in original works of authorship fixed in any tangible medium of expression, now known or later developed, from which they can be perceived, reproduced, or otherwise communicated, either directly or with the aid of a machine or device.\" (USC Title 17, 102)\n",
      "\n"
     ]
    }
   ],
   "source": [
    "print(oracle.holdings[16])"
   ]
  },
  {
   "cell_type": "markdown",
   "metadata": {},
   "source": [
    "> Specifically, we find that Lotus is inconsistent with Ninth Circuit case law recognizing that the structure, sequence, and organization of a computer program is eligible for copyright protection where it qualifies as an expression of an idea, rather than the idea itself."
   ]
  },
  {
   "cell_type": "code",
   "execution_count": 53,
   "metadata": {},
   "outputs": [
    {
     "name": "stdout",
     "output_type": "stream",
     "text": [
      "the rule that the court MAY SOMETIMES accept the result\n",
      "RESULT: fact <the Java API> was copyrightable\n",
      "based on the input\n",
      "GIVEN: fact <the Java language> was a computer program\n",
      "GIVEN: fact <the Java API> was the structure, sequence, and organization of <the Java language>\n",
      "GIVEN: fact <the Java API> was the expression of an idea\n",
      "GIVEN: fact it is false that <the Java API> was an idea\n",
      "according to the legislation\n",
      "GIVEN: \"Copyright protection subsists, in accordance with this title, in original works of authorship fixed in any tangible medium of expression, now known or later developed, from which they can be perceived, reproduced, or otherwise communicated, either directly or with the aid of a machine or device.\" (USC Title 17, 102)\n",
      "and despite the legislation\n",
      "DESPITE: \"In no case does copyright protection for an original work of authorship extend to any idea, procedure, process, system, method of operation, concept, principle, or discovery, regardless of the form in which it is described, explained, illustrated, or embodied in such work.\" (USC Title 17, 102)\n",
      "\n"
     ]
    }
   ],
   "source": [
    "print(oracle.holdings[17])"
   ]
  },
  {
   "cell_type": "markdown",
   "metadata": {},
   "source": [
    "> an original work — even one that serves a function — is entitled to copyright protection as long as the author had multiple ways to express the underlying idea. Section 102(b) does not, as Google seems to suggest, automatically deny copyright protection to elements of a computer program that are functional."
   ]
  },
  {
   "cell_type": "code",
   "execution_count": 54,
   "metadata": {},
   "outputs": [
    {
     "name": "stdout",
     "output_type": "stream",
     "text": [
      "the rule that the court MUST ALWAYS accept the result\n",
      "RESULT: fact <the Java API> was copyrightable\n",
      "based on the input\n",
      "GIVEN: fact <the Java API> was an original work\n",
      "GIVEN: fact <Sun Microsystems> was the author of <the Java API>\n",
      "GIVEN: fact when creating <the Java API>, <Sun Microsystems> had multiple ways to express its underlying idea\n",
      "DESPITE: fact <the Java API> served a function\n",
      "according to the legislation\n",
      "GIVEN: \"Copyright protection subsists, in accordance with this title, in original works of authorship fixed in any tangible medium of expression, now known or later developed, from which they can be perceived, reproduced, or otherwise communicated, either directly or with the aid of a machine or device.\" (USC Title 17, 102)\n",
      "and despite the legislation\n",
      "DESPITE: \"In no case does copyright protection for an original work of authorship extend to any idea, procedure, process, system, method of operation, concept, principle, or discovery, regardless of the form in which it is described, explained, illustrated, or embodied in such work.\" (USC Title 17, 102)\n",
      "\n"
     ]
    }
   ],
   "source": [
    "print(oracle.holdings[18])"
   ]
  },
  {
   "cell_type": "markdown",
   "metadata": {},
   "source": [
    "> Until either the Supreme Court or Congress tells us otherwise, we are bound to respect the Ninth Circuit’s decision to afford software programs protection under the copyright laws. We thus decline any invitation to declare that protection of software programs should be the domain of patent law, and only patent law."
   ]
  },
  {
   "cell_type": "code",
   "execution_count": 55,
   "metadata": {},
   "outputs": [
    {
     "name": "stdout",
     "output_type": "stream",
     "text": [
      "the rule that the court MAY SOMETIMES accept the result\n",
      "RESULT: fact <the Java API> was copyrightable\n",
      "based on the input\n",
      "GIVEN: fact <the Java language> was a computer program\n",
      "according to the legislation\n",
      "GIVEN: \"Copyright protection subsists, in accordance with this title, in original works of authorship fixed in any tangible medium of expression, now known or later developed, from which they can be perceived, reproduced, or otherwise communicated, either directly or with the aid of a machine or device.\" (USC Title 17, 102)\n",
      "and despite the legislation\n",
      "DESPITE: \"In no case does copyright protection for an original work of authorship extend to any idea, procedure, process, system, method of operation, concept, principle, or discovery, regardless of the form in which it is described, explained, illustrated, or embodied in such work.\" (USC Title 17, 102)\n",
      "\n"
     ]
    }
   ],
   "source": [
    "print(oracle.holdings[19])"
   ]
  }
 ],
 "metadata": {
  "kernelspec": {
   "display_name": "AuthoritySpoke",
   "language": "python",
   "name": "authorityspoke"
  },
  "language_info": {
   "codemirror_mode": {
    "name": "ipython",
    "version": 3
   },
   "file_extension": ".py",
   "mimetype": "text/x-python",
   "name": "python",
   "nbconvert_exporter": "python",
   "pygments_lexer": "ipython3",
   "version": "3.7.1"
  }
 },
 "nbformat": 4,
 "nbformat_minor": 2
}
