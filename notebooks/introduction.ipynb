{
 "cells": [
  {
   "cell_type": "markdown",
   "metadata": {},
   "source": [
    "# A Brief Introduction to AuthoritySpoke\n",
    "\n",
    "> \"Details, unnumbered, shifting, sharp, disordered, unchartable, jagged.\"\n",
    ">\n",
    "> Llewellyn, Karl N. _The Bramble Bush: On Our Law and Its Study_ 106 (Quid Pro 2012) (1930).\n",
    "    \n",
    "AuthoritySpoke is a Python package for making legal analysis readable by both computers and humans.\n",
    "\n",
    "This notebook will provide an overview of AuthoritySpoke's most important features. Please remember that AuthoritySpoke is in an early alpha state, so many features have yet to be implemented, and some others still have limited functionality."
   ]
  },
  {
   "cell_type": "markdown",
   "metadata": {},
   "source": [
    "## 1. Importing the Package\n",
    "\n",
    "Let's start by importing the package and its Opinion class. \n",
    "\n",
    "(When I capitalize a seemingly random word, it's usually the name of an AuthoritySpoke class.)"
   ]
  },
  {
   "cell_type": "code",
   "execution_count": 1,
   "metadata": {},
   "outputs": [],
   "source": [
    "import authorityspoke\n",
    "from pprint import pprint"
   ]
  },
  {
   "cell_type": "markdown",
   "metadata": {},
   "source": [
    "If you executed that cell with no error messages, then it worked! \n",
    "\n",
    "If you got a message like `No module named 'authorityspoke'`, then AuthoritySpoke is probably not installed in your current Python environment. In that case, check the documentation for help."
   ]
  },
  {
   "cell_type": "markdown",
   "metadata": {},
   "source": [
    "## 2. Downloading and Importing Opinions\n",
    "\n",
    "Now we need some court opinions to load into AuthoritySpoke. We can collect these from the Case Access Project API, a project of the Harvard Law School Library Innovation Lab. To download full cases from CAP, you'll need to [register for an API key](https://case.law/user/register/). However, if you'd rather skip forward to the end of this section without interacting with the API, you can. There's already a copy of the files we're going to download in the example_data/opinions folder of this repository."
   ]
  },
  {
   "cell_type": "markdown",
   "metadata": {},
   "source": [
    "The CAP API limits users to downloading 500 full cases per day. If you accidentally make a query that returns hundreds of full cases, you could hit your limit before you know it. You should first try out your API queries without the \"full_case\": \"true\" parameter, and then only request full cases once you're confident you'll receive what you expect. To minimize the risk of revealing your API key to others, you can store it in an environment variable called CAP_API_KEY and then retrieve it as shown in the cell below.\n",
    "\n",
    "If you're viewing this tutorial in a cloud environment like Binder, you could either replace `os.environ['CAP_API_KEY']` with a string containing your own API key, or skip the use of the API key as described below."
   ]
  },
  {
   "cell_type": "code",
   "execution_count": 2,
   "metadata": {},
   "outputs": [],
   "source": [
    "import os\n",
    "\n",
    "CAP_API_KEY = os.environ['CAP_API_KEY']"
   ]
  },
  {
   "cell_type": "markdown",
   "metadata": {},
   "source": [
    "Next we need to choose which cases to download for our analysis.\n",
    "\n",
    "Let's download _Oracle America v. Google_ (2014), a landmark opinion in which the Federal Circuit Court of Appeals held that the API declarations for the Java language were copyrightable. And since we'll want to compare the _Oracle_ case to a related case, let's also download _Lotus Development Corporation v. Borland International_ (1995). In that case, the First Circuit Court of Appeals held that the menu structure of a spreadsheet program called Lotus 1-2-3 was uncopyrightable because it was a \"method of operation\" under the Copyright Act. As we'll see, the _Oracle_ case discusses and disagrees with the Lotus case.\n",
    "\n",
    "Citations:\n",
    "* _Oracle America v. Google_: 750 F.3d 1339\n",
    "* _Lotus Development Corporation v. Borland International_: 49 F.3d 807"
   ]
  },
  {
   "cell_type": "code",
   "execution_count": 3,
   "metadata": {},
   "outputs": [],
   "source": [
    "from authorityspoke.io.downloads import download_case\n",
    "\n",
    "oracle_download = download_case(cite=\"750 F.3d 1339\", filename=\"oracle_h.json\")"
   ]
  },
  {
   "cell_type": "markdown",
   "metadata": {},
   "source": [
    "Now we have a record representing the _Oracle_ case, which has been saved to the \"example_data/opinions\" folder under the filename \"oracle_h.json\". (I included the \"h\" in the filename to remind me that this file came from the Harvard CAP API.) Let's look at the API response."
   ]
  },
  {
   "cell_type": "code",
   "execution_count": 4,
   "metadata": {},
   "outputs": [
    {
     "name": "stdout",
     "output_type": "stream",
     "text": [
      "{'citations': [{'cite': '750 F.3d 1339', 'type': 'official'}],\n",
      " 'court': {'id': 8955,\n",
      "           'name': 'United States Court of Appeals for the Federal Circuit',\n",
      "           'name_abbreviation': 'Fed. Cir.',\n",
      "           'slug': 'fed-cir',\n",
      "           'url': 'https://api.case.law/v1/courts/fed-cir/'},\n",
      " 'decision_date': '2014-05-09',\n",
      " 'docket_number': 'Nos. 2013-1021, 2013-1022',\n",
      " 'first_page': '1339',\n",
      " 'frontend_url': 'https://cite.case.law/f3d/750/1339/',\n",
      " 'id': 4066790,\n",
      " 'jurisdiction': {'id': 39,\n",
      "                  'name': 'U.S.',\n",
      "                  'name_long': 'United States',\n",
      "                  'slug': 'us',\n",
      "                  'url': 'https://api.case.law/v1/jurisdictions/us/',\n",
      "                  'whitelisted': False},\n",
      " 'last_page': '1381',\n",
      " 'name': 'ORACLE AMERICA, INC., Plaintiff-Appellant, v. GOOGLE INC., '\n",
      "         'Defendant-Cross-Appellant',\n",
      " 'name_abbreviation': 'Oracle America, Inc. v. Google Inc.',\n",
      " 'reporter': {'full_name': 'Federal Reporter 3d Series',\n",
      "              'url': 'https://api.case.law/v1/reporters/933/'},\n",
      " 'url': 'https://api.case.law/v1/cases/4066790/',\n",
      " 'volume': {'url': 'https://api.case.law/v1/volumes/32044132273806/',\n",
      "            'volume_number': '750'}}\n"
     ]
    }
   ],
   "source": [
    "pprint(oracle_download)"
   ]
  },
  {
   "cell_type": "markdown",
   "metadata": {},
   "source": [
    "Yes, this is the case I expected. But if I had provided my API key and used the full_case flag, I could have received more information, like whether there are any non-majority opinions in the case, and the names of the opinion authors. So let's request the _Oracle_ case with `full_case=True`."
   ]
  },
  {
   "cell_type": "code",
   "execution_count": 5,
   "metadata": {},
   "outputs": [],
   "source": [
    "oracle_download = download_case(\n",
    "    cite=\"750 F.3d 1339\", \n",
    "    filename=\"oracle_h.json\", \n",
    "    full_case=True, \n",
    "    api_key=CAP_API_KEY)"
   ]
  },
  {
   "cell_type": "markdown",
   "metadata": {},
   "source": [
    "And then do the same for the _Lotus_ case."
   ]
  },
  {
   "cell_type": "code",
   "execution_count": 6,
   "metadata": {},
   "outputs": [],
   "source": [
    "lotus_download = download_case(\n",
    "    cite=\"49 F.3d 807\", \n",
    "    filename=\"lotus_h.json\", \n",
    "    full_case=True, \n",
    "    api_key=CAP_API_KEY)"
   ]
  },
  {
   "cell_type": "markdown",
   "metadata": {},
   "source": [
    "Now let's convert the _Oracle_ API response to an AuthoritySpoke object."
   ]
  },
  {
   "cell_type": "code",
   "execution_count": 7,
   "metadata": {},
   "outputs": [],
   "source": [
    "from authorityspoke.io.readers import read_case\n",
    "\n",
    "oracle = read_case(oracle_download)"
   ]
  },
  {
   "cell_type": "markdown",
   "metadata": {},
   "source": [
    "And take a look at the object we made."
   ]
  },
  {
   "cell_type": "code",
   "execution_count": 8,
   "metadata": {},
   "outputs": [
    {
     "name": "stdout",
     "output_type": "stream",
     "text": [
      "<Opinion> Oracle America, Inc. v. Google Inc., 750 F.3d 1339 (2014-05-09)\n"
     ]
    }
   ],
   "source": [
    "print(oracle)"
   ]
  },
  {
   "cell_type": "markdown",
   "metadata": {},
   "source": [
    "The _Lotus_ case has a concurring opinion as well as a majority opinion. By default, the `read_case` command will just create just one Opinion object, from the majority opinion."
   ]
  },
  {
   "cell_type": "code",
   "execution_count": 9,
   "metadata": {},
   "outputs": [
    {
     "name": "stdout",
     "output_type": "stream",
     "text": [
      "<Opinion> Lotus Development Corp. v. Borland International, Inc., 49 F.3d 807 (1995-03-09)\n"
     ]
    }
   ],
   "source": [
    "lotus = read_case(lotus_download)\n",
    "print(lotus)"
   ]
  },
  {
   "cell_type": "markdown",
   "metadata": {},
   "source": [
    "Finally, what should you do if you chose not to get an API key or were unable to create the Opinion objects from downloaded data? Use the following commands to create the Opinion objects from the files in the `example_data/cases` folder.\n",
    "\n",
    "If you already did the steps above, you can skip the next cell and go to section 3."
   ]
  },
  {
   "cell_type": "code",
   "execution_count": 10,
   "metadata": {},
   "outputs": [],
   "source": [
    "# If you already downloaded Opinions from the API,\n",
    "# running this cell will overwrite them with example data.\n",
    "# You should be able to use the rest of the notebook either way.\n",
    "\n",
    "from authorityspoke.io.loaders import load_opinion\n",
    "\n",
    "oracle = load_opinion(\"oracle_h.json\")\n",
    "lotus = load_opinion(\"lotus_h.json\")"
   ]
  },
  {
   "cell_type": "markdown",
   "metadata": {},
   "source": [
    "## 3. Importing Codes"
   ]
  },
  {
   "cell_type": "markdown",
   "metadata": {},
   "source": [
    "AuthoritySpoke does not currently interface with any API to retrieve legislative codes, the way it connects to the CAP API to retrieve case opinions. However, AuthoritySpoke can import legislative XML files as Code objects (\"Code\" in the sense of a legislative code), if the XML adheres to the United States Legislative Markup (USLM) format as used by the United States Code. Although AuthoritySpoke does have functions to import federal regulations and California statutes, which are not published in USLM, those functions are brittle and should only be used to create test data.\n",
    "\n",
    "When multiple Codes are enacted in one country's legal system, the best way to organize the Code objects is to create a Regime object representing the country and link each of the Codes to the Regime object."
   ]
  },
  {
   "cell_type": "code",
   "execution_count": 11,
   "metadata": {},
   "outputs": [],
   "source": [
    "from authorityspoke import Regime\n",
    "\n",
    "from authorityspoke.io.loaders import load_code\n",
    "\n",
    "usa = Regime()\n",
    "\n",
    "us_constitution = load_code(\"constitution.xml\")\n",
    "usc_title_17 = load_code(\"usc17.xml\")\n",
    "code_of_federal_regulations_title_37 = load_code(\"cfr37.xml\")\n",
    "\n",
    "usa.set_code(us_constitution)\n",
    "usa.set_code(usc_title_17)\n",
    "usa.set_code(code_of_federal_regulations_title_37)"
   ]
  },
  {
   "cell_type": "markdown",
   "metadata": {},
   "source": [
    "## 4. Linking Rules to Opinions"
   ]
  },
  {
   "cell_type": "markdown",
   "metadata": {},
   "source": [
    "Now we can link some legal analysis to each opinion by using its `posit` method. The parameter we pass to this function is the name of a JSON file containing structured information about the legal Holdings posited by the opinion. A **Holding** is statement about whether a **Rule** is or is not valid law. When an Opinion **posits** a Holding, that means that the Opinion adopts the Holding as its own. An Opinion may posit more than one Holding, and the same Holding may be posited by more than one Opinion.\n",
    "\n",
    "Sadly, the labor of creating data about Holdings falls mainly to the user rather than the computer, at least in this early version of AuthoritySpoke. AuthoritySpoke loads Holdings from structured descriptions that need to be created outside of AuthoritySpoke as JSON files.\n",
    "\n",
    "An explanation of the interface for creating new Holding objects can be found in the `create_holding_data` notebook in this folder. That interface should continue to undergo major changes as AuthoritySpoke moves beyond version 0.2.\n",
    "\n",
    "For now, this introduction will rely on example JSON files that have already been created. AuthoritySpoke should find them when we call the `load_holdings` function. If you pass in a `regime` parameter, AuthoritySpoke can use it to find and link the statutes or other Enactments cited in the Holding."
   ]
  },
  {
   "cell_type": "code",
   "execution_count": 12,
   "metadata": {},
   "outputs": [],
   "source": [
    "from authorityspoke.io.loaders import load_holdings\n",
    "\n",
    "oracle_holdings = load_holdings(\"holding_oracle.json\", regime=usa)\n",
    "lotus_holdings = load_holdings(\"holding_lotus.json\", regime=usa)"
   ]
  },
  {
   "cell_type": "markdown",
   "metadata": {},
   "source": [
    "The following commands will assign the Holdings to each Opinion."
   ]
  },
  {
   "cell_type": "code",
   "execution_count": 13,
   "metadata": {},
   "outputs": [],
   "source": [
    "oracle.posit(oracle_holdings)\n",
    "lotus.posit(lotus_holdings)"
   ]
  },
  {
   "cell_type": "markdown",
   "metadata": {},
   "source": [
    "You can pass either one Holding or a list of Holdings to `Opinion.posit()`. The `Opinion.posit()` method also has a `text_links` parameter that takes a dict indicating what text spans in the Opinion should be linked to which Holding."
   ]
  },
  {
   "cell_type": "markdown",
   "metadata": {},
   "source": [
    "## 5. Viewing an Opinion's Holdings"
   ]
  },
  {
   "cell_type": "markdown",
   "metadata": {},
   "source": [
    "If you take a look in holding_oracle.json, you'll see that there are 20 holdings. (You can verify this by checking how many times the string \"inputs\" appears in the file.)\n",
    "\n",
    "Let's make sure that the .posit() method linked all of those holdings to our `oracle` Opinion object."
   ]
  },
  {
   "cell_type": "code",
   "execution_count": 14,
   "metadata": {},
   "outputs": [
    {
     "data": {
      "text/plain": [
       "20"
      ]
     },
     "execution_count": 14,
     "metadata": {},
     "output_type": "execute_result"
    }
   ],
   "source": [
    "len(oracle.holdings)"
   ]
  },
  {
   "cell_type": "markdown",
   "metadata": {},
   "source": [
    "Now let's see the string representation of the AuthoritySpoke Holding object we created from the structured JSON we saw above."
   ]
  },
  {
   "cell_type": "code",
   "execution_count": 15,
   "metadata": {},
   "outputs": [
    {
     "name": "stdout",
     "output_type": "stream",
     "text": [
      "the Holding to ACCEPT\n",
      "  the Rule that the court MUST SOMETIMES impose the\n",
      "    RESULT:\n",
      "      the Fact it is false that <the Java API> was copyrightable\n",
      "    GIVEN:\n",
      "      the Fact it is false that <the Java API> was an original work\n",
      "    GIVEN the ENACTMENT:\n",
      "      \"Copyright protection subsists, in accordance with this title, in original works of authorship fixed in any tangible medium of expression, now known or later developed, from which they can be perceived, reproduced, or otherwise communicated, either directly or with the aid of a machine or device.\" (Title 17, /us/usc/t17/s102/a)\n"
     ]
    }
   ],
   "source": [
    "print(oracle.holdings[0])"
   ]
  },
  {
   "cell_type": "markdown",
   "metadata": {},
   "source": [
    "Instead of the terms \"inputs\" and \"outputs\" we saw in the JSON file, we now have \"GIVEN\" and \"RESULT\". And the \"RESULT\" comes first, because it's hard to understand anything else about a legal rule until you understand what it does. Also, notice the separate heading \"GIVEN the ENACTMENT\". This indicates that the existence of statutory text (or another kind of enactment such as a constitution) can also be a precondition for a Rule to apply. So the two preconditions that must be present to apply this Rule are \"the Fact it is false that the Java API was an original work\" and the statutory text creating copyright protection.\n",
    "\n",
    "It's also important to notice that a Rule can be purely hypothetical from the point of view of the Opinion that posits it. In this case, the court finds that there would be a certain legal significance if it was \"GIVEN\" that `it is false that <the Java API> was an original work`, but the court isn't going to find that precondition applies, so it's also not going to accept the \"RESULT\" that `it is false that <the Java API> was copyrightable`."
   ]
  },
  {
   "cell_type": "markdown",
   "metadata": {},
   "source": [
    "We can also access just the inputs of a Holding, just the Enactments, etc."
   ]
  },
  {
   "cell_type": "code",
   "execution_count": 16,
   "metadata": {},
   "outputs": [
    {
     "name": "stdout",
     "output_type": "stream",
     "text": [
      "the Fact it is false that <the Java API> was an original work\n"
     ]
    }
   ],
   "source": [
    "print(oracle.holdings[0].inputs[0])"
   ]
  },
  {
   "cell_type": "code",
   "execution_count": 17,
   "metadata": {},
   "outputs": [
    {
     "name": "stdout",
     "output_type": "stream",
     "text": [
      "\"Copyright protection subsists, in accordance with this title, in original works of authorship fixed in any tangible medium of expression, now known or later developed, from which they can be perceived, reproduced, or otherwise communicated, either directly or with the aid of a machine or device.\" (Title 17, /us/usc/t17/s102/a)\n"
     ]
    }
   ],
   "source": [
    "print(oracle.holdings[0].enactments[0])"
   ]
  },
  {
   "cell_type": "markdown",
   "metadata": {},
   "source": [
    "## 6. Generic Factors\n",
    "\n",
    "The two instances of the phrase \"the Java API\" are in angle brackets because that phrase is one of the `\"mentioned_factors\"` we defined in the JSON. More specifically, the angle brackets are there because Entity objects are considered `generic` by default, and we didn't specify otherwise."
   ]
  },
  {
   "cell_type": "code",
   "execution_count": 18,
   "metadata": {},
   "outputs": [
    {
     "data": {
      "text/plain": [
       "(Entity(name='the Java API', generic=True, plural=False),)"
      ]
     },
     "execution_count": 18,
     "metadata": {},
     "output_type": "execute_result"
    }
   ],
   "source": [
    "oracle.holdings[0].generic_factors"
   ]
  },
  {
   "cell_type": "markdown",
   "metadata": {},
   "source": [
    "A generic Entity is \"generic\" in the sense that in the context of the Factor or Rule where the Entity appears, it could be replaced with some other Entity without changing the meaning of the Factor or Rule. Legal Rules exist in the abstract, but the same rule may apply in many different specific contexts.\n",
    "\n",
    "Let's illustrate this idea with the first holding from the Lotus case."
   ]
  },
  {
   "cell_type": "code",
   "execution_count": 19,
   "metadata": {},
   "outputs": [
    {
     "name": "stdout",
     "output_type": "stream",
     "text": [
      "the Holding to ACCEPT\n",
      "  the Rule that the court MAY SOMETIMES impose the\n",
      "    RESULT:\n",
      "      the Fact that <Borland International> infringed the copyright in <the Lotus menu command hierarchy>\n",
      "    GIVEN:\n",
      "      the Fact that <the Lotus menu command hierarchy> was copyrightable\n",
      "      the Fact that <Borland International> copied constituent elements of <the Lotus menu command hierarchy> that were original\n",
      "    GIVEN the ENACTMENT:\n",
      "      \"Copyright protection subsists, in accordance with this title, in original works of authorship fixed in any tangible medium of expression, now known or later developed, from which they can be perceived, reproduced, or otherwise communicated, either directly or with the aid of a machine or device.\" (Title 17, /us/usc/t17/s102/a)\n"
     ]
    }
   ],
   "source": [
    "print(lotus.holdings[0])"
   ]
  },
  {
   "cell_type": "markdown",
   "metadata": {},
   "source": [
    "What if we wanted to generalize this Rule about copyright and apply it in a different context, maybe involving books or movies instead of computer programs? First we could look at the `\"generic\"` Factors of the Rule, which were marked off in angle brackets in the string representation of the Rule."
   ]
  },
  {
   "cell_type": "code",
   "execution_count": 20,
   "metadata": {},
   "outputs": [
    {
     "data": {
      "text/plain": [
       "(Entity(name='Borland International', generic=True, plural=False),\n",
       " Entity(name='the Lotus menu command hierarchy', generic=True, plural=False))"
      ]
     },
     "execution_count": 20,
     "metadata": {},
     "output_type": "execute_result"
    }
   ],
   "source": [
    "lotus.holdings[0].generic_factors"
   ]
  },
  {
   "cell_type": "markdown",
   "metadata": {},
   "source": [
    "The same Rules and Holdings may be relevant to more than one Opinion. Let's try applying the idea from `lotus.holdings[0]` to a different copyright case that's also about a derivative work. In [_Castle Rock Entertainment, Inc. v. Carol Publishing Group Inc._](https://en.wikipedia.org/wiki/Castle_Rock_Entertainment,_Inc._v._Carol_Publishing_Group_Inc.) (1998), a United States Court of Appeals found that a publisher infringed the copyright in the sitcom _Seinfeld_ by publishing a trivia book called _SAT: The Seinfeld Aptitude Test_.\n",
    "\n",
    "Maybe we'd like to see how the Rule from the _Lotus_ case could have applied in the context of the _Castle Rock Entertainment_ case, under 17 USC 102 had applied to that dispute. We can check that by replacing the generic factors from the _Lotus_ Rule."
   ]
  },
  {
   "cell_type": "code",
   "execution_count": 21,
   "metadata": {},
   "outputs": [],
   "source": [
    "from authorityspoke import Entity\n",
    "\n",
    "seinfeld_holding = lotus.holdings[0].new_context(\n",
    "    {Entity('Borland International'): Entity('Carol Publishing Group'),\n",
    "    Entity('the Lotus menu command hierarchy'): Entity(\"Seinfeld\")}\n",
    ")"
   ]
  },
  {
   "cell_type": "markdown",
   "metadata": {},
   "source": [
    "In AuthoritySpoke, Holding and Factor objects are \"frozen\" objects, which means Python will try to prevent you from modifying the object after it has been created. The `new_context` method returns a new Holding object, which we've assigned to the name `seinfeld_holding`, but the Holding that we used as a basis for the new object also still exists, and it's unchanged."
   ]
  },
  {
   "cell_type": "code",
   "execution_count": 22,
   "metadata": {},
   "outputs": [
    {
     "name": "stdout",
     "output_type": "stream",
     "text": [
      "the Holding to ACCEPT\n",
      "  the Rule that the court MAY SOMETIMES impose the\n",
      "    RESULT:\n",
      "      the Fact that <Carol Publishing Group> infringed the copyright in <Seinfeld>\n",
      "    GIVEN:\n",
      "      the Fact that <Seinfeld> was copyrightable\n",
      "      the Fact that <Carol Publishing Group> copied constituent elements of <Seinfeld> that were original\n",
      "    GIVEN the ENACTMENT:\n",
      "      \"Copyright protection subsists, in accordance with this title, in original works of authorship fixed in any tangible medium of expression, now known or later developed, from which they can be perceived, reproduced, or otherwise communicated, either directly or with the aid of a machine or device.\" (Title 17, /us/usc/t17/s102/a)\n"
     ]
    }
   ],
   "source": [
    "print(seinfeld_holding)"
   ]
  },
  {
   "cell_type": "markdown",
   "metadata": {},
   "source": [
    "Even though these Holdings have different generic factors and don't evaluate equal to one another, the `means` method shows that they have the same meaning. In other words, they both endorse exactly the same legal Rule. If Holding A `means` Holding B, then Holding A also necessarily `implies` Holding B."
   ]
  },
  {
   "cell_type": "code",
   "execution_count": 23,
   "metadata": {},
   "outputs": [
    {
     "data": {
      "text/plain": [
       "False"
      ]
     },
     "execution_count": 23,
     "metadata": {},
     "output_type": "execute_result"
    }
   ],
   "source": [
    "lotus.holdings[0] == seinfeld_holding"
   ]
  },
  {
   "cell_type": "code",
   "execution_count": 24,
   "metadata": {},
   "outputs": [
    {
     "data": {
      "text/plain": [
       "True"
      ]
     },
     "execution_count": 24,
     "metadata": {},
     "output_type": "execute_result"
    }
   ],
   "source": [
    "lotus.holdings[0].means(seinfeld_holding)"
   ]
  },
  {
   "cell_type": "markdown",
   "metadata": {},
   "source": [
    "## 7. Enactment Objects and Implication"
   ]
  },
  {
   "cell_type": "markdown",
   "metadata": {},
   "source": [
    "Sometimes it's useful to know whether one Rule or Holding implies another. Basically, one legal Holding implies a second Holding if its meaning entirely includes the meaning of the second Holding. To illustrate this idea, let's look at the Enactment that needs to be present to trigger the Holding at `oracle.holdings[0]`."
   ]
  },
  {
   "cell_type": "code",
   "execution_count": 25,
   "metadata": {},
   "outputs": [
    {
     "name": "stdout",
     "output_type": "stream",
     "text": [
      "\"Copyright protection subsists, in accordance with this title, in original works of authorship fixed in any tangible medium of expression, now known or later developed, from which they can be perceived, reproduced, or otherwise communicated, either directly or with the aid of a machine or device.\" (Title 17, /us/usc/t17/s102/a)\n"
     ]
    }
   ],
   "source": [
    "copyright_provision = oracle.holdings[0].enactments[0]\n",
    "print(copyright_provision)"
   ]
  },
  {
   "cell_type": "markdown",
   "metadata": {},
   "source": [
    "The Enactment object refers to a Code object, which is an instance of an AuthoritySpoke class representing a code of laws. Specifically, it refers to [Title 17 of the United States Code](https://www.copyright.gov/title17/)."
   ]
  },
  {
   "cell_type": "code",
   "execution_count": 26,
   "metadata": {},
   "outputs": [
    {
     "name": "stdout",
     "output_type": "stream",
     "text": [
      "Title 17\n"
     ]
    }
   ],
   "source": [
    "usc = copyright_provision.code\n",
    "print(usc)"
   ]
  },
  {
   "cell_type": "markdown",
   "metadata": {},
   "source": [
    "Next, let's create a new Enactment object representing a shorter passage of text from the same Code."
   ]
  },
  {
   "cell_type": "code",
   "execution_count": 27,
   "metadata": {},
   "outputs": [],
   "source": [
    "from authorityspoke import Enactment\n",
    "from authorityspoke.selectors import TextQuoteSelector\n",
    "\n",
    "works_of_authorship_selector = TextQuoteSelector(\n",
    "        \n",
    "        exact=(\"Copyright protection subsists, in accordance with this title,\"\n",
    "                  + \" in original works of authorship\")\n",
    "        )\n",
    "\n",
    "\n",
    "works_of_authorship_clause = Enactment(\n",
    "           source=\"/us/usc/t17/s102/a\", selector=works_of_authorship_selector,\n",
    "            code=usc\n",
    ")"
   ]
  },
  {
   "cell_type": "markdown",
   "metadata": {},
   "source": [
    "Now we can create a new Holding object that cites to our new Enactment object rather than the old one. This time, instead of using the `new_context` method to create a new Holding object, we'll use the `evolve` method. With the `evolve` method, instead of specifying Factors that should be replaced wherever they're found, we specify which attributes from the Rule object's `__init__` method we want to replace, and then specify what we want to replace those attributes' old values with. This returns a new Holding object and doesn't change the existing Holding."
   ]
  },
  {
   "cell_type": "code",
   "execution_count": 28,
   "metadata": {},
   "outputs": [],
   "source": [
    "rule_with_shorter_enactment = oracle.holdings[0].evolve(\n",
    "            {\"enactments\": works_of_authorship_clause}\n",
    "        )"
   ]
  },
  {
   "cell_type": "code",
   "execution_count": 29,
   "metadata": {},
   "outputs": [
    {
     "name": "stdout",
     "output_type": "stream",
     "text": [
      "the Holding to ACCEPT\n",
      "  the Rule that the court MUST SOMETIMES impose the\n",
      "    RESULT:\n",
      "      the Fact it is false that <the Java API> was copyrightable\n",
      "    GIVEN:\n",
      "      the Fact it is false that <the Java API> was an original work\n",
      "    GIVEN the ENACTMENT:\n",
      "      \"Copyright protection subsists, in accordance with this title, in original works of authorship\" (Title 17, /us/usc/t17/s102/a)\n"
     ]
    }
   ],
   "source": [
    "print(rule_with_shorter_enactment)"
   ]
  },
  {
   "cell_type": "markdown",
   "metadata": {},
   "source": [
    "Now let's try comparing this new Rule with the real Rule from the _Oracle_ case, to see whether one implies the other. When you're comparing AuthoritySpoke objects, the greater than sign `>` means \"implies, but is not equal to\"."
   ]
  },
  {
   "cell_type": "code",
   "execution_count": 30,
   "metadata": {},
   "outputs": [
    {
     "data": {
      "text/plain": [
       "True"
      ]
     },
     "execution_count": 30,
     "metadata": {},
     "output_type": "execute_result"
    }
   ],
   "source": [
    "rule_with_shorter_enactment > oracle.holdings[0]"
   ]
  },
  {
   "cell_type": "markdown",
   "metadata": {},
   "source": [
    "You can also use the greater than or equal sign `>=` to mean \"implies or is equal to\". In logic, it's common to say that identical statements also imply one another, so that would mean `>=` is the symbol that really means \"implies\". `<=` can also be used, and it means \"is implied by or is equal to\"."
   ]
  },
  {
   "cell_type": "code",
   "execution_count": 31,
   "metadata": {},
   "outputs": [
    {
     "data": {
      "text/plain": [
       "False"
      ]
     },
     "execution_count": 31,
     "metadata": {},
     "output_type": "execute_result"
    }
   ],
   "source": [
    "rule_with_shorter_enactment <= oracle.holdings[0]"
   ]
  },
  {
   "cell_type": "markdown",
   "metadata": {},
   "source": [
    "By comparing the string representations of the original Rule from the _Oracle_ case and `rule_with_shorter_enactment`, can you tell why the latter implies the former, and not the other way around?\n",
    "\n",
    "If you guessed that it was because `rule_with_shorter_enactment` has a shorter Enactment, you're right. Rules that require fewer, or less specific, inputs are _broader_ than Rules that have more inputs, because there's a larger set of situations where those Rules can be triggered.\n",
    "\n",
    "If this relationship isn't clear to you, imagine some \"Enactment A\" containing only a subset of the text of \"Enactment B\", and then imagine what would happen if a legislature amended some of the statutory text that was part of Enactment B but not of Enactment A. A requirement to cite Enactment B would no longer be possible to satisfy, because some of that text would no longer be available. Thus a requirement to cite Enactment A could be satisfied in every situation where a requirement to cite Enactment B could be satisfied, and then some.\n",
    "\n",
    "If you've read the discussion of [type variance in the mypy documentation](https://mypy.readthedocs.io/en/latest/generics.html?highlight=contravariant#variance-of-generic-types), it might help to think of Rules and Holdings as similar to callables that are contravariant with their inputs, but covariant with their outputs."
   ]
  },
  {
   "cell_type": "markdown",
   "metadata": {},
   "source": [
    "## 8. Checking for Contradictions"
   ]
  },
  {
   "cell_type": "markdown",
   "metadata": {},
   "source": [
    "Let's turn back to the _Lotus_ case.\n",
    "\n",
    "It says that under a statute providing that \"In no case does copyright protection for an original work of authorship extend to any...method of operation\", the fact that a Lotus menu command hierarchy was a \"method of operation\" meant that it was also uncopyrightable, despite a couple of Facts that might tempt some courts to rule the other way."
   ]
  },
  {
   "cell_type": "code",
   "execution_count": 32,
   "metadata": {
    "scrolled": false
   },
   "outputs": [
    {
     "name": "stdout",
     "output_type": "stream",
     "text": [
      "the Holding to ACCEPT\n",
      "  the Rule that the court MUST ALWAYS impose the\n",
      "    RESULT:\n",
      "      the Fact it is false that <the Lotus menu command hierarchy> was copyrightable\n",
      "    GIVEN:\n",
      "      the Fact that <the Lotus menu command hierarchy> was a method of operation\n",
      "    DESPITE:\n",
      "      the Fact that a text described <the Lotus menu command hierarchy>\n",
      "      the Fact that <the Lotus menu command hierarchy> was an original work\n",
      "    GIVEN the ENACTMENTS:\n",
      "      \"In no case does copyright protection for an original work of authorship extend to any\" (Title 17, /us/usc/t17/s102/b)\n",
      "      \"method of operation\" (Title 17, /us/usc/t17/s102/b)\n"
     ]
    }
   ],
   "source": [
    "print(lotus.holdings[8])"
   ]
  },
  {
   "cell_type": "markdown",
   "metadata": {},
   "source": [
    "_Lotus_ was a case relied upon by Google in the _Oracle v. Google_ case, but Oracle was the winner in that decision. So we might wonder whether the _Oracle_ Opinion contradicts the _Lotus_ Opinion. Let's check."
   ]
  },
  {
   "cell_type": "code",
   "execution_count": 33,
   "metadata": {},
   "outputs": [
    {
     "data": {
      "text/plain": [
       "True"
      ]
     },
     "execution_count": 33,
     "metadata": {},
     "output_type": "execute_result"
    }
   ],
   "source": [
    "oracle.contradicts(lotus)"
   ]
  },
  {
   "cell_type": "markdown",
   "metadata": {},
   "source": [
    "Good to know! But maybe we want more detail than that. Let's check each Holding posited by the _Oracle_ case to see whether it contradicts lotus.holdings[8]."
   ]
  },
  {
   "cell_type": "code",
   "execution_count": 34,
   "metadata": {},
   "outputs": [
    {
     "name": "stdout",
     "output_type": "stream",
     "text": [
      "00 False\n",
      "01 False\n",
      "02 False\n",
      "03 False\n",
      "04 False\n",
      "05 False\n",
      "06 False\n",
      "07 False\n",
      "08 False\n",
      "09 False\n",
      "10 True\n",
      "11 False\n",
      "12 False\n",
      "13 False\n",
      "14 False\n",
      "15 False\n",
      "16 False\n",
      "17 False\n",
      "18 False\n",
      "19 False\n"
     ]
    }
   ],
   "source": [
    "for index, oracle_holding in enumerate(oracle.holdings):\n",
    "    print(f'{index:02} {oracle_holding.contradicts(lotus.holdings[8])}')"
   ]
  },
  {
   "cell_type": "markdown",
   "metadata": {},
   "source": [
    "It looks like the Holding at index 10 of oracle.holdings contradicts the _Lotus_ court's Holding. Let's read it and see if we can spot the contradiction."
   ]
  },
  {
   "cell_type": "code",
   "execution_count": 35,
   "metadata": {},
   "outputs": [
    {
     "name": "stdout",
     "output_type": "stream",
     "text": [
      "the Holding to ACCEPT\n",
      "  the Rule that the court MUST SOMETIMES impose the\n",
      "    RESULT:\n",
      "      the Fact that <the Java API> was copyrightable\n",
      "    GIVEN:\n",
      "      the Fact that <the Java language> was a computer program\n",
      "      the Fact that <the Java API> was a set of application programming interface declarations\n",
      "      the Fact that <the Java API> was an original work\n",
      "      the Fact that <the Java API> was a non-literal element of <the Java language>\n",
      "      the Fact that <the Java API> was the expression of an idea\n",
      "      the Fact it is false that <the Java API> was essentially the only way to express the idea that it embodied\n",
      "      the Fact that <the Java API> was creative\n",
      "      the Fact that it was possible to use <the Java language> without copying <the Java API>\n",
      "    DESPITE:\n",
      "      the Fact that <the Java API> was a method of operation\n",
      "      the Fact that <the Java API> contained short phrases\n",
      "      the Fact that <the Java API> became so popular that it was the industry standard\n",
      "      the Fact that there was a preexisting community of programmers accustomed to using <the Java API>\n",
      "    GIVEN the ENACTMENT:\n",
      "      \"Copyright protection subsists, in accordance with this title, in original works of authorship fixed in any tangible medium of expression, now known or later developed, from which they can be perceived, reproduced, or otherwise communicated, either directly or with the aid of a machine or device.\" (Title 17, /us/usc/t17/s102/a)\n",
      "    DESPITE the ENACTMENTS:\n",
      "      \"In no case does copyright protection for an original work of authorship extend to any\" (Title 17, /us/usc/t17/s102/b)\n",
      "      \"method of operation\" (Title 17, /us/usc/t17/s102/b)\n",
      "      \"The following are examples of works not subject to copyright and applications for registration of such works cannot be entertained: (a) Words and short phrases such as names, titles, and slogans;\" (Code of Federal Regulations Title 37, /us/cfr/t37/s202.1)\n"
     ]
    }
   ],
   "source": [
    "print(oracle.holdings[10])"
   ]
  },
  {
   "cell_type": "markdown",
   "metadata": {},
   "source": [
    "We can use the `explain_contradiction` method to generate \"explanations\" of why a contradiction is possible between these two Holdings. Each explanation is a mapping that shows how the context factors of the Holding on the left can be mapped onto the Holding on the right. The `explain_contradiction` returns a generator object, so you can use the `next()` command on it to get explanations one at a time. For this example, I'll just convert it to a list."
   ]
  },
  {
   "cell_type": "code",
   "execution_count": 36,
   "metadata": {},
   "outputs": [
    {
     "name": "stdout",
     "output_type": "stream",
     "text": [
      "ContextRegister(<the Lotus menu command hierarchy> -> <the Java API>)\n"
     ]
    }
   ],
   "source": [
    "explanations = lotus.holdings[8].explain_contradiction(oracle.holdings[10])\n",
    "explanations = list(explanations)\n",
    "print(explanations[0])"
   ]
  },
  {
   "cell_type": "markdown",
   "metadata": {},
   "source": [
    "So the explanation we've been given is that these two Holdings contradict each other if you consider 'the Lotus menu command hierarchy' to be analagous to 'the Java API'. The other possible explanation AuthoritySpoke could have given would have been that 'the Lotus menu command hierarchy' is analagous to 'the Java language'. Let's see if the other possible `ContextRegister` also appears in `explanations`."
   ]
  },
  {
   "cell_type": "code",
   "execution_count": 37,
   "metadata": {},
   "outputs": [
    {
     "data": {
      "text/plain": [
       "1"
      ]
     },
     "execution_count": 37,
     "metadata": {},
     "output_type": "execute_result"
    }
   ],
   "source": [
    "len(explanations)"
   ]
  },
  {
   "cell_type": "markdown",
   "metadata": {},
   "source": [
    "No, there's only the one explanation of how these rules can contradict each other. If you read the _Oracle_ case, this makes sense. It's only about infringing the copyright in the Java API, not the copyright in the whole Java language. A statement about infringement of 'the Java language' would be irrelevant, not contradictory.\n",
    "\n",
    "But what exactly is the contradiction between the two Holdings?"
   ]
  },
  {
   "cell_type": "markdown",
   "metadata": {},
   "source": [
    "The first obvious contrast between `lotus.holdings[8]` and `oracle.holdings[10]` is that the Holding from the _Lotus_ case is relatively succinct and categorical. The _Lotus_ court interprets Section 102(b) of the Copyright Act to mean that if a work is a \"method of operation\", it's simply impossible for that work to be copyrighted, so it's not necessary to consider a lot of case-specific facts to reach a conclusion.\n",
    "\n",
    "The Federal Circuit's _Oracle_ decision complicates that view significantly. The Federal Circuit believes that the fact that an API is, or hypothetically might be, a \"method of operation\" is only one of many factors that a court can consider in deciding copyrightability. The following quotation, repeated in the _Oracle_ case, illustrates the Federal Circuit's view.\n",
    "\n",
    "> “Section 102(b) does not extinguish the protection accorded a particular expression of an idea merely because that expression is embodied in a method of operation.” _Mitel, Inc. v. Iqtel, Inc._, 124 F.3d 1366, 1372 (10th Cir.1997)\n",
    "\n",
    "And that's why AuthoritySpoke finds a contradiction between these two Rules. The _Oracle_ opinion says that courts can sometimes accept the result `the Fact that <the Java API> was copyrightable` despite the fact `<the Java API> was a method of operation`. The _Lotus_ Opinion would consider that impossible.\n",
    "\n",
    "By the way, AuthoritySpoke isn't applying any sophisticated grammatical parsing to understand the meaning of each Fact. AuthoritySpoke won't recognize that Facts have the same meaning unless their `content` values are exactly the same string. As discussed above, they can also differ in their references to generic factors, which are the phrases that appear in brackets when you use the `print()` command on them. \n",
    "\n",
    "(AuthoritySpoke can also compare Facts based on an optional numeric value that can come at the end of the string, which isn't demonstrated in this tutorial.)"
   ]
  },
  {
   "cell_type": "markdown",
   "metadata": {},
   "source": [
    "## 9. Adding Holdings"
   ]
  },
  {
   "cell_type": "markdown",
   "metadata": {},
   "source": [
    "To try out the addition feature, let's load another case from the `example_data` folder."
   ]
  },
  {
   "cell_type": "code",
   "execution_count": 38,
   "metadata": {},
   "outputs": [],
   "source": [
    "feist = load_opinion(\"feist_h.json\")\n",
    "feist_holdings = load_holdings(\"holding_feist.json\", regime=usa)\n",
    "feist.posit(feist_holdings)"
   ]
  },
  {
   "cell_type": "markdown",
   "metadata": {},
   "source": [
    "[_Feist Publications, Inc. v. Rural Telephone Service Co._](https://en.wikipedia.org/wiki/Feist_Publications,_Inc.,_v._Rural_Telephone_Service_Co.) was a case that held that the listings in a telephone directory did not qualify as \"an original work\" and that only original works are eligible for protection under the Copyright Act. This is a two-step analysis. \n",
    "\n",
    "The first step results in the Fact it is false that a generic Entity was \"an original work\": "
   ]
  },
  {
   "cell_type": "code",
   "execution_count": 39,
   "metadata": {},
   "outputs": [
    {
     "name": "stdout",
     "output_type": "stream",
     "text": [
      "the Holding to ACCEPT\n",
      "  the Rule that the court MAY SOMETIMES impose the\n",
      "    RESULT:\n",
      "      the Fact it is false that <Rural's telephone listings> were an original work\n",
      "    GIVEN:\n",
      "      the Fact that <Rural's telephone listings> were names, towns, and telephone numbers of telephone subscribers\n",
      "    GIVEN the ENACTMENTS:\n",
      "      \"To promote the Progress of Science and useful Arts, by securing for limited Times to Authors\" (Constitution of the United States, /us/const/article-I/8/8)\n",
      "      \"the exclusive Right to their respective Writings\" (Constitution of the United States, /us/const/article-I/8/8)\n",
      "      \"Copyright protection subsists, in accordance with this title, in original works of authorship\" (Title 17, /us/usc/t17/s102/a)\n",
      "      \"The copyright in a compilation\" (Title 17, /us/usc/t17/s103/b)\n",
      "      \"extends only to the material contributed by the author of such work, as distinguished from the preexisting material employed in the work, and does not imply any exclusive right in the preexisting material.\" (Title 17, /us/usc/t17/s103/b)\n"
     ]
    }
   ],
   "source": [
    "print(feist.holdings[11])"
   ]
  },
  {
   "cell_type": "markdown",
   "metadata": {},
   "source": [
    "And the second step relies on the result of the first step to reach the further result of \"absence of the Fact that\" a generic Entity was \"copyrightable\"."
   ]
  },
  {
   "cell_type": "code",
   "execution_count": 40,
   "metadata": {},
   "outputs": [
    {
     "name": "stdout",
     "output_type": "stream",
     "text": [
      "the Holding to ACCEPT\n",
      "  the Rule that the court MUST ALWAYS impose the\n",
      "    RESULT:\n",
      "      absence of the Fact that <Rural's telephone directory> was copyrightable\n",
      "    GIVEN:\n",
      "      absence of the Fact that <Rural's telephone directory> was an original work\n",
      "    GIVEN the ENACTMENTS:\n",
      "      \"To promote the Progress of Science and useful Arts, by securing for limited Times to Authors\" (Constitution of the United States, /us/const/article-I/8/8)\n",
      "      \"the exclusive Right to their respective Writings\" (Constitution of the United States, /us/const/article-I/8/8)\n",
      "      \"Copyright protection subsists, in accordance with this title, in original works of authorship\" (Title 17, /us/usc/t17/s102/a)\n"
     ]
    }
   ],
   "source": [
    "print(feist.holdings[4])"
   ]
  },
  {
   "cell_type": "markdown",
   "metadata": {},
   "source": [
    "In this situation, anytime the first Holding (feist.holdings[11]) is applied, the second Holding (feist.holdings[4]) can be applied as well. That means the two Holdings can be added together to make a single Holding that captures the whole process."
   ]
  },
  {
   "cell_type": "code",
   "execution_count": 41,
   "metadata": {},
   "outputs": [
    {
     "name": "stdout",
     "output_type": "stream",
     "text": [
      "the Holding to ACCEPT\n",
      "  the Rule that the court MAY SOMETIMES impose the\n",
      "    RESULT:\n",
      "      the Fact it is false that <Rural's telephone listings> were an original work\n",
      "      absence of the Fact that <Rural's telephone listings> were copyrightable\n",
      "    GIVEN:\n",
      "      the Fact that <Rural's telephone listings> were names, towns, and telephone numbers of telephone subscribers\n",
      "    GIVEN the ENACTMENTS:\n",
      "      \"To promote the Progress of Science and useful Arts, by securing for limited Times to Authors\" (Constitution of the United States, /us/const/article-I/8/8)\n",
      "      \"the exclusive Right to their respective Writings\" (Constitution of the United States, /us/const/article-I/8/8)\n",
      "      \"Copyright protection subsists, in accordance with this title, in original works of authorship\" (Title 17, /us/usc/t17/s102/a)\n",
      "      \"The copyright in a compilation\" (Title 17, /us/usc/t17/s103/b)\n",
      "      \"extends only to the material contributed by the author of such work, as distinguished from the preexisting material employed in the work, and does not imply any exclusive right in the preexisting material.\" (Title 17, /us/usc/t17/s103/b)\n"
     ]
    }
   ],
   "source": [
    "listings_not_copyrightable = feist.holdings[11] + feist.holdings[4]\n",
    "print(listings_not_copyrightable)"
   ]
  },
  {
   "cell_type": "markdown",
   "metadata": {},
   "source": [
    "The difference between `feist.holdings[11]` and the newly-created Holding `listings_not_copyrightable` is that `listings_not_copyrightable` has two Factors under its \"RESULT\", not just one. Notice that it doesn't matter that the two original Holdings reference different generic Entities (\"Rural's telephone directory\" versus \"Rural's telephone listings\"). Because they're generic, they're interchangeable for this purpose."
   ]
  },
  {
   "cell_type": "markdown",
   "metadata": {},
   "source": [
    "You might recall that oracle.holdings[0] also was also about the relationship between originality and copyrightability. Let's see what happens when we add oracle.holdings[0] to feist.holdings[11]."
   ]
  },
  {
   "cell_type": "code",
   "execution_count": 42,
   "metadata": {},
   "outputs": [
    {
     "name": "stdout",
     "output_type": "stream",
     "text": [
      "None\n"
     ]
    }
   ],
   "source": [
    "print(feist.holdings[11] + oracle.holdings[0])"
   ]
  },
  {
   "cell_type": "markdown",
   "metadata": {},
   "source": [
    "Can you guess why it's not possible to add these two Holdings together? Here's a hint:"
   ]
  },
  {
   "cell_type": "code",
   "execution_count": 43,
   "metadata": {},
   "outputs": [
    {
     "data": {
      "text/plain": [
       "False"
      ]
     },
     "execution_count": 43,
     "metadata": {},
     "output_type": "execute_result"
    }
   ],
   "source": [
    "feist.holdings[11].universal"
   ]
  },
  {
   "cell_type": "code",
   "execution_count": 44,
   "metadata": {},
   "outputs": [
    {
     "data": {
      "text/plain": [
       "False"
      ]
     },
     "execution_count": 44,
     "metadata": {},
     "output_type": "execute_result"
    }
   ],
   "source": [
    "oracle.holdings[0].universal"
   ]
  },
  {
   "cell_type": "code",
   "execution_count": 45,
   "metadata": {},
   "outputs": [
    {
     "data": {
      "text/plain": [
       "True"
      ]
     },
     "execution_count": 45,
     "metadata": {},
     "output_type": "execute_result"
    }
   ],
   "source": [
    "feist.holdings[4].universal"
   ]
  },
  {
   "cell_type": "markdown",
   "metadata": {},
   "source": [
    "`feist.holdings[11]` and `oracle.holdings[0]` are both Holdings that purport to apply in \"SOME\" cases where the specified inputs are present, while `feist.holdings[4]` purports to apply in \"ALL\" such cases.\n",
    "\n",
    "You can't infer that there's any situation where `feist.holdings[11]` and `oracle.holdings[0]` can actually be applied together, because there might not be any overlap between the \"SOME\" cases where one applies and the \"SOME\" cases where the other applies. But `feist.holdings[4]` says it applies in \"ALL\" cases as long as the inputs mention in its \"GIVEN\" fields are satisfied. That means that if `feist.holdings[11]` and `feist.holdings[4]` are both valid law, then we know they can both apply together in any of the \"SOME\" cases where `feist.holdings[11]` applies."
   ]
  },
  {
   "cell_type": "markdown",
   "metadata": {},
   "source": [
    "## 10. Set Operations with Holdings"
   ]
  },
  {
   "cell_type": "markdown",
   "metadata": {},
   "source": [
    "In AuthoritySpoke, the union operation is different from the addition operation, and it usually gives different results."
   ]
  },
  {
   "cell_type": "code",
   "execution_count": 46,
   "metadata": {},
   "outputs": [
    {
     "data": {
      "text/plain": [
       "False"
      ]
     },
     "execution_count": 46,
     "metadata": {},
     "output_type": "execute_result"
    }
   ],
   "source": [
    "result_of_adding = feist.holdings[11] + feist.holdings[4]\n",
    "result_of_union = feist.holdings[11] | feist.holdings[4]\n",
    "\n",
    "result_of_adding == result_of_union"
   ]
  },
  {
   "cell_type": "markdown",
   "metadata": {},
   "source": [
    "Two set operations that can be meaningfully applied to AuthoritySpoke objects are the union operation (using Python's | operator) and the intersection operation (not yet implemented in AuthoritySpoke 0.2)."
   ]
  },
  {
   "cell_type": "markdown",
   "metadata": {},
   "source": [
    "For context, let's review how these operators apply to ordinary Python sets. The union operator combines two sets by returning a new set with all of the elements of either of the original sets."
   ]
  },
  {
   "cell_type": "code",
   "execution_count": 47,
   "metadata": {},
   "outputs": [
    {
     "data": {
      "text/plain": [
       "{1, 3, 4, 5}"
      ]
     },
     "execution_count": 47,
     "metadata": {},
     "output_type": "execute_result"
    }
   ],
   "source": [
    "{3, 4} | {1, 4, 5}"
   ]
  },
  {
   "cell_type": "markdown",
   "metadata": {},
   "source": [
    "The intersection operator returns a new set with only the elements that were in both original sets."
   ]
  },
  {
   "cell_type": "code",
   "execution_count": 48,
   "metadata": {},
   "outputs": [
    {
     "data": {
      "text/plain": [
       "{4}"
      ]
     },
     "execution_count": 48,
     "metadata": {},
     "output_type": "execute_result"
    }
   ],
   "source": [
    "{3, 4} & {1, 4, 5}"
   ]
  },
  {
   "cell_type": "markdown",
   "metadata": {},
   "source": [
    "Apply the union operator to two Holdings to get a new Holding with all of the inputs and all of the outputs of both of the two original Holdings. However, you only get such a new Holding if it can be inferred by accepting the truth of the two original Holdings. If the two original holdings contradict one another, the operation returns `None`. Likewise, if the two original holdings both have the value `False` for the parameter `universal`, the operation will return `None` if it's possible that the \"SOME\" cases where one of the original Holdings applies don't overlap with the \"SOME\" cases where the other applies.\n",
    "\n",
    "In this example, we'll look at a holding from _Oracle_, then a holding from _Feist_, and then the union of both of them."
   ]
  },
  {
   "cell_type": "code",
   "execution_count": 49,
   "metadata": {},
   "outputs": [
    {
     "name": "stdout",
     "output_type": "stream",
     "text": [
      "the Holding to ACCEPT\n",
      "  the Rule that the court MUST ALWAYS impose the\n",
      "    RESULT:\n",
      "      the Fact that <the Java API> was an original work\n",
      "    GIVEN:\n",
      "      the Fact that <the Java API> was independently created by the author, as opposed to copied from other works\n",
      "      the Fact that <the Java API> possessed at least some minimal degree of creativity\n",
      "    GIVEN the ENACTMENT:\n",
      "      \"Copyright protection subsists, in accordance with this title, in original works of authorship fixed in any tangible medium of expression, now known or later developed, from which they can be perceived, reproduced, or otherwise communicated, either directly or with the aid of a machine or device.\" (Title 17, /us/usc/t17/s102/a)\n"
     ]
    }
   ],
   "source": [
    "print(oracle.holdings[1])"
   ]
  },
  {
   "cell_type": "code",
   "execution_count": 50,
   "metadata": {},
   "outputs": [
    {
     "name": "stdout",
     "output_type": "stream",
     "text": [
      "the Holding to ACCEPT\n",
      "  the Rule that the court MUST ALWAYS impose the\n",
      "    RESULT:\n",
      "      the Fact it is false that <Rural's telephone directory> was copyrightable\n",
      "    GIVEN:\n",
      "      the Fact that <Rural's telephone directory> was an idea\n",
      "    GIVEN the ENACTMENTS:\n",
      "      \"To promote the Progress of Science and useful Arts, by securing for limited Times to Authors\" (Constitution of the United States, /us/const/article-I/8/8)\n",
      "      \"the exclusive Right to their respective Writings\" (Constitution of the United States, /us/const/article-I/8/8)\n"
     ]
    }
   ],
   "source": [
    "print(feist.holdings[2])"
   ]
  },
  {
   "cell_type": "code",
   "execution_count": 51,
   "metadata": {},
   "outputs": [
    {
     "name": "stdout",
     "output_type": "stream",
     "text": [
      "the Holding to ACCEPT\n",
      "  the Rule that the court MUST ALWAYS impose the\n",
      "    RESULT:\n",
      "      the Fact that <the Java API> was an original work\n",
      "      the Fact it is false that <the Java API> was copyrightable\n",
      "    GIVEN:\n",
      "      the Fact that <the Java API> was independently created by the author, as opposed to copied from other works\n",
      "      the Fact that <the Java API> possessed at least some minimal degree of creativity\n",
      "      the Fact that <the Java API> was an idea\n",
      "    GIVEN the ENACTMENTS:\n",
      "      \"the exclusive Right to their respective Writings\" (Constitution of the United States, /us/const/article-I/8/8)\n",
      "      \"To promote the Progress of Science and useful Arts, by securing for limited Times to Authors\" (Constitution of the United States, /us/const/article-I/8/8)\n",
      "      \"Copyright protection subsists, in accordance with this title, in original works of authorship fixed in any tangible medium of expression, now known or later developed, from which they can be perceived, reproduced, or otherwise communicated, either directly or with the aid of a machine or device.\" (Title 17, /us/usc/t17/s102/a)\n"
     ]
    }
   ],
   "source": [
    "print(oracle.holdings[1] | feist.holdings[2])"
   ]
  },
  {
   "cell_type": "markdown",
   "metadata": {},
   "source": [
    "It's not obvious that a litigant could really establish all the \"GIVEN\" Factors listed above in a single case in a court where `oracle.holdings[1]` and `feist.holdings[2]` were both valid law, but if they could, then it seems correct for AuthoritySpoke to conclude that the court would have to find both `the Fact that <the Java API> was an original work` and `the Fact it is false that <the Java API> was copyrightable`.\n",
    "\n",
    "The union operator is useful for searching for contradictions in a collection of Holdings. When two Holdings are combined together with the union operator, their union might contradict other Holdings that neither of the two original Holdings would have contradicted on their own."
   ]
  },
  {
   "cell_type": "markdown",
   "metadata": {},
   "source": [
    "## 11. Nuances of Meaning in Holdings"
   ]
  },
  {
   "cell_type": "markdown",
   "metadata": {},
   "source": [
    "Let's look at one more sentence from the _Oracle_ Opinion, so I can point out a few more design decisions AuthoritySpoke makes in representing procedural Holdings.\n",
    "\n",
    "> In the Ninth Circuit, while questions regarding originality are considered questions of copyrightability, concepts of merger and scenes a faire are affirmative defenses to claims of infringement.\n",
    "\n",
    "(The \"merger\" doctrine says that a work is deemed to be \"merged\" with an uncopyrightable idea if it's essentially the only way to express the idea. \"Scenes a faire\" is a concept applied mostly to works of fiction, and it means that conventional genre tropes are not copyrightable.)\n",
    "\n",
    "The quoted sentence is fairly ordinary, as court opinions go, but I found several interesting challenges in creating structered data about its procedural meaning.\n",
    "\n",
    "1. The sentence describes what the law is \"In the Ninth Circuit\". You might remember that the court that issued the Oracle opinion was the Federal Circuit, not the Ninth Circuit. So the Federal Circuit is deciding what it thinks that the Ninth Circuit thinks that Congress meant by enacting the statute. The middle layer of this interpretation, in which the Federal Circuit attributes a belief to the Ninth Circuit, is simply absent from the AuthoritySpoke model of the Holding. However, future updates to AuthoritySpoke might make it possible to capture this information.\n",
    "\n",
    "2. The sentence uses the concept of an \"affirmative defense\", which generally means a defense that the defendant has the burden of proof to establish. I chose to model this concept by writing that if one of the facts that would establish the affirmative defense is present, then it could be established that the copyright was not infringed, but if they are both absent, then the copyright could have been infringed. I'm sure some legal experts would find this too simplistic, and would argue that it's not possible to formalize the concept of an affirmative defense without explicitly mentioning procedural concepts like a burden of proof.\n",
    "\n",
    "3. The sentence seems to have something to say about what happens if either of two Factors are present, or if both of them are absent. That makes three different Rules. It's not ideal for one sentence to explode into multiple different Python objects when it's formalized, and it's worth wondering whether there would have been a way to pack all the information into a single object. \n",
    "\n",
    "4. I noticed that the concept of a copyrighted work being \"merged\" or being a \"scene a faire\" are both characteristics intrinsic in the copyrighted work, and don't depend on the characteristics of the allegedly infringing work. So if a work that's \"merged\" or is a \"scene a faire\" can't be infringed, that means there are some works that are \"copyrightable\" but that can never be infringed by any other work. I suspect that the court's interpretation of these legal categories could confuse future courts and parties, with the result that the \"merger\" or \"scene a faire\" concepts could fall through the cracks and be ignored. Would there be a useful way to have AuthoritySpoke flag the issue that a conclusion about two different Entities is being based on Factors that only relate to one of those two Entities?\n",
    "\n",
    "The three Holding objects used to represent the sentence from the _Oracle_ opinion can be found in the Appendix below. They're `oracle.holdings[11]` through `oracle.holdings[13]`."
   ]
  },
  {
   "cell_type": "markdown",
   "metadata": {},
   "source": [
    "## Appendix: Holding Objects in *Oracle v. Google* and *Lotus v. Borland*"
   ]
  },
  {
   "cell_type": "markdown",
   "metadata": {},
   "source": [
    "This Appendix will list all of the Holding objects in `oracle.holdings` and `lotus.holdings`. Each Holding will be preceded by a passage from the Opinion that indicates the Opinion has endorsed the Holding. In future versions, AuthoritySpoke will give users the ability to explore the text passages in Opinions that provide support for each Holding, but that's currently not implemented.\n",
    "\n",
    "To find the full text of the opinions, look in the example_data/opinions/ folder. The text delivered by the CAP API was collected from print sources, so it will contain some Optical Character Recognition errors."
   ]
  },
  {
   "cell_type": "markdown",
   "metadata": {},
   "source": [
    "### *Lotus v. Borland* 49 F.3d 807 (1995)"
   ]
  },
  {
   "cell_type": "markdown",
   "metadata": {},
   "source": [
    "> To establish copyright infringement, a plaintiff must prove \"(1) ownership of a valid copyright, and (2) copying of constituent elements of the work that are original.\""
   ]
  },
  {
   "cell_type": "code",
   "execution_count": 52,
   "metadata": {},
   "outputs": [
    {
     "name": "stdout",
     "output_type": "stream",
     "text": [
      "the Holding to ACCEPT\n",
      "  the Rule that the court MAY SOMETIMES impose the\n",
      "    RESULT:\n",
      "      the Fact that <Borland International> infringed the copyright in <the Lotus menu command hierarchy>\n",
      "    GIVEN:\n",
      "      the Fact that <the Lotus menu command hierarchy> was copyrightable\n",
      "      the Fact that <Borland International> copied constituent elements of <the Lotus menu command hierarchy> that were original\n",
      "    GIVEN the ENACTMENT:\n",
      "      \"Copyright protection subsists, in accordance with this title, in original works of authorship fixed in any tangible medium of expression, now known or later developed, from which they can be perceived, reproduced, or otherwise communicated, either directly or with the aid of a machine or device.\" (Title 17, /us/usc/t17/s102/a)\n",
      "\n",
      "\n",
      "the Holding to ACCEPT\n",
      "  the Rule that the court MUST ALWAYS impose the\n",
      "    RESULT:\n",
      "      absence of the Fact that <Borland International> infringed the copyright in <the Lotus menu command hierarchy>\n",
      "    GIVEN:\n",
      "      absence of the Fact that <the Lotus menu command hierarchy> was copyrightable\n",
      "    GIVEN the ENACTMENT:\n",
      "      \"Copyright protection subsists, in accordance with this title, in original works of authorship fixed in any tangible medium of expression, now known or later developed, from which they can be perceived, reproduced, or otherwise communicated, either directly or with the aid of a machine or device.\" (Title 17, /us/usc/t17/s102/a)\n",
      "\n",
      "\n",
      "the Holding to ACCEPT\n",
      "  the Rule that the court MUST ALWAYS impose the\n",
      "    RESULT:\n",
      "      absence of the Fact that <Borland International> infringed the copyright in <the Lotus menu command hierarchy>\n",
      "    GIVEN:\n",
      "      absence of the Fact that <Borland International> copied constituent elements of <the Lotus menu command hierarchy> that were original\n",
      "    GIVEN the ENACTMENT:\n",
      "      \"Copyright protection subsists, in accordance with this title, in original works of authorship fixed in any tangible medium of expression, now known or later developed, from which they can be perceived, reproduced, or otherwise communicated, either directly or with the aid of a machine or device.\" (Title 17, /us/usc/t17/s102/a)\n",
      "\n",
      "\n"
     ]
    }
   ],
   "source": [
    "for h in lotus.holdings[:3]: \n",
    "    print(str(h) + \"\\n\\n\")"
   ]
  },
  {
   "cell_type": "markdown",
   "metadata": {},
   "source": [
    "> In judicial proceedings, a certificate of copyright registration constitutes prima facie evidence of copyrightability and shifts the burden to the defendant to demonstrate why the copyright is not valid."
   ]
  },
  {
   "cell_type": "code",
   "execution_count": 53,
   "metadata": {},
   "outputs": [
    {
     "name": "stdout",
     "output_type": "stream",
     "text": [
      "the Holding to ACCEPT\n",
      "  the Rule that the court MAY SOMETIMES impose the\n",
      "    RESULT:\n",
      "      the Fact that <the Lotus menu command hierarchy> was copyrightable\n",
      "    GIVEN:\n",
      "      the Evidence \n",
      "        OF:\n",
      "          the Exhibit in the FORM of certificate of copyright registration\n",
      "        INDICATING:\n",
      "          the Fact that <Lotus Development Corporation> registered a copyright covering <the Lotus menu command hierarchy>\n",
      "      absence of the Fact it is false that <the Lotus menu command hierarchy> was copyrightable\n",
      "    GIVEN the ENACTMENT:\n",
      "      \"In any judicial proceedings the certificate of a registration made before or within five years after first publication of the work shall constitute prima facie evidence of the validity of the copyright and of the facts stated in the certificate. The evidentiary weight to be accorded the certificate of a registration made thereafter shall be within the discretion of the court.\" (Title 17, /us/usc/t17/s410/c)\n"
     ]
    }
   ],
   "source": [
    "print(lotus.holdings[4])"
   ]
  },
  {
   "cell_type": "markdown",
   "metadata": {},
   "source": [
    "> To show actionable copying and therefore satisfy Feist’s second prong, a plaintiff must first prove that the alleged infringer copied plaintiffs copyrighted work as a factual matter; to do this, he or she may either present direct evidence of factual copying or..."
   ]
  },
  {
   "cell_type": "code",
   "execution_count": 54,
   "metadata": {},
   "outputs": [
    {
     "name": "stdout",
     "output_type": "stream",
     "text": [
      "the Holding to ACCEPT\n",
      "  the Rule that the court MAY SOMETIMES impose the\n",
      "    RESULT:\n",
      "      the Fact that <Borland International> copied <the Lotus menu command hierarchy> in creating <Quattro's Lotus Emulation Interface>\n",
      "    GIVEN:\n",
      "      the Evidence \n",
      "        INDICATING:\n",
      "          the Fact that <Borland International> copied <the Lotus menu command hierarchy> in creating <Quattro's Lotus Emulation Interface>\n",
      "    GIVEN the ENACTMENT:\n",
      "      \"Copyright protection subsists, in accordance with this title, in original works of authorship fixed in any tangible medium of expression, now known or later developed, from which they can be perceived, reproduced, or otherwise communicated, either directly or with the aid of a machine or device.\" (Title 17, /us/usc/t17/s102/a)\n"
     ]
    }
   ],
   "source": [
    "print(lotus.holdings[5])"
   ]
  },
  {
   "cell_type": "markdown",
   "metadata": {},
   "source": [
    "> To show actionable copying and therefore satisfy Feist’s second prong, a plaintiff must first prove that the alleged infringer copied plaintiffs copyrighted work as a factual matter; to do this, he or she may either present direct evidence of factual copying or, if that is unavailable, evidence that the alleged infringer had access to the copyrighted work and that the offending and copyrighted works are so similar that the court may infer that there was factual copying (i.e., probative similarity)."
   ]
  },
  {
   "cell_type": "code",
   "execution_count": 55,
   "metadata": {},
   "outputs": [
    {
     "name": "stdout",
     "output_type": "stream",
     "text": [
      "the Holding to ACCEPT\n",
      "  the Rule that the court MAY SOMETIMES impose the\n",
      "    RESULT:\n",
      "      the Fact that <Borland International> copied <the Lotus menu command hierarchy> in creating <Quattro's Lotus Emulation Interface>\n",
      "    GIVEN:\n",
      "      the Evidence \n",
      "        INDICATING:\n",
      "          the Fact that <Borland International> had access to <the Lotus menu command hierarchy>\n",
      "      the Fact that <Borland International> published <Quattro's Lotus Emulation Interface>\n",
      "      the Evidence \n",
      "        INDICATING:\n",
      "          the Fact that <Quattro's Lotus Emulation Interface> was very similar to <the Lotus menu command hierarchy>\n",
      "    GIVEN the ENACTMENT:\n",
      "      \"Copyright protection subsists, in accordance with this title, in original works of authorship fixed in any tangible medium of expression, now known or later developed, from which they can be perceived, reproduced, or otherwise communicated, either directly or with the aid of a machine or device.\" (Title 17, /us/usc/t17/s102/a)\n"
     ]
    }
   ],
   "source": [
    "print(lotus.holdings[6])"
   ]
  },
  {
   "cell_type": "markdown",
   "metadata": {},
   "source": [
    "> To show actionable copying and therefore satisfy Feist’s second prong, a plaintiff must first prove that the alleged infringer copied plaintiffs copyrighted work as a factual matter...The plaintiff must then prove that the copying of copyrighted material was so extensive that it rendered the offending and copyrighted works substantially similar."
   ]
  },
  {
   "cell_type": "code",
   "execution_count": 56,
   "metadata": {},
   "outputs": [
    {
     "name": "stdout",
     "output_type": "stream",
     "text": [
      "the Holding to ACCEPT\n",
      "  the Rule that the court MAY SOMETIMES impose the\n",
      "    RESULT:\n",
      "      the Fact that <Borland International> copied constituent elements of <the Lotus menu command hierarchy> that were original\n",
      "    GIVEN:\n",
      "      the Fact that <Borland International> copied <the Lotus menu command hierarchy> in creating <Quattro's Lotus Emulation Interface>\n",
      "      the Fact that the copying of <Quattro's Lotus Emulation Interface> in <the Lotus menu command hierarchy> was so extensive that it rendered them substantially similar\n",
      "    GIVEN the ENACTMENT:\n",
      "      \"Copyright protection subsists, in accordance with this title, in original works of authorship fixed in any tangible medium of expression, now known or later developed, from which they can be perceived, reproduced, or otherwise communicated, either directly or with the aid of a machine or device.\" (Title 17, /us/usc/t17/s102/a)\n"
     ]
    }
   ],
   "source": [
    "print(lotus.holdings[7])"
   ]
  },
  {
   "cell_type": "markdown",
   "metadata": {},
   "source": [
    "> Section 102(b) states: “In no case does copyright protection for an original work of authorship extend to any idea, procedure, process, system, method of operation, concept, principle, or discovery, regardless of the form in which it is described, explained, illustrated, or embodied in such work.” Because we conclude that the Lotus menu command hierarchy is a method of operation, we do not consider whether it could also be a system, process, or procedure...while original expression is necessary for copyright protection, we do not think that it is alone sufficient. Courts must still inquire whether original expression falls within one of the categories foreclosed from copyright protection by § 102(b), such as being a “method of operation.”"
   ]
  },
  {
   "cell_type": "code",
   "execution_count": 57,
   "metadata": {},
   "outputs": [
    {
     "name": "stdout",
     "output_type": "stream",
     "text": [
      "the Holding to ACCEPT\n",
      "  the Rule that the court MUST ALWAYS impose the\n",
      "    RESULT:\n",
      "      the Fact it is false that <the Lotus menu command hierarchy> was copyrightable\n",
      "    GIVEN:\n",
      "      the Fact that <the Lotus menu command hierarchy> was a method of operation\n",
      "    DESPITE:\n",
      "      the Fact that a text described <the Lotus menu command hierarchy>\n",
      "      the Fact that <the Lotus menu command hierarchy> was an original work\n",
      "    GIVEN the ENACTMENTS:\n",
      "      \"In no case does copyright protection for an original work of authorship extend to any\" (Title 17, /us/usc/t17/s102/b)\n",
      "      \"method of operation\" (Title 17, /us/usc/t17/s102/b)\n"
     ]
    }
   ],
   "source": [
    "print(lotus.holdings[8])"
   ]
  },
  {
   "cell_type": "markdown",
   "metadata": {},
   "source": [
    "> We hold that the Lotus menu command hierarchy is an uneopyrightable “method of operation.” The Lotus menu command hierarchy provides the means by which users control and operate Lotus 1-2-3. If users wish to copy material, for example, they use the “Copy” command. If users wish to print material, they use the “Print” command. Users must use the command terms to tell the computer what to do. Without the menu command hierarchy, users would not be able to access and control, or indeed make use of, Lotus 1-2-3’s functional capabilities."
   ]
  },
  {
   "cell_type": "code",
   "execution_count": 58,
   "metadata": {},
   "outputs": [
    {
     "name": "stdout",
     "output_type": "stream",
     "text": [
      "the Holding to ACCEPT\n",
      "  the Rule that the court MAY SOMETIMES impose the\n",
      "    RESULT:\n",
      "      the Fact that <the Lotus menu command hierarchy> was a method of operation\n",
      "    GIVEN:\n",
      "      the Fact that <Lotus 1-2-3> was a computer program\n",
      "      the Fact that <the Lotus menu command hierarchy> provided the means by which users controlled and operated <Lotus 1-2-3>\n",
      "      the Fact that without <the Lotus menu command hierarchy>, users would not have been able to access and control, or indeed make use of, <Lotus 1-2-3>’s functional capabilities\n",
      "      the Fact that for another computer program to by operated in substantially the same way as <Lotus 1-2-3>, the other program would have to copy <the Lotus menu command hierarchy>\n",
      "    DESPITE:\n",
      "      the Fact that the developers of <Lotus 1-2-3> made some expressive choices in choosing and arranging the terms in <the Lotus menu command hierarchy>\n",
      "    GIVEN the ENACTMENTS:\n",
      "      \"In no case does copyright protection for an original work of authorship extend to any\" (Title 17, /us/usc/t17/s102/b)\n",
      "      \"method of operation\" (Title 17, /us/usc/t17/s102/b)\n"
     ]
    }
   ],
   "source": [
    "print(lotus.holdings[9])"
   ]
  },
  {
   "cell_type": "markdown",
   "metadata": {},
   "source": [
    "> We do not think that “methods of operation” are limited to abstractions; rather, they are the means by which a user operates something."
   ]
  },
  {
   "cell_type": "code",
   "execution_count": 59,
   "metadata": {},
   "outputs": [
    {
     "name": "stdout",
     "output_type": "stream",
     "text": [
      "the Holding to ACCEPT\n",
      "  the Rule that the court MAY SOMETIMES impose the\n",
      "    RESULT:\n",
      "      the Fact that <the Lotus menu command hierarchy> was a method of operation\n",
      "    GIVEN:\n",
      "      the Fact that <the Lotus menu command hierarchy> was the means by which a person operated <Lotus 1-2-3>\n",
      "    DESPITE:\n",
      "      the Fact it is false that <the Lotus menu command hierarchy> was an abstraction\n",
      "    GIVEN the ENACTMENTS:\n",
      "      \"In no case does copyright protection for an original work of authorship extend to any\" (Title 17, /us/usc/t17/s102/b)\n",
      "      \"method of operation\" (Title 17, /us/usc/t17/s102/b)\n"
     ]
    }
   ],
   "source": [
    "print(lotus.holdings[10])"
   ]
  },
  {
   "cell_type": "markdown",
   "metadata": {},
   "source": [
    "> In other words, to offer the same capabilities as Lotus 1-2-3, Borland did not have to copy Lotus’s underlying code (and indeed it did not); to 'allow users to operate its programs in substantially the same way, however, Bor-land had to copy the Lotus menu command hierarchy. Thus the Lotus 1-2-3 code is not a uncopyrightable “method of operation.”"
   ]
  },
  {
   "cell_type": "code",
   "execution_count": 60,
   "metadata": {},
   "outputs": [
    {
     "name": "stdout",
     "output_type": "stream",
     "text": [
      "the Holding to ACCEPT\n",
      "  the Rule that the court MAY SOMETIMES impose the\n",
      "    RESULT:\n",
      "      the Fact it is false that <Lotus 1-2-3> was a method of operation\n",
      "    GIVEN:\n",
      "      the Fact that <Lotus 1-2-3> was a computer program\n",
      "      the Fact it is false that the precise formulation of <Lotus 1-2-3>'s code was necessary for it to work\n",
      "    DESPITE:\n",
      "      the Fact that computer code was necessary for <Lotus 1-2-3> to work\n",
      "    GIVEN the ENACTMENTS:\n",
      "      \"In no case does copyright protection for an original work of authorship extend to any\" (Title 17, /us/usc/t17/s102/b)\n",
      "      \"method of operation\" (Title 17, /us/usc/t17/s102/b)\n"
     ]
    }
   ],
   "source": [
    "print(lotus.holdings[11])"
   ]
  },
  {
   "cell_type": "markdown",
   "metadata": {},
   "source": [
    "### *Oracle v. Google* 750 F.3d 1339 (2014)"
   ]
  },
  {
   "cell_type": "markdown",
   "metadata": {},
   "source": [
    "> By statute, a work must be “original” to qualify for copyright protection. 17 U.S.C. § 102(a)."
   ]
  },
  {
   "cell_type": "code",
   "execution_count": 61,
   "metadata": {},
   "outputs": [
    {
     "name": "stdout",
     "output_type": "stream",
     "text": [
      "the Holding to ACCEPT\n",
      "  the Rule that the court MUST SOMETIMES impose the\n",
      "    RESULT:\n",
      "      the Fact it is false that <the Java API> was copyrightable\n",
      "    GIVEN:\n",
      "      the Fact it is false that <the Java API> was an original work\n",
      "    GIVEN the ENACTMENT:\n",
      "      \"Copyright protection subsists, in accordance with this title, in original works of authorship fixed in any tangible medium of expression, now known or later developed, from which they can be perceived, reproduced, or otherwise communicated, either directly or with the aid of a machine or device.\" (Title 17, /us/usc/t17/s102/a)\n"
     ]
    }
   ],
   "source": [
    "print(oracle.holdings[0])"
   ]
  },
  {
   "cell_type": "markdown",
   "metadata": {},
   "source": [
    "> Original, as the term is used in copyright, means only that the work was independently created by the author (as opposed to copied from other works), and that it possesses at least some minimal degree of creativity."
   ]
  },
  {
   "cell_type": "code",
   "execution_count": 62,
   "metadata": {},
   "outputs": [
    {
     "name": "stdout",
     "output_type": "stream",
     "text": [
      "the Holding to ACCEPT\n",
      "  the Rule that the court MUST ALWAYS impose the\n",
      "    RESULT:\n",
      "      the Fact that <the Java API> was an original work\n",
      "    GIVEN:\n",
      "      the Fact that <the Java API> was independently created by the author, as opposed to copied from other works\n",
      "      the Fact that <the Java API> possessed at least some minimal degree of creativity\n",
      "    GIVEN the ENACTMENT:\n",
      "      \"Copyright protection subsists, in accordance with this title, in original works of authorship fixed in any tangible medium of expression, now known or later developed, from which they can be perceived, reproduced, or otherwise communicated, either directly or with the aid of a machine or device.\" (Title 17, /us/usc/t17/s102/a)\n"
     ]
    }
   ],
   "source": [
    "print(oracle.holdings[1])"
   ]
  },
  {
   "cell_type": "markdown",
   "metadata": {},
   "source": [
    "> Copyright protection extends only to the expression of an idea — not to the underlying idea itself...In the Ninth Circuit, while questions regarding originality are considered questions of copyrightability, concepts of merger and scenes a faire are affirmative defenses to claims of infringement."
   ]
  },
  {
   "cell_type": "code",
   "execution_count": 63,
   "metadata": {},
   "outputs": [
    {
     "name": "stdout",
     "output_type": "stream",
     "text": [
      "the Holding to ACCEPT\n",
      "  the Rule that the court MUST SOMETIMES impose the\n",
      "    RESULT:\n",
      "      the Fact that <the Java API> was copyrightable\n",
      "    GIVEN:\n",
      "      the Fact that <the Java API> was an original work\n",
      "      the Fact that <the Java API> was the expression of an idea\n",
      "      the Fact it is false that <the Java API> was an idea\n",
      "    DESPITE:\n",
      "      the Fact that <the Java API> was essentially the only way to express the idea that it embodied\n",
      "      the Fact that <the Java API> was a scene a faire\n",
      "    GIVEN the ENACTMENT:\n",
      "      \"Copyright protection subsists, in accordance with this title, in original works of authorship fixed in any tangible medium of expression, now known or later developed, from which they can be perceived, reproduced, or otherwise communicated, either directly or with the aid of a machine or device.\" (Title 17, /us/usc/t17/s102/a)\n",
      "    DESPITE the ENACTMENT:\n",
      "      \"In no case does copyright protection for an original work of authorship extend to any idea, procedure, process, system, method of operation, concept, principle, or discovery, regardless of the form in which it is described, explained, illustrated, or embodied in such work.\" (Title 17, /us/usc/t17/s102/b)\n"
     ]
    }
   ],
   "source": [
    "print(oracle.holdings[2])"
   ]
  },
  {
   "cell_type": "markdown",
   "metadata": {},
   "source": [
    "> The literal elements of a computer program are the source code and object code."
   ]
  },
  {
   "cell_type": "code",
   "execution_count": 64,
   "metadata": {},
   "outputs": [
    {
     "name": "stdout",
     "output_type": "stream",
     "text": [
      "the Holding to ACCEPT\n",
      "  the Rule that the court MUST ALWAYS impose the\n",
      "    RESULT:\n",
      "      the Fact that <the Java API> was a literal element of <the Java language>\n",
      "    GIVEN:\n",
      "      the Fact that <the Java language> was a computer program\n",
      "      the Fact that <the Java API> was the source code of <the Java language>\n",
      "    GIVEN the ENACTMENTS:\n",
      "      \"Copyright protection subsists, in accordance with this title, in original works of authorship fixed in any tangible medium of expression, now known or later developed, from which they can be perceived, reproduced, or otherwise communicated, either directly or with the aid of a machine or device.\" (Title 17, /us/usc/t17/s102/a)\n",
      "      \"In no case does copyright protection for an original work of authorship extend to any idea, procedure, process, system, method of operation, concept, principle, or discovery, regardless of the form in which it is described, explained, illustrated, or embodied in such work.\" (Title 17, /us/usc/t17/s102/b)\n",
      "\n",
      "\n",
      "the Holding to ACCEPT\n",
      "  the Rule that the court MUST ALWAYS impose the\n",
      "    RESULT:\n",
      "      the Fact that <the Java API> was a literal element of <the Java language>\n",
      "    GIVEN:\n",
      "      the Fact that <the Java language> was a computer program\n",
      "      the Fact that <the Java API> was the object code of <the Java language>\n",
      "    GIVEN the ENACTMENTS:\n",
      "      \"Copyright protection subsists, in accordance with this title, in original works of authorship fixed in any tangible medium of expression, now known or later developed, from which they can be perceived, reproduced, or otherwise communicated, either directly or with the aid of a machine or device.\" (Title 17, /us/usc/t17/s102/a)\n",
      "      \"In no case does copyright protection for an original work of authorship extend to any idea, procedure, process, system, method of operation, concept, principle, or discovery, regardless of the form in which it is described, explained, illustrated, or embodied in such work.\" (Title 17, /us/usc/t17/s102/b)\n"
     ]
    }
   ],
   "source": [
    "print(oracle.holdings[3])\n",
    "print(\"\\n\")\n",
    "print(oracle.holdings[4])"
   ]
  },
  {
   "cell_type": "markdown",
   "metadata": {},
   "source": [
    "> It is well established that copyright protection can extend to both literal and non-literal elements of a computer program. See Altai 982 F.2d at 702."
   ]
  },
  {
   "cell_type": "code",
   "execution_count": 65,
   "metadata": {},
   "outputs": [
    {
     "name": "stdout",
     "output_type": "stream",
     "text": [
      "the Holding to ACCEPT\n",
      "  the Rule that the court MUST SOMETIMES impose the\n",
      "    RESULT:\n",
      "      the Fact that <the Java API> was copyrightable\n",
      "    GIVEN:\n",
      "      the Fact that <the Java language> was a computer program\n",
      "      the Fact that <the Java API> was a literal element of <the Java language>\n",
      "    GIVEN the ENACTMENT:\n",
      "      \"Copyright protection subsists, in accordance with this title, in original works of authorship fixed in any tangible medium of expression, now known or later developed, from which they can be perceived, reproduced, or otherwise communicated, either directly or with the aid of a machine or device.\" (Title 17, /us/usc/t17/s102/a)\n",
      "    DESPITE the ENACTMENT:\n",
      "      \"In no case does copyright protection for an original work of authorship extend to any idea, procedure, process, system, method of operation, concept, principle, or discovery, regardless of the form in which it is described, explained, illustrated, or embodied in such work.\" (Title 17, /us/usc/t17/s102/b)\n"
     ]
    }
   ],
   "source": [
    "print(oracle.holdings[5])"
   ]
  },
  {
   "cell_type": "markdown",
   "metadata": {},
   "source": [
    "> The non-literal components of a computer program include, among other things, the program’s sequence, structure, and organization, as well as the program’s user interface."
   ]
  },
  {
   "cell_type": "code",
   "execution_count": 66,
   "metadata": {},
   "outputs": [
    {
     "name": "stdout",
     "output_type": "stream",
     "text": [
      "the Holding to ACCEPT\n",
      "  the Rule that the court MUST ALWAYS impose the\n",
      "    RESULT:\n",
      "      the Fact that <the Java API> was a non-literal element of <the Java language>\n",
      "    GIVEN:\n",
      "      the Fact that <the Java language> was a computer program\n",
      "      the Fact that <the Java API> was the sequence, structure, and organization of <the Java language>\n",
      "    GIVEN the ENACTMENTS:\n",
      "      \"Copyright protection subsists, in accordance with this title, in original works of authorship fixed in any tangible medium of expression, now known or later developed, from which they can be perceived, reproduced, or otherwise communicated, either directly or with the aid of a machine or device.\" (Title 17, /us/usc/t17/s102/a)\n",
      "      \"In no case does copyright protection for an original work of authorship extend to any idea, procedure, process, system, method of operation, concept, principle, or discovery, regardless of the form in which it is described, explained, illustrated, or embodied in such work.\" (Title 17, /us/usc/t17/s102/b)\n",
      "\n",
      "\n",
      "the Holding to ACCEPT\n",
      "  the Rule that the court MUST ALWAYS impose the\n",
      "    RESULT:\n",
      "      the Fact that <the Java API> was a non-literal element of <the Java language>\n",
      "    GIVEN:\n",
      "      the Fact that <the Java language> was a computer program\n",
      "      the Fact that <the Java API> was the user interface of <the Java language>\n",
      "    GIVEN the ENACTMENTS:\n",
      "      \"Copyright protection subsists, in accordance with this title, in original works of authorship fixed in any tangible medium of expression, now known or later developed, from which they can be perceived, reproduced, or otherwise communicated, either directly or with the aid of a machine or device.\" (Title 17, /us/usc/t17/s102/a)\n",
      "      \"In no case does copyright protection for an original work of authorship extend to any idea, procedure, process, system, method of operation, concept, principle, or discovery, regardless of the form in which it is described, explained, illustrated, or embodied in such work.\" (Title 17, /us/usc/t17/s102/b)\n"
     ]
    }
   ],
   "source": [
    "print(oracle.holdings[6])\n",
    "print(\"\\n\")\n",
    "print(oracle.holdings[7])"
   ]
  },
  {
   "cell_type": "markdown",
   "metadata": {},
   "source": [
    "> It is well established that copyright protection can extend to both literal and non-literal elements of a computer program...As discussed below, whether the non-literal elements of a program “are protected depends on whether, on the particular facts of each case, the component in question qualifies as an expression of an idea, or an idea itself.”"
   ]
  },
  {
   "cell_type": "code",
   "execution_count": 67,
   "metadata": {},
   "outputs": [
    {
     "name": "stdout",
     "output_type": "stream",
     "text": [
      "the Holding to ACCEPT\n",
      "  the Rule that the court MUST SOMETIMES impose the\n",
      "    RESULT:\n",
      "      the Fact that <the Java API> was copyrightable\n",
      "    GIVEN:\n",
      "      the Fact that <the Java language> was a computer program\n",
      "      the Fact that <the Java API> was a non-literal element of <the Java language>\n",
      "      the Fact that <the Java API> was the expression of an idea\n",
      "      the Fact it is false that <the Java API> was an idea\n",
      "    GIVEN the ENACTMENT:\n",
      "      \"Copyright protection subsists, in accordance with this title, in original works of authorship fixed in any tangible medium of expression, now known or later developed, from which they can be perceived, reproduced, or otherwise communicated, either directly or with the aid of a machine or device.\" (Title 17, /us/usc/t17/s102/a)\n",
      "    DESPITE the ENACTMENT:\n",
      "      \"In no case does copyright protection for an original work of authorship extend to any idea, procedure, process, system, method of operation, concept, principle, or discovery, regardless of the form in which it is described, explained, illustrated, or embodied in such work.\" (Title 17, /us/usc/t17/s102/b)\n",
      "\n",
      "\n",
      "the Holding to ACCEPT\n",
      "  the Rule that the court MUST SOMETIMES impose the\n",
      "    RESULT:\n",
      "      the Fact it is false that <the Java API> was copyrightable\n",
      "    GIVEN:\n",
      "      the Fact that <the Java language> was a computer program\n",
      "      the Fact that <the Java API> was a non-literal element of <the Java language>\n",
      "      the Fact it is false that <the Java API> was the expression of an idea\n",
      "      the Fact that <the Java API> was an idea\n",
      "    GIVEN the ENACTMENT:\n",
      "      \"In no case does copyright protection for an original work of authorship extend to any idea, procedure, process, system, method of operation, concept, principle, or discovery, regardless of the form in which it is described, explained, illustrated, or embodied in such work.\" (Title 17, /us/usc/t17/s102/b)\n",
      "    DESPITE the ENACTMENT:\n",
      "      \"Copyright protection subsists, in accordance with this title, in original works of authorship fixed in any tangible medium of expression, now known or later developed, from which they can be perceived, reproduced, or otherwise communicated, either directly or with the aid of a machine or device.\" (Title 17, /us/usc/t17/s102/a)\n"
     ]
    }
   ],
   "source": [
    "print(oracle.holdings[8])\n",
    "print(\"\\n\")\n",
    "print(oracle.holdings[9])"
   ]
  },
  {
   "cell_type": "markdown",
   "metadata": {},
   "source": [
    "> On appeal, Oracle argues that the district court’s reliance on Lotus is misplaced because it is distinguishable on its facts and is inconsistent with Ninth Circuit law. We agree. First, while the defendant in Lotus did not copy any of the underlying code, Google concedes that it copied portions of Oracle’s declaring source code verbatim. Second, the Lotus court found that the commands at issue there (copy, print, etc.) were not creative, but it is undisputed here that the declaring code and the structure and organization of the API packages are both creative and original. Finally, while the court in Lotus found the commands at issue were “essential to operating” the system, it is undisputed that— other than perhaps as to the three core packages — Google did not need to copy the structure, sequence, and organization of the Java API packages to write programs in the Java language.\\nMore importantly, however, the Ninth Circuit has not adopted the court’s “method of operation” reasoning in Lotus, and we conclude that it is inconsistent with binding precedent."
   ]
  },
  {
   "cell_type": "code",
   "execution_count": 68,
   "metadata": {},
   "outputs": [
    {
     "name": "stdout",
     "output_type": "stream",
     "text": [
      "the Holding to ACCEPT\n",
      "  the Rule that the court MUST SOMETIMES impose the\n",
      "    RESULT:\n",
      "      the Fact that <the Java API> was copyrightable\n",
      "    GIVEN:\n",
      "      the Fact that <the Java language> was a computer program\n",
      "      the Fact that <the Java API> was a set of application programming interface declarations\n",
      "      the Fact that <the Java API> was an original work\n",
      "      the Fact that <the Java API> was a non-literal element of <the Java language>\n",
      "      the Fact that <the Java API> was the expression of an idea\n",
      "      the Fact it is false that <the Java API> was essentially the only way to express the idea that it embodied\n",
      "      the Fact that <the Java API> was creative\n",
      "      the Fact that it was possible to use <the Java language> without copying <the Java API>\n",
      "    DESPITE:\n",
      "      the Fact that <the Java API> was a method of operation\n",
      "      the Fact that <the Java API> contained short phrases\n",
      "      the Fact that <the Java API> became so popular that it was the industry standard\n",
      "      the Fact that there was a preexisting community of programmers accustomed to using <the Java API>\n",
      "    GIVEN the ENACTMENT:\n",
      "      \"Copyright protection subsists, in accordance with this title, in original works of authorship fixed in any tangible medium of expression, now known or later developed, from which they can be perceived, reproduced, or otherwise communicated, either directly or with the aid of a machine or device.\" (Title 17, /us/usc/t17/s102/a)\n",
      "    DESPITE the ENACTMENTS:\n",
      "      \"In no case does copyright protection for an original work of authorship extend to any\" (Title 17, /us/usc/t17/s102/b)\n",
      "      \"method of operation\" (Title 17, /us/usc/t17/s102/b)\n",
      "      \"The following are examples of works not subject to copyright and applications for registration of such works cannot be entertained: (a) Words and short phrases such as names, titles, and slogans;\" (Code of Federal Regulations Title 37, /us/cfr/t37/s202.1)\n"
     ]
    }
   ],
   "source": [
    "print(oracle.holdings[10])"
   ]
  },
  {
   "cell_type": "markdown",
   "metadata": {},
   "source": [
    "> In the Ninth Circuit, while questions regarding originality are considered questions of copyrightability, concepts of merger and scenes a faire are affirmative defenses to claims of infringement."
   ]
  },
  {
   "cell_type": "code",
   "execution_count": 69,
   "metadata": {},
   "outputs": [
    {
     "name": "stdout",
     "output_type": "stream",
     "text": [
      "the Holding to ACCEPT\n",
      "  the Rule that the court MUST SOMETIMES impose the\n",
      "    RESULT:\n",
      "      the Fact it is false that <Google> infringed the copyright on <the Java API>\n",
      "    GIVEN:\n",
      "      the Fact that <the Java API> was a scene a faire\n",
      "    DESPITE:\n",
      "      the Fact that <the Java API> was copyrightable\n",
      "    GIVEN the ENACTMENT:\n",
      "      \"In no case does copyright protection for an original work of authorship extend to any idea, procedure, process, system, method of operation, concept, principle, or discovery, regardless of the form in which it is described, explained, illustrated, or embodied in such work.\" (Title 17, /us/usc/t17/s102/b)\n",
      "    DESPITE the ENACTMENT:\n",
      "      \"Copyright protection subsists, in accordance with this title, in original works of authorship fixed in any tangible medium of expression, now known or later developed, from which they can be perceived, reproduced, or otherwise communicated, either directly or with the aid of a machine or device.\" (Title 17, /us/usc/t17/s102/a)\n"
     ]
    }
   ],
   "source": [
    "print(oracle.holdings[11])"
   ]
  },
  {
   "cell_type": "markdown",
   "metadata": {},
   "source": [
    "> In the Ninth Circuit, while questions regarding originality are considered questions of copyrightability, concepts of merger and scenes a faire are affirmative defenses to claims of infringement...Under the merger doctrine, a court will not protect a copyrighted work from infringement if the idea contained therein can be expressed in only one way."
   ]
  },
  {
   "cell_type": "code",
   "execution_count": 70,
   "metadata": {},
   "outputs": [
    {
     "name": "stdout",
     "output_type": "stream",
     "text": [
      "the Holding to ACCEPT\n",
      "  the Rule that the court MUST SOMETIMES impose the\n",
      "    RESULT:\n",
      "      the Fact it is false that <Google> infringed the copyright on <the Java API>\n",
      "    GIVEN:\n",
      "      the Fact that <the Java API> was essentially the only way to express the idea that it embodied\n",
      "    DESPITE:\n",
      "      the Fact that <the Java API> was copyrightable\n",
      "    GIVEN the ENACTMENT:\n",
      "      \"In no case does copyright protection for an original work of authorship extend to any idea, procedure, process, system, method of operation, concept, principle, or discovery, regardless of the form in which it is described, explained, illustrated, or embodied in such work.\" (Title 17, /us/usc/t17/s102/b)\n",
      "    DESPITE the ENACTMENT:\n",
      "      \"Copyright protection subsists, in accordance with this title, in original works of authorship fixed in any tangible medium of expression, now known or later developed, from which they can be perceived, reproduced, or otherwise communicated, either directly or with the aid of a machine or device.\" (Title 17, /us/usc/t17/s102/a)\n",
      "\n",
      "\n",
      "the Holding to ACCEPT\n",
      "  the Rule that the court MUST SOMETIMES impose the\n",
      "    RESULT:\n",
      "      the Fact that <Google> infringed the copyright on <the Java API>\n",
      "    GIVEN:\n",
      "      the Fact that <the Java API> was copyrightable\n",
      "      absence of the Fact that <the Java API> was essentially the only way to express the idea that it embodied\n",
      "      absence of the Fact that <the Java API> was a scene a faire\n",
      "    GIVEN the ENACTMENT:\n",
      "      \"In no case does copyright protection for an original work of authorship extend to any idea, procedure, process, system, method of operation, concept, principle, or discovery, regardless of the form in which it is described, explained, illustrated, or embodied in such work.\" (Title 17, /us/usc/t17/s102/b)\n",
      "    DESPITE the ENACTMENT:\n",
      "      \"Copyright protection subsists, in accordance with this title, in original works of authorship fixed in any tangible medium of expression, now known or later developed, from which they can be perceived, reproduced, or otherwise communicated, either directly or with the aid of a machine or device.\" (Title 17, /us/usc/t17/s102/a)\n"
     ]
    }
   ],
   "source": [
    "print(oracle.holdings[12])\n",
    "print(\"\\n\")\n",
    "print(oracle.holdings[13])"
   ]
  },
  {
   "cell_type": "markdown",
   "metadata": {},
   "source": [
    "#### A Missing Holding\n",
    "\n",
    "The following text represents a rule posited by the Oracle court, but it's not currently possible to create a corresponding Holding object, because AuthoritySpoke doesn't yet include \"Argument\" objects.\n",
    "\n",
    "> Google responds that Oracle waived its right to assert copyrightability based on the 7,000 lines of declaring code by failing “to object to instructions and a verdict form that effectively eliminated that theory from the case.” Appellee Br. 67...We find that Oracle did not waive arguments based on Google’s literal copying of the declaring code."
   ]
  },
  {
   "cell_type": "markdown",
   "metadata": {},
   "source": [
    "> Regardless of when the analysis occurs, we conclude that merger does not apply on the record before us...We have recognized, however, applying Ninth Circuit law, that the “unique arrangement of computer program expression ... does not merge with the process so long as alternate expressions are available.”...The evidence showed that Oracle had “unlimited options as to the selection and arrangement of the 7000 lines Google copied.”...This was not a situation where Oracle was selecting among preordained names and phrases to create its packages."
   ]
  },
  {
   "cell_type": "code",
   "execution_count": 71,
   "metadata": {},
   "outputs": [
    {
     "name": "stdout",
     "output_type": "stream",
     "text": [
      "the Holding to ACCEPT\n",
      "  the Rule that the court MUST SOMETIMES impose the\n",
      "    RESULT:\n",
      "      the Fact it is false that <the Java API> was essentially the only way to express the idea that it embodied\n",
      "    GIVEN:\n",
      "      the Fact that <Sun Microsystems> created <the Java API>\n",
      "      the Fact that when creating <the Java API>, <Sun Microsystems> could have selected and arranged its names and phrases in unlimited different ways\n",
      "    GIVEN the ENACTMENT:\n",
      "      \"Copyright protection subsists, in accordance with this title, in original works of authorship fixed in any tangible medium of expression, now known or later developed, from which they can be perceived, reproduced, or otherwise communicated, either directly or with the aid of a machine or device.\" (Title 17, /us/usc/t17/s102/a)\n",
      "    DESPITE the ENACTMENT:\n",
      "      \"In no case does copyright protection for an original work of authorship extend to any idea, procedure, process, system, method of operation, concept, principle, or discovery, regardless of the form in which it is described, explained, illustrated, or embodied in such work.\" (Title 17, /us/usc/t17/s102/b)\n"
     ]
    }
   ],
   "source": [
    "print(oracle.holdings[14])"
   ]
  },
  {
   "cell_type": "markdown",
   "metadata": {},
   "source": [
    "> the relevant question for copyright-ability purposes is not whether the work at issue contains short phrases — as literary works often do — but, rather, whether those phrases are creative."
   ]
  },
  {
   "cell_type": "code",
   "execution_count": 72,
   "metadata": {},
   "outputs": [
    {
     "name": "stdout",
     "output_type": "stream",
     "text": [
      "the Holding to ACCEPT\n",
      "  the Rule that the court MUST SOMETIMES impose the\n",
      "    RESULT:\n",
      "      the Fact that <the Java API> was copyrightable\n",
      "    GIVEN:\n",
      "      the Fact that <the Java API> was a literary work\n",
      "      the Fact that the short phrases in <the Java API> was creative\n",
      "    DESPITE:\n",
      "      the Fact that <the Java API> contained short phrases\n",
      "    GIVEN the ENACTMENT:\n",
      "      \"Copyright protection subsists, in accordance with this title, in original works of authorship fixed in any tangible medium of expression, now known or later developed, from which they can be perceived, reproduced, or otherwise communicated, either directly or with the aid of a machine or device.\" (Title 17, /us/usc/t17/s102/a)\n",
      "    DESPITE the ENACTMENTS:\n",
      "      \"In no case does copyright protection for an original work of authorship extend to any idea, procedure, process, system, method of operation, concept, principle, or discovery, regardless of the form in which it is described, explained, illustrated, or embodied in such work.\" (Title 17, /us/usc/t17/s102/b)\n",
      "      \"The following are examples of works not subject to copyright and applications for registration of such works cannot be entertained: (a) Words and short phrases such as names, titles, and slogans;\" (Code of Federal Regulations Title 37, /us/cfr/t37/s202.1)\n"
     ]
    }
   ],
   "source": [
    "print(oracle.holdings[15])"
   ]
  },
  {
   "cell_type": "markdown",
   "metadata": {},
   "source": [
    "> In the computer context, “the scene a faire doctrine denies protection to program elements that are dictated by external factors such as ‘the mechanical specifications of the computer on which a particular program is intended to run’ or ‘widely accepted programming practices within the computer industry. Like merger, the focus of the scenes a faire doctrine is on the circumstances presented to the creator, not the copier."
   ]
  },
  {
   "cell_type": "code",
   "execution_count": 73,
   "metadata": {},
   "outputs": [
    {
     "name": "stdout",
     "output_type": "stream",
     "text": [
      "the Holding to ACCEPT\n",
      "  the Rule that the court MAY SOMETIMES impose the\n",
      "    RESULT:\n",
      "      the Fact that <the Java API> was a scene a faire\n",
      "    GIVEN:\n",
      "      the Fact that <the Java language> was a computer program\n",
      "      the Fact that <the Java API> was an element of <the Java language>\n",
      "      the Fact that the creation of <the Java API> was dictated by external factors such as the mechanical specifications of the computer on which <the Java language> was intended to run or widely accepted programming practices within the computer industry\n",
      "    GIVEN the ENACTMENT:\n",
      "      \"In no case does copyright protection for an original work of authorship extend to any idea, procedure, process, system, method of operation, concept, principle, or discovery, regardless of the form in which it is described, explained, illustrated, or embodied in such work.\" (Title 17, /us/usc/t17/s102/b)\n",
      "    DESPITE the ENACTMENT:\n",
      "      \"Copyright protection subsists, in accordance with this title, in original works of authorship fixed in any tangible medium of expression, now known or later developed, from which they can be perceived, reproduced, or otherwise communicated, either directly or with the aid of a machine or device.\" (Title 17, /us/usc/t17/s102/a)\n"
     ]
    }
   ],
   "source": [
    "print(oracle.holdings[16])"
   ]
  },
  {
   "cell_type": "markdown",
   "metadata": {},
   "source": [
    "> Specifically, we find that Lotus is inconsistent with Ninth Circuit case law recognizing that the structure, sequence, and organization of a computer program is eligible for copyright protection where it qualifies as an expression of an idea, rather than the idea itself."
   ]
  },
  {
   "cell_type": "code",
   "execution_count": 74,
   "metadata": {},
   "outputs": [
    {
     "name": "stdout",
     "output_type": "stream",
     "text": [
      "the Holding to ACCEPT\n",
      "  the Rule that the court MAY SOMETIMES impose the\n",
      "    RESULT:\n",
      "      the Fact that <the Java API> was copyrightable\n",
      "    GIVEN:\n",
      "      the Fact that <the Java language> was a computer program\n",
      "      the Fact that <the Java API> was the structure, sequence, and organization of <the Java language>\n",
      "      the Fact that <the Java API> was the expression of an idea\n",
      "      the Fact it is false that <the Java API> was an idea\n",
      "    GIVEN the ENACTMENT:\n",
      "      \"Copyright protection subsists, in accordance with this title, in original works of authorship fixed in any tangible medium of expression, now known or later developed, from which they can be perceived, reproduced, or otherwise communicated, either directly or with the aid of a machine or device.\" (Title 17, /us/usc/t17/s102/a)\n",
      "    DESPITE the ENACTMENT:\n",
      "      \"In no case does copyright protection for an original work of authorship extend to any idea, procedure, process, system, method of operation, concept, principle, or discovery, regardless of the form in which it is described, explained, illustrated, or embodied in such work.\" (Title 17, /us/usc/t17/s102/b)\n"
     ]
    }
   ],
   "source": [
    "print(oracle.holdings[17])"
   ]
  },
  {
   "cell_type": "markdown",
   "metadata": {},
   "source": [
    "> an original work — even one that serves a function — is entitled to copyright protection as long as the author had multiple ways to express the underlying idea. Section 102(b) does not, as Google seems to suggest, automatically deny copyright protection to elements of a computer program that are functional."
   ]
  },
  {
   "cell_type": "code",
   "execution_count": 75,
   "metadata": {},
   "outputs": [
    {
     "name": "stdout",
     "output_type": "stream",
     "text": [
      "the Holding to ACCEPT\n",
      "  the Rule that the court MUST ALWAYS impose the\n",
      "    RESULT:\n",
      "      the Fact that <the Java API> was copyrightable\n",
      "    GIVEN:\n",
      "      the Fact that <the Java API> was an original work\n",
      "      the Fact that <Sun Microsystems> was the author of <the Java API>\n",
      "      the Fact that when creating <the Java API>, <Sun Microsystems> had multiple ways to express its underlying idea\n",
      "    DESPITE:\n",
      "      the Fact that <the Java API> served a function\n",
      "    GIVEN the ENACTMENT:\n",
      "      \"Copyright protection subsists, in accordance with this title, in original works of authorship fixed in any tangible medium of expression, now known or later developed, from which they can be perceived, reproduced, or otherwise communicated, either directly or with the aid of a machine or device.\" (Title 17, /us/usc/t17/s102/a)\n",
      "    DESPITE the ENACTMENT:\n",
      "      \"In no case does copyright protection for an original work of authorship extend to any idea, procedure, process, system, method of operation, concept, principle, or discovery, regardless of the form in which it is described, explained, illustrated, or embodied in such work.\" (Title 17, /us/usc/t17/s102/b)\n"
     ]
    }
   ],
   "source": [
    "print(oracle.holdings[18])"
   ]
  },
  {
   "cell_type": "markdown",
   "metadata": {},
   "source": [
    "> Until either the Supreme Court or Congress tells us otherwise, we are bound to respect the Ninth Circuit’s decision to afford software programs protection under the copyright laws. We thus decline any invitation to declare that protection of software programs should be the domain of patent law, and only patent law."
   ]
  },
  {
   "cell_type": "code",
   "execution_count": 76,
   "metadata": {},
   "outputs": [
    {
     "name": "stdout",
     "output_type": "stream",
     "text": [
      "the Holding to ACCEPT\n",
      "  the Rule that the court MAY SOMETIMES impose the\n",
      "    RESULT:\n",
      "      the Fact that <the Java language> was copyrightable\n",
      "    GIVEN:\n",
      "      the Fact that <the Java language> was a computer program\n",
      "    GIVEN the ENACTMENT:\n",
      "      \"Copyright protection subsists, in accordance with this title, in original works of authorship fixed in any tangible medium of expression, now known or later developed, from which they can be perceived, reproduced, or otherwise communicated, either directly or with the aid of a machine or device.\" (Title 17, /us/usc/t17/s102/a)\n",
      "    DESPITE the ENACTMENT:\n",
      "      \"In no case does copyright protection for an original work of authorship extend to any idea, procedure, process, system, method of operation, concept, principle, or discovery, regardless of the form in which it is described, explained, illustrated, or embodied in such work.\" (Title 17, /us/usc/t17/s102/b)\n"
     ]
    }
   ],
   "source": [
    "print(oracle.holdings[19])"
   ]
  }
 ],
 "metadata": {
  "kernelspec": {
   "display_name": "AuthoritySpoke",
   "language": "python",
   "name": "authorityspoke"
  },
  "language_info": {
   "codemirror_mode": {
    "name": "ipython",
    "version": 3
   },
   "file_extension": ".py",
   "mimetype": "text/x-python",
   "name": "python",
   "nbconvert_exporter": "python",
   "pygments_lexer": "ipython3",
   "version": "3.7.3"
  }
 },
 "nbformat": 4,
 "nbformat_minor": 2
}
