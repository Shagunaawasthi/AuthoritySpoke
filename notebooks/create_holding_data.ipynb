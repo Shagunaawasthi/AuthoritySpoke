{
 "cells": [
  {
   "cell_type": "markdown",
   "metadata": {},
   "source": [
    "This tutorial will show how to create and load objects representing legal Holdings in AuthoritySpoke."
   ]
  },
  {
   "cell_type": "markdown",
   "metadata": {},
   "source": [
    "To get ready, we need to repeat some setup steps we already saw in the `introduction` notebook. First, import the package."
   ]
  },
  {
   "cell_type": "code",
   "execution_count": 1,
   "metadata": {},
   "outputs": [],
   "source": [
    "import authorityspoke\n",
    "from authorityspoke.io.loaders import load_and_read_decision"
   ]
  },
  {
   "cell_type": "markdown",
   "metadata": {},
   "source": [
    "A Holding is an Opinion's interpretation of the meaning of a provision of a legal Code.\n",
    "\n",
    "So we need to load some Opinions."
   ]
  },
  {
   "cell_type": "code",
   "execution_count": 2,
   "metadata": {},
   "outputs": [],
   "source": [
    "oracle = load_and_read_decision(\"oracle_h.json\").majority\n",
    "lotus = load_and_read_decision(\"lotus_h.json\").majority"
   ]
  },
  {
   "cell_type": "markdown",
   "metadata": {},
   "source": [
    "And also load some legal Codes."
   ]
  },
  {
   "cell_type": "code",
   "execution_count": 3,
   "metadata": {},
   "outputs": [],
   "source": [
    "from authorityspoke import Regime\n",
    "\n",
    "from authorityspoke.io.loaders import load_and_read_code\n",
    "\n",
    "usa = Regime()\n",
    "\n",
    "us_constitution = load_and_read_code(\"constitution.xml\")\n",
    "usc_title_17 = load_and_read_code(\"usc17.xml\")\n",
    "code_of_federal_regulations_title_37 = load_and_read_code(\"cfr37.xml\")\n",
    "\n",
    "usa.set_code(us_constitution)\n",
    "usa.set_code(usc_title_17)\n",
    "usa.set_code(code_of_federal_regulations_title_37)"
   ]
  },
  {
   "cell_type": "markdown",
   "metadata": {},
   "source": [
    "Now we're ready to look at the process of describing legal Holdings and loading that information into AuthoritySpoke. In version 0.3, AuthoritySpoke's way of creating Holding objects is to load them from JSON files that need to be created using other tools.\n",
    "\n",
    "A detailed OpenAPI schema specification is available to describe the input format for a list of Holdings. \n",
    "\n",
    "There are also a few shortcuts not mentioned in the specification to make the input format more concise.\n",
    "\n",
    "* Every Holding object contains a Rule, and every Rule contains a Procedure. If you prefer, instead of nesting a Rule object and Procedure object inside the Holding object, you can place all the properties of the Rule and the Procedure directly into the Holding object.\n",
    "\n",
    "* For any Factor or Enactment object, you can add a \"name\" field and assign a unique string value as the name. If you need to refer to the object again in the list of Holdings you're importing, you can replace the object with the name string. This means a Holding object could have \"input\", \"despite\" and \"output\" fields containing lists of string indentifiers of Factors defined elsewhere. Enactment objects can be replaced the same way in the \"enactments\" and \"enactments_despite\" fields."
   ]
  },
  {
   "cell_type": "code",
   "execution_count": 8,
   "metadata": {},
   "outputs": [],
   "source": [
    "from pprint import pprint\n",
    "from authorityspoke.io.api_spec import spec\n",
    "\n",
    "# pprint(spec.to_dict())"
   ]
  },
  {
   "cell_type": "code",
   "execution_count": 4,
   "metadata": {},
   "outputs": [],
   "source": [
    "from authorityspoke.io.loaders import load_holdings\n",
    "\n",
    "oracle_holdings = load_holdings(\"holding_oracle.json\", regime=usa)\n",
    "lotus_holdings = load_holdings(\"holding_lotus.json\", regime=usa)"
   ]
  },
  {
   "cell_type": "markdown",
   "metadata": {},
   "source": [
    "You should also open one of the input JSON files in your own text editor for comparison. You can find them in the folder `example_data/holdings/`."
   ]
  },
  {
   "cell_type": "markdown",
   "metadata": {},
   "source": [
    "The top level of each of these JSON files has two fields: `\"mentioned_factors\"` and `\"holdings\"`. `\"mentioned_factors\"` contains a list of things that need to be mentioned more than once to explain a Holding. Most of these have the type \"Entity\", which is an object with few attributes other than \"name\". However, `\"mentioned_factors\"` can also include items that take their significance from their role in litigation, like a \"Fact\", \"Allegation\", or \"Exhibit\".\n",
    "\n",
    "Here's the `\"mentioned_factors\"` field from `example_data/holdings/holding_oracle.json`:"
   ]
  },
  {
   "cell_type": "markdown",
   "metadata": {},
   "source": [
    "```\n",
    "\"mentioned_factors\": [\n",
    "\n",
    "        {\n",
    "            \"type\": \"entity\",\n",
    "            \"name\": \"Oracle America\"\n",
    "        },\n",
    "        {\n",
    "            \"type\": \"entity\",\n",
    "            \"name\": \"Google\"\n",
    "        },\n",
    "        {\n",
    "            \"type\": \"entity\",\n",
    "            \"name\": \"Sun Microsystems\"\n",
    "        },\n",
    "        {\n",
    "            \"type\": \"entity\",\n",
    "            \"name\": \"the Java API\"\n",
    "        },\n",
    "        {\n",
    "            \"type\": \"entity\",\n",
    "            \"name\": \"the Java language\"\n",
    "        }\n",
    "    ]\n",
    "```"
   ]
  },
  {
   "cell_type": "markdown",
   "metadata": {},
   "source": [
    "\"Oracle America\" and \"Google\" are the names of parties to the case. But \"Sun Microsystems\" is not a party, and \"the Java API\" and \"the Java language\" are intellectual property assets the parties are fighting over. The reason these names need to be assigned the type `Entity` is that it only becomes possible to understand the Holdings of the case if you understand that the \"Google\" mentioned in one Fact is the same thing as the \"Google\" mentioned in another."
   ]
  },
  {
   "cell_type": "markdown",
   "metadata": {},
   "source": [
    "`holding_oracle.json` also contains a list of holdings. These are places where the text of the _Oracle_ opinion endorses legal rules (or sometimes, rejects legal rules). Each of these rules is described procedurally, in terms of inputs and outputs. \n",
    "\n",
    "Each holding in the JSON input may also include an `anchors` field indicating where the holding can be found in the opinion. For instance, the first holding of _Oracle America v. Google_ is the following sentence from the majority opinion:\n",
    "\n",
    "> By statute, a work must be “original” to qualify for copyright protection. 17 U.S.C. § 102(a).\n",
    "\n",
    "The `anchors` field doesn't do much yet in AuthoritySpoke version 0.2, but in future versions it'll help link each Holding to the relevant parts of the Opinion.\n",
    "\n",
    "Now let's look at the part of `holding_oracle.json` representing that first holding."
   ]
  },
  {
   "cell_type": "markdown",
   "metadata": {},
   "source": [
    "```\n",
    "\"holdings\": [{\n",
    "        \"inputs\": {\n",
    "            \"type\": \"fact\",\n",
    "            \"content\": \"the Java API was an original work\",\n",
    "            \"truth\": false\n",
    "        },\n",
    "        \"outputs\": {\n",
    "            \"type\": \"fact\",\n",
    "            \"content\": \"the Java API was copyrightable\",\n",
    "            \"truth\": false\n",
    "        },\n",
    "        \"mandatory\": true,\n",
    "            \"enactments\": {\n",
    "                \"path\": \"/us/usc/t17/s102/a\",\n",
    "                \"exact\": \"Copyright protection subsists, in accordance with this title, in original works of authorship fixed in any tangible medium of expression, now known or later developed, from which they can be perceived, reproduced, or otherwise communicated, either directly or with the aid of a machine or device.\",\n",
    "                \"name\": \"copyright protection provision\"\n",
    "            },\n",
    "            \"anchors\": \"By statute, a work |must be “original” to qualify| for\"\n",
    "    },\n",
    "    ...\n",
    "    ]\n",
    "```"
   ]
  },
  {
   "cell_type": "markdown",
   "metadata": {},
   "source": [
    "To compare the input data to the created Python objects, you can link the Holdings to the Opinions using the `.posit` method. As we look at the parts of the JSON file, the code cells will show how fields from the JSON affect the structure of the Holding object."
   ]
  },
  {
   "cell_type": "code",
   "execution_count": 5,
   "metadata": {},
   "outputs": [
    {
     "name": "stdout",
     "output_type": "stream",
     "text": [
      "the Holding to ACCEPT\n",
      "  the Rule that the court MUST SOMETIMES impose the\n",
      "    RESULT:\n",
      "      the Fact it is false that <the Java API> was copyrightable\n",
      "    GIVEN:\n",
      "      the Fact it is false that <the Java API> was an original work\n",
      "    GIVEN the ENACTMENT:\n",
      "      \"Copyright protection subsists, in accordance with this title, in original works of authorship fixed in any tangible medium of expression, now known or later developed, from which they can be perceived, reproduced, or otherwise communicated, either directly or with the aid of a machine or device.\" (Title 17, /us/usc/t17/s102/a)\n"
     ]
    }
   ],
   "source": [
    "oracle.posit(oracle_holdings)\n",
    "lotus.posit(lotus_holdings)\n",
    "\n",
    "print(oracle.holdings[0])"
   ]
  },
  {
   "cell_type": "markdown",
   "metadata": {},
   "source": [
    "This JSON means that according to the cited enactment, if it's false that \"the Java API was an original work\", then it's mandatory for the court to find it to be false that \"the Java API was copyrightable\".\n",
    "\n",
    "As you can see, Rules in AuthoritySpoke can have \"inputs\" (shown as \"GIVEN\" Factors when you print a Rule object) and \"outputs\" (shown as \"RESULT\" Factors). Inputs are the preconditions for applying the Rule, and outputs are the results. Not shown here, Rules can also have \"despite\" Factors, which are Factors that don't need to be present to trigger the rule, but that don't prevent the rule from applying if they're present. There can be more than one Factor in the \"inputs\", \"outputs\" or \"despite\" categories, and if so they would be listed together in square brackets in the JSON."
   ]
  },
  {
   "cell_type": "code",
   "execution_count": 6,
   "metadata": {},
   "outputs": [
    {
     "name": "stdout",
     "output_type": "stream",
     "text": [
      "the Fact it is false that <the Java API> was an original work\n"
     ]
    }
   ],
   "source": [
    "print(oracle.holdings[0].inputs[0])"
   ]
  },
  {
   "cell_type": "markdown",
   "metadata": {},
   "source": [
    "The JSON representation of a Rule can also have \"mandatory\" and \"universal\" fields. If omitted, the values of these fields are implied as False. \"universal\" means that the Rule applies whenever its inputs are present. \"mandatory\" means that when Rule applies, the court has no discretion and must accept the outputs."
   ]
  },
  {
   "cell_type": "code",
   "execution_count": 7,
   "metadata": {},
   "outputs": [
    {
     "name": "stdout",
     "output_type": "stream",
     "text": [
      "True\n"
     ]
    }
   ],
   "source": [
    "print(oracle.holdings[0].mandatory)"
   ]
  },
  {
   "cell_type": "markdown",
   "metadata": {},
   "source": [
    "The JSON can also contain fields representing Enactments. It identifies a passage of legislative text with a [United States Legislative Markup](https://github.com/usgpo/uslm) identifier that shows the \"path\" to the text. In this case, \"us\" refers to the jurisdiction (the US federal government), \"usc\" refers to the Code (the United States Code), \"t17\" specifies Title 17 of the United States Code, \"s102\" specifies Section 102 of Title 17, and \"a\" specifies subsection (a) of Section 102. If the relevant passage is less than the entire section or subsection, an \"exact\" field can identify the full text of the passage or \"prefix\" and \"suffix\" fields can be used to the phrase by what comes immediately before or after it. Alternatively, a passage can be saved as a `text` field with pipe characters that split it into three parts for \"prefix\", \"exact\", and \"suffix\" fields. You don't need to include \"prefix\" and \"suffix\" if you're sure the phrase you're trying to select only occurs once in the statute subdivision you've cited.\n",
    "\n",
    "For instance, to get just the phrase \"original works of authorship\", we could have used the field:\n",
    "```\n",
    "\"text\": \"in accordance with this title, in|original works of authorship|fixed\"\n",
    "```"
   ]
  },
  {
   "cell_type": "code",
   "execution_count": 8,
   "metadata": {},
   "outputs": [
    {
     "name": "stdout",
     "output_type": "stream",
     "text": [
      "\"Copyright protection subsists, in accordance with this title, in original works of authorship fixed in any tangible medium of expression, now known or later developed, from which they can be perceived, reproduced, or otherwise communicated, either directly or with the aid of a machine or device.\" (Title 17, /us/usc/t17/s102/a)\n"
     ]
    }
   ],
   "source": [
    "print(oracle.holdings[0].enactments[0])"
   ]
  },
  {
   "cell_type": "markdown",
   "metadata": {},
   "source": [
    "The text selector in the example had just an `exact` field, with no `prefix` or `suffix`."
   ]
  },
  {
   "cell_type": "code",
   "execution_count": 9,
   "metadata": {},
   "outputs": [
    {
     "name": "stdout",
     "output_type": "stream",
     "text": [
      "None\n"
     ]
    }
   ],
   "source": [
    "print(oracle.holdings[0].enactments[0].selector.prefix)"
   ]
  },
  {
   "cell_type": "markdown",
   "metadata": {},
   "source": [
    "The \"name\" field is simply a nickname that can be used to refer to the passage again later in the same file."
   ]
  },
  {
   "cell_type": "code",
   "execution_count": 10,
   "metadata": {},
   "outputs": [
    {
     "name": "stdout",
     "output_type": "stream",
     "text": [
      "copyright protection provision\n"
     ]
    }
   ],
   "source": [
    "print(oracle.holdings[0].enactments[0].name)"
   ]
  },
  {
   "cell_type": "markdown",
   "metadata": {},
   "source": [
    "There can also be an \"enactments_despite\" field, which identifies legislative text that doesn't need to be present for the Rule to apply, but that also doesn't negate the validity of the Rule."
   ]
  },
  {
   "cell_type": "markdown",
   "metadata": {},
   "source": [
    "Unfortunately, there's not yet a formal JSON schema for this input, and the interface is still in flux. Keep an eye on [AuthoritySpoke's GitHub repo](https://github.com/mscarey/AuthoritySpoke) for progress or, if you have ideas to move this feature forward, post on the [issues page](https://github.com/mscarey/AuthoritySpoke/issues)."
   ]
  }
 ],
 "metadata": {
  "kernelspec": {
   "display_name": "Python 3",
   "language": "python",
   "name": "python3"
  },
  "language_info": {
   "codemirror_mode": {
    "name": "ipython",
    "version": 3
   },
   "file_extension": ".py",
   "mimetype": "text/x-python",
   "name": "python",
   "nbconvert_exporter": "python",
   "pygments_lexer": "ipython3",
   "version": "3.7.3"
  }
 },
 "nbformat": 4,
 "nbformat_minor": 4
}
